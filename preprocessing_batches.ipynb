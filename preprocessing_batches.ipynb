{
 "cells": [
  {
   "cell_type": "code",
   "execution_count": 4,
   "metadata": {},
   "outputs": [],
   "source": [
    "%matplotlib ipympl\n",
    "import pandas as pd\n",
    "import numpy as np\n",
    "import seaborn as sns\n",
    "import matplotlib.pyplot as plt\n",
    "from sklearn.model_selection import TimeSeriesSplit\n",
    "import pickle # to access dataframe faster than csv\n",
    "import glob, re\n",
    "import os\n",
    "import csv\n",
    "from pathlib import Path\n",
    "import scipy as sp\n"
   ]
  },
  {
   "cell_type": "code",
   "execution_count": null,
   "metadata": {},
   "outputs": [],
   "source": [
    "import networkx\n",
    "import torch_geometric\n",
    "from torch_geometric.utils.convert import from_networkx"
   ]
  },
  {
   "cell_type": "markdown",
   "metadata": {},
   "source": [
    "### Get LCLids to ignore due to limited data"
   ]
  },
  {
   "cell_type": "code",
   "execution_count": 6,
   "metadata": {},
   "outputs": [
    {
     "name": "stdout",
     "output_type": "stream",
     "text": [
      "Number of duplicates:  3\n",
      "because of concatenating 4 batches. 1 id common between every 2 batches\n"
     ]
    }
   ],
   "source": [
    "file = open('preprocessed_dfs/batch_1_durations.pkl', 'rb')\n",
    "df_b1 = pickle.load(file)\n",
    "\n",
    "file = open('preprocessed_dfs/batch_2_durations.pkl', 'rb')\n",
    "df_b2 = pickle.load(file)\n",
    "\n",
    "file = open('preprocessed_dfs/batch_3_durations.pkl', 'rb')\n",
    "df_b3 = pickle.load(file)\n",
    "\n",
    "file = open('preprocessed_dfs/batch_4_durations.pkl', 'rb')\n",
    "df_b4 = pickle.load(file)\n",
    "\n",
    "windows_df_all = pd.concat([df_b1, df_b2, df_b3, df_b4])\n",
    "\n",
    "windows_df_all.sort_values(by=['Duration'], inplace = True)\n",
    "windows_ri_all = windows_df_all.reset_index()\n",
    "windows_ri_all['LCLid'] = windows_ri_all['LCLid'].apply(lambda x: int(re.sub('\\D', '', x)))\n",
    "windows_ri_all.drop(columns = ['index'], inplace = True)\n",
    "# drop duplicates\n",
    "print('Number of duplicates: ', windows_ri_all.duplicated(subset=['LCLid']).sum())\n",
    "print('because of concatenating 4 batches. 1 id common between every 2 batches')\n",
    "windows_ri_uq = windows_ri_all.drop_duplicates(subset = ['LCLid']).copy()"
   ]
  },
  {
   "cell_type": "code",
   "execution_count": 7,
   "metadata": {},
   "outputs": [],
   "source": [
    "# get the list of ignored MACid with zero duration.\n",
    "ignored_ids=windows_ri_all[windows_ri_all['Duration']==pd.Timedelta(0)]['LCLid'] # ids with zero duration\n",
    "ignored_MACs=[f'MAC{lclid:06d}' for lclid in ignored_ids] # "
   ]
  },
  {
   "cell_type": "markdown",
   "metadata": {},
   "source": [
    "### Clean data "
   ]
  },
  {
   "cell_type": "code",
   "execution_count": 8,
   "metadata": {},
   "outputs": [],
   "source": [
    "filenames = sorted(glob.glob('uk-smart-meter-data/LCL-June2015v2_*.csv'))\n",
    "dest_path='uk_smart_meter_cleaned_imputed'"
   ]
  },
  {
   "cell_type": "code",
   "execution_count": 9,
   "metadata": {},
   "outputs": [],
   "source": [
    "tot=0\n",
    "tot_dropped=0\n",
    "stdortou_dict={}\n",
    "if False: # make this true for first time\n",
    "    for filepath in filenames:\n",
    "        filename = filepath.split('/')[-1].split('\\\\')[-1].split('.')[0] # uk-smart-meter-data\\LCL-June2015v2_0.csv >> LCL-June2015v2_0\n",
    "        data = pd.read_csv(filepath) \n",
    "        data['DateTime']=pd.to_datetime(data['DateTime'])\n",
    "        data['minutes'] = data['DateTime'].dt.minute\n",
    "        ## Remove readings not at exact 30 minute intervals.\n",
    "        filtered_data=data[(data['minutes']==0) | (data['minutes']==30)].drop(columns=['minutes'])\n",
    "        \n",
    "        ## Remove duplicates\n",
    "        filtered_data=filtered_data.drop_duplicates(subset=['DateTime', 'LCLid'], keep='last',inplace=False)\n",
    "        \n",
    "        ## Remove data outside 2012-2013\n",
    "        filtered_data=filtered_data[(filtered_data['DateTime'].dt.year >= 2012) & (filtered_data['DateTime'].dt.year <= 2013)]\n",
    "        \n",
    "        ## Ignore LCLids with limited data # remove the rows with LCLid duration 0\n",
    "        filtered_data=filtered_data[~filtered_data['LCLid'].isin(ignored_MACs)]\n",
    "        \n",
    "        for _, row in filtered_data.drop_duplicates(subset=['LCLid']).iterrows():\n",
    "            lclid = row['LCLid']\n",
    "            stdortou = row['stdorToU']\n",
    "            if lclid not in stdortou_dict:\n",
    "                stdortou_dict[lclid] = stdortou\n",
    "        \n",
    "        \n",
    "        filtered_data=filtered_data.drop(columns=['stdorToU'])\n",
    "        ## Save to CSV\n",
    "        filtered_data.reset_index(drop=True,inplace=True)\n",
    "        filtered_data.to_csv(os.path.join(dest_path,f\"{filename}_cleaned\"),index=False)\n",
    "    stdortou_df=pd.DataFrame(list(stdortou_dict.items()),columns=['LCLid','stdorToU'])\n",
    "    stdortou_df.to_csv(os.path.join(dest_path,'stdorTou_mapping.csv'),index=False)"
   ]
  },
  {
   "cell_type": "markdown",
   "metadata": {},
   "source": [
    "### Aggregate over each hour"
   ]
  },
  {
   "cell_type": "code",
   "execution_count": 10,
   "metadata": {},
   "outputs": [],
   "source": [
    "def get_filenum(filename):\n",
    "    match=re.search(r'June2015v2_(\\d+)_cleaned',filename)\n",
    "    return int(match.group(1) if match else float('inf'))"
   ]
  },
  {
   "cell_type": "code",
   "execution_count": 11,
   "metadata": {},
   "outputs": [],
   "source": [
    "# instead of sorting 0,1,100,101,102,... 167, 2, 3, 4, ... i.e., lexicographically, sort numerically 0,1,2,3,... 167\n",
    "filenames = sorted(glob.glob('uk_smart_meter_cleaned_imputed/LCL-June2015v2_*'))\n",
    "filenames=sorted(filenames,key=get_filenum)"
   ]
  },
  {
   "cell_type": "code",
   "execution_count": 12,
   "metadata": {},
   "outputs": [],
   "source": [
    "def process_chunk(chunk_data, prior_data=None, final_chunk=False):\n",
    "    chunk_data['DateTime']=pd.to_datetime(chunk_data['DateTime'])\n",
    "    \n",
    "    if prior_data is not None:\n",
    "        chunk_data=pd.concat([prior_data,chunk_data])\n",
    "        \n",
    "    if ~final_chunk:\n",
    "        last_id=chunk_data['LCLid'].unique()[-1]\n",
    "        prior_data=chunk_data[chunk_data['LCLid']==last_id]\n",
    "        chunk_data=chunk_data[chunk_data['LCLid']!=last_id]\n",
    "        \n",
    "    pivoted_chunk = chunk_data.pivot(index='DateTime', columns='LCLid', values='KWH/hh (per half hour) ')\n",
    "    aggregated_chunk = pivoted_chunk.resample('1h').sum(min_count=1)\n",
    "    return prior_data,aggregated_chunk\n",
    "    "
   ]
  },
  {
   "cell_type": "code",
   "execution_count": 13,
   "metadata": {},
   "outputs": [],
   "source": [
    "if False: # true to create chunks in your local machine\n",
    "    dest_path=\"uk_smart_meter_aggregated\"\n",
    "    chunk_size = 21\n",
    "    data = pd.DataFrame()\n",
    "    data_dict={}\n",
    "    chunk_num=1\n",
    "    for chunk_start in range(0,len(filenames),chunk_size):\n",
    "        chunk_data=pd.DataFrame()\n",
    "        prior_data=None\n",
    "        final_chunk=False\n",
    "        for filename in filenames[chunk_start:chunk_start+chunk_size]:\n",
    "            #print(filename)\n",
    "            chunk_data=pd.concat([chunk_data,pd.read_csv(filename)])\n",
    "        if len(filenames)<=chunk_start+chunk_size:\n",
    "            final_chunk=True\n",
    "        prior_data,agg_chunk=process_chunk(chunk_data,prior_data,final_chunk)\n",
    "        agg_chunk.to_csv(os.path.join(dest_path,f'aggregated_chunk_{chunk_num}.csv'))\n",
    "        print(f\"Chunk {chunk_num} saved.\")\n",
    "        chunk_num+=1\n"
   ]
  },
  {
   "cell_type": "markdown",
   "metadata": {},
   "source": [
    "### Define batch times"
   ]
  },
  {
   "cell_type": "code",
   "execution_count": 5,
   "metadata": {},
   "outputs": [],
   "source": [
    "def blocked_cross_validation(df,train_months=3,test_months=1,overlap_months=0):\n",
    "    \"\"\"\n",
    "    return: list of tuples containing (train_start_date, train_end_date, test_start_date, test_end_date) for year 2012-2013\n",
    "    \"\"\"\n",
    "    blocks=[]\n",
    "    start_date=df['DateTime'].iloc[0]\n",
    "    end_date=df['DateTime'].iloc[-1]\n",
    "    current_train_start=start_date\n",
    "    while current_train_start+pd.DateOffset(months=train_months+test_months)<=end_date:\n",
    "        train_end=current_train_start+pd.DateOffset(months=train_months)-pd.Timedelta(hours=1)\n",
    "        test_start=train_end+pd.Timedelta(hours=1)\n",
    "        test_end = test_start + pd.DateOffset(months=test_months) - pd.Timedelta(hours=1)\n",
    "        blocks.append((current_train_start, train_end, test_start, test_end))\n",
    "        current_train_start = current_train_start + pd.DateOffset(months=train_months + test_months - overlap_months)\n",
    "    return blocks"
   ]
  },
  {
   "cell_type": "code",
   "execution_count": 6,
   "metadata": {},
   "outputs": [],
   "source": [
    "df = pd.DataFrame({\n",
    "    'DateTime': pd.date_range(start='2012-01-01 00:00:00', end='2013-12-31 23:00:00', freq='1h')\n",
    "})\n",
    "train_months=3\n",
    "test_months=1\n",
    "overlap_months=0\n",
    "cv_blocks=blocked_cross_validation(df,train_months,test_months,overlap_months) "
   ]
  },
  {
   "cell_type": "markdown",
   "metadata": {},
   "source": [
    "### Get splits as timestamps"
   ]
  },
  {
   "cell_type": "code",
   "execution_count": 23,
   "metadata": {},
   "outputs": [],
   "source": [
    "def get_windows(start,end,in_window,out_window):\n",
    "    timestamps=[]\n",
    "    in_stamps=[]\n",
    "    out_stamps=[]\n",
    "    current=start\n",
    "    while current+pd.Timedelta(hours=in_window+out_window)<=end+pd.Timedelta(hours=1):\n",
    "        in_stamps.append(pd.date_range(start=current,periods=in_window,freq='h'))\n",
    "        out_stamps.append(pd.date_range(start=current+pd.Timedelta(hours=in_window),periods=out_window,freq='h'))\n",
    "        current+=pd.Timedelta(hours=1)\n",
    "    return in_stamps,out_stamps"
   ]
  },
  {
   "cell_type": "code",
   "execution_count": 66,
   "metadata": {},
   "outputs": [],
   "source": [
    "def get_train_test_times(cv_block,in_window,out_window=6,overlap=False):\n",
    "    train_start,train_end,test_start,test_end=cv_block\n",
    "    train_x,train_y=get_windows(start=train_start,end=train_end,in_window=in_window,out_window=out_window)\n",
    "    test_x,test_y=get_windows(start=test_start,end=test_end,in_window=in_window,out_window=out_window)\n",
    "    # Overlap takes cases where in_window can contain data from training data but out_window is entirely in testing data\n",
    "    if overlap:\n",
    "        overlap_start = train_end - pd.Timedelta(hours=in_window - 1)\n",
    "        overlap_end = test_start + pd.Timedelta(hours=out_window - 1)\n",
    "        overlap_in, overlap_out = get_windows(overlap_start, overlap_end, in_window, out_window)\n",
    "        test_x = overlap_in + test_x\n",
    "        test_y = overlap_out + test_y\n",
    "    return train_x,train_y,test_x,test_y\n",
    "    "
   ]
  },
  {
   "cell_type": "code",
   "execution_count": 67,
   "metadata": {},
   "outputs": [],
   "source": [
    "train_x=[]\n",
    "train_y=[]\n",
    "test_x=[]\n",
    "test_y=[]\n",
    "for block in cv_blocks:\n",
    "    trn_x,trn_y,tst_x,tst_y=get_train_test_times(block,in_window=6,out_window=6,overlap=True)\n",
    "    train_x.append(trn_x)\n",
    "    train_y.append(trn_y)\n",
    "    test_x.append(tst_x)\n",
    "    test_y.append(tst_y)"
   ]
  },
  {
   "cell_type": "code",
   "execution_count": 68,
   "metadata": {},
   "outputs": [
    {
     "data": {
      "text/plain": [
       "(DatetimeIndex(['2012-01-01 00:00:00', '2012-01-01 01:00:00',\n",
       "                '2012-01-01 02:00:00', '2012-01-01 03:00:00',\n",
       "                '2012-01-01 04:00:00', '2012-01-01 05:00:00'],\n",
       "               dtype='datetime64[ns]', freq='h'),\n",
       " DatetimeIndex(['2012-01-01 06:00:00', '2012-01-01 07:00:00',\n",
       "                '2012-01-01 08:00:00', '2012-01-01 09:00:00',\n",
       "                '2012-01-01 10:00:00', '2012-01-01 11:00:00'],\n",
       "               dtype='datetime64[ns]', freq='h'))"
      ]
     },
     "execution_count": 68,
     "metadata": {},
     "output_type": "execute_result"
    }
   ],
   "source": [
    "train_x[0][0],train_y[0][0]"
   ]
  },
  {
   "cell_type": "code",
   "execution_count": 69,
   "metadata": {},
   "outputs": [
    {
     "data": {
      "text/plain": [
       "(DatetimeIndex(['2012-03-31 12:00:00', '2012-03-31 13:00:00',\n",
       "                '2012-03-31 14:00:00', '2012-03-31 15:00:00',\n",
       "                '2012-03-31 16:00:00', '2012-03-31 17:00:00'],\n",
       "               dtype='datetime64[ns]', freq='h'),\n",
       " DatetimeIndex(['2012-03-31 18:00:00', '2012-03-31 19:00:00',\n",
       "                '2012-03-31 20:00:00', '2012-03-31 21:00:00',\n",
       "                '2012-03-31 22:00:00', '2012-03-31 23:00:00'],\n",
       "               dtype='datetime64[ns]', freq='h'))"
      ]
     },
     "execution_count": 69,
     "metadata": {},
     "output_type": "execute_result"
    }
   ],
   "source": [
    "train_x[0][-1],train_y[0][-1]"
   ]
  },
  {
   "cell_type": "code",
   "execution_count": 70,
   "metadata": {},
   "outputs": [
    {
     "data": {
      "text/plain": [
       "(DatetimeIndex(['2012-03-31 18:00:00', '2012-03-31 19:00:00',\n",
       "                '2012-03-31 20:00:00', '2012-03-31 21:00:00',\n",
       "                '2012-03-31 22:00:00', '2012-03-31 23:00:00'],\n",
       "               dtype='datetime64[ns]', freq='h'),\n",
       " DatetimeIndex(['2012-04-01 00:00:00', '2012-04-01 01:00:00',\n",
       "                '2012-04-01 02:00:00', '2012-04-01 03:00:00',\n",
       "                '2012-04-01 04:00:00', '2012-04-01 05:00:00'],\n",
       "               dtype='datetime64[ns]', freq='h'))"
      ]
     },
     "execution_count": 70,
     "metadata": {},
     "output_type": "execute_result"
    }
   ],
   "source": [
    "test_x[0][0],test_y[0][0]"
   ]
  },
  {
   "cell_type": "markdown",
   "metadata": {},
   "source": [
    "### Concatenate the chunk data into a singe dataframe"
   ]
  },
  {
   "cell_type": "code",
   "execution_count": 16,
   "metadata": {},
   "outputs": [],
   "source": [
    "agg_filepaths = sorted(glob.glob('uk_smart_meter_aggregated/aggregated_chunk_*.csv'))\n",
    "\n",
    "if False: # Concatenate all chunks into one cookie\n",
    "    df_agg = pd.DataFrame()\n",
    "    for agg_filepath in agg_filepaths:\n",
    "        df_agg = pd.concat([df_agg, pd.read_csv(agg_filepath, index_col = 'DateTime')], axis = 0) # concatenate with respect to DateTime column\n",
    "    df_agg = df_agg.apply(pd.to_numeric, downcast='float')\n",
    "    df_agg.info()\n",
    "    # pickle the file to save time\n",
    "    df_agg.to_pickle('uk_smart_meter_aggregated/df_agg.pkl')\n",
    "else:\n",
    "    file = open('uk_smart_meter_aggregated/df_agg.pkl','rb')\n",
    "    df_agg = pickle.load(file)\n",
    "\n"
   ]
  },
  {
   "cell_type": "markdown",
   "metadata": {},
   "source": [
    "### What are the LCLids in the aggregated data?"
   ]
  },
  {
   "cell_type": "code",
   "execution_count": 17,
   "metadata": {},
   "outputs": [],
   "source": [
    "# rename df_agg column names; ignore 'MAC0'\n",
    "if True:\n",
    "    numeric_columns = [int(re.search(r'\\d+', item).group()) for item in df_agg.columns.values]\n",
    "    list_lclids_agg = np.array(numeric_columns)"
   ]
  },
  {
   "cell_type": "code",
   "execution_count": 72,
   "metadata": {},
   "outputs": [
    {
     "name": "stdout",
     "output_type": "stream",
     "text": [
      "Aggregated LCLids extracted from the windows data.\n"
     ]
    }
   ],
   "source": [
    "# window data for aggregated LCLids; The ids only for the year 2012-2013 \n",
    "windows_ri_agg = windows_ri_uq[windows_ri_uq['LCLid'].isin(list_lclids_agg)].copy()\n",
    "if windows_ri_agg.shape[0] == list_lclids_agg.shape[0]:\n",
    "    print('Aggregated LCLids extracted from the windows data.')"
   ]
  },
  {
   "cell_type": "markdown",
   "metadata": {},
   "source": [
    "### Generate similarity matrix for this LCLids using k-nearest neigbour and display the graph."
   ]
  },
  {
   "cell_type": "code",
   "execution_count": 73,
   "metadata": {},
   "outputs": [
    {
     "data": {
      "text/html": [
       "<div>\n",
       "<style scoped>\n",
       "    .dataframe tbody tr th:only-of-type {\n",
       "        vertical-align: middle;\n",
       "    }\n",
       "\n",
       "    .dataframe tbody tr th {\n",
       "        vertical-align: top;\n",
       "    }\n",
       "\n",
       "    .dataframe thead th {\n",
       "        text-align: right;\n",
       "    }\n",
       "</style>\n",
       "<table border=\"1\" class=\"dataframe\">\n",
       "  <thead>\n",
       "    <tr style=\"text-align: right;\">\n",
       "      <th></th>\n",
       "      <th>LCLid</th>\n",
       "      <th>Enabled At</th>\n",
       "      <th>Disabled At</th>\n",
       "      <th>Duration</th>\n",
       "    </tr>\n",
       "  </thead>\n",
       "  <tbody>\n",
       "    <tr>\n",
       "      <th>0</th>\n",
       "      <td>2</td>\n",
       "      <td>2012-10-12 00:30:00</td>\n",
       "      <td>2014-02-28</td>\n",
       "      <td>503 days 23:30:00</td>\n",
       "    </tr>\n",
       "    <tr>\n",
       "      <th>1</th>\n",
       "      <td>3</td>\n",
       "      <td>2012-02-20 13:00:00</td>\n",
       "      <td>2014-02-28</td>\n",
       "      <td>738 days 11:00:00</td>\n",
       "    </tr>\n",
       "    <tr>\n",
       "      <th>2</th>\n",
       "      <td>4</td>\n",
       "      <td>2012-05-08 13:00:00</td>\n",
       "      <td>2014-02-28</td>\n",
       "      <td>660 days 11:00:00</td>\n",
       "    </tr>\n",
       "    <tr>\n",
       "      <th>3</th>\n",
       "      <td>5</td>\n",
       "      <td>2012-06-01 10:30:00</td>\n",
       "      <td>2014-02-28</td>\n",
       "      <td>636 days 13:30:00</td>\n",
       "    </tr>\n",
       "    <tr>\n",
       "      <th>4</th>\n",
       "      <td>6</td>\n",
       "      <td>2012-01-30 11:30:00</td>\n",
       "      <td>2014-02-28</td>\n",
       "      <td>759 days 12:30:00</td>\n",
       "    </tr>\n",
       "    <tr>\n",
       "      <th>...</th>\n",
       "      <td>...</td>\n",
       "      <td>...</td>\n",
       "      <td>...</td>\n",
       "      <td>...</td>\n",
       "    </tr>\n",
       "    <tr>\n",
       "      <th>5553</th>\n",
       "      <td>5561</td>\n",
       "      <td>2012-04-24 12:00:00</td>\n",
       "      <td>2014-02-28</td>\n",
       "      <td>674 days 12:00:00</td>\n",
       "    </tr>\n",
       "    <tr>\n",
       "      <th>5554</th>\n",
       "      <td>5562</td>\n",
       "      <td>2012-05-07 00:30:00</td>\n",
       "      <td>2014-02-28</td>\n",
       "      <td>661 days 23:30:00</td>\n",
       "    </tr>\n",
       "    <tr>\n",
       "      <th>5555</th>\n",
       "      <td>5564</td>\n",
       "      <td>2012-07-17 10:00:00</td>\n",
       "      <td>2014-02-28</td>\n",
       "      <td>590 days 14:00:00</td>\n",
       "    </tr>\n",
       "    <tr>\n",
       "      <th>5556</th>\n",
       "      <td>5566</td>\n",
       "      <td>2012-10-03 00:30:00</td>\n",
       "      <td>2014-02-28</td>\n",
       "      <td>512 days 23:30:00</td>\n",
       "    </tr>\n",
       "    <tr>\n",
       "      <th>5557</th>\n",
       "      <td>5567</td>\n",
       "      <td>2012-12-19 22:00:00</td>\n",
       "      <td>2014-02-28</td>\n",
       "      <td>435 days 02:00:00</td>\n",
       "    </tr>\n",
       "  </tbody>\n",
       "</table>\n",
       "<p>5558 rows × 4 columns</p>\n",
       "</div>"
      ],
      "text/plain": [
       "      LCLid          Enabled At Disabled At          Duration\n",
       "0         2 2012-10-12 00:30:00  2014-02-28 503 days 23:30:00\n",
       "1         3 2012-02-20 13:00:00  2014-02-28 738 days 11:00:00\n",
       "2         4 2012-05-08 13:00:00  2014-02-28 660 days 11:00:00\n",
       "3         5 2012-06-01 10:30:00  2014-02-28 636 days 13:30:00\n",
       "4         6 2012-01-30 11:30:00  2014-02-28 759 days 12:30:00\n",
       "...     ...                 ...         ...               ...\n",
       "5553   5561 2012-04-24 12:00:00  2014-02-28 674 days 12:00:00\n",
       "5554   5562 2012-05-07 00:30:00  2014-02-28 661 days 23:30:00\n",
       "5555   5564 2012-07-17 10:00:00  2014-02-28 590 days 14:00:00\n",
       "5556   5566 2012-10-03 00:30:00  2014-02-28 512 days 23:30:00\n",
       "5557   5567 2012-12-19 22:00:00  2014-02-28 435 days 02:00:00\n",
       "\n",
       "[5558 rows x 4 columns]"
      ]
     },
     "execution_count": 73,
     "metadata": {},
     "output_type": "execute_result"
    }
   ],
   "source": [
    "# given dataframe\n",
    "windows_ri_agg.sort_values(by='LCLid', inplace = True)\n",
    "windows_ri_agg.reset_index(inplace = True)\n",
    "windows_ri_agg.drop(columns = ['index'], inplace = True)\n",
    "windows_ri_agg"
   ]
  },
  {
   "cell_type": "code",
   "execution_count": 74,
   "metadata": {},
   "outputs": [],
   "source": [
    "num_nodes_range = range(len(windows_ri_agg.index))"
   ]
  },
  {
   "cell_type": "code",
   "execution_count": 75,
   "metadata": {},
   "outputs": [
    {
     "name": "stdout",
     "output_type": "stream",
     "text": [
      "Number of unique start dates:  2156\n"
     ]
    }
   ],
   "source": [
    "# Sort rows by start date\n",
    "windows_ri_agg.sort_values(by='Enabled At', inplace=True)\n",
    "\n",
    "# Get an ordered list of dates 'Enabled At'\n",
    "enable_unique_dates = windows_ri_agg['Enabled At'].unique()\n",
    "\n",
    "# Get a list of lists of LCLids that have the same start date\n",
    "nbor_lclids = [windows_ri_agg[windows_ri_agg['Enabled At'] == date].index.tolist() for date in enable_unique_dates]\n",
    "print('Number of unique start dates: ', len(enable_unique_dates))\n",
    "assert len(windows_ri_agg) == sum([len(l) for l in nbor_lclids])"
   ]
  },
  {
   "cell_type": "code",
   "execution_count": 76,
   "metadata": {},
   "outputs": [
    {
     "data": {
      "text/plain": [
       "[5557]"
      ]
     },
     "execution_count": 76,
     "metadata": {},
     "output_type": "execute_result"
    }
   ],
   "source": [
    "max(l for l in nbor_lclids)"
   ]
  },
  {
   "cell_type": "code",
   "execution_count": 77,
   "metadata": {},
   "outputs": [],
   "source": [
    "def create_adjacency_matrix(lclids, k):\n",
    "    number_of_nodes = sum([len(l) for l in lclids])\n",
    "    adjacency_matrix = np.zeros((number_of_nodes, number_of_nodes))\n",
    "    # Create the graph by iterating over the list of lists of LCLids\n",
    "    # and connecting all nodes in the list with each other\n",
    "    # and with the k-nearest lists\n",
    "    for i in range(len(lclids)): # range 2156\n",
    "        for j in range(len(lclids)): # range 2156 \n",
    "            if i == j: \n",
    "                for lclid in lclids[i]:\n",
    "                    for lclid2 in lclids[j]:\n",
    "                        adjacency_matrix[lclid, lclid2] = 1\n",
    "            elif abs(i-j) <= k:\n",
    "                for lclid in lclids[i]:\n",
    "                    for lclid2 in lclids[j]:\n",
    "                        adjacency_matrix[lclid, lclid2] = 1\n",
    "    return sp.sparse.bsr_array(adjacency_matrix)"
   ]
  },
  {
   "cell_type": "code",
   "execution_count": 78,
   "metadata": {},
   "outputs": [
    {
     "data": {
      "text/plain": [
       "2156"
      ]
     },
     "execution_count": 78,
     "metadata": {},
     "output_type": "execute_result"
    }
   ],
   "source": [
    "len(nbor_lclids)"
   ]
  },
  {
   "cell_type": "code",
   "execution_count": 79,
   "metadata": {},
   "outputs": [
    {
     "data": {
      "text/plain": [
       "(5558, 5558)"
      ]
     },
     "execution_count": 79,
     "metadata": {},
     "output_type": "execute_result"
    }
   ],
   "source": [
    "adjacency_matrix.shape"
   ]
  },
  {
   "cell_type": "code",
   "execution_count": 80,
   "metadata": {},
   "outputs": [
    {
     "name": "stdout",
     "output_type": "stream",
     "text": [
      "Number of nodes:  5558\n",
      "Graph connected for k=200: True\n",
      "sparsity:  0.7889075406317442\n"
     ]
    },
    {
     "data": {
      "application/vnd.jupyter.widget-view+json": {
       "model_id": "ff7cc3526806461eb17dee5da5bb513f",
       "version_major": 2,
       "version_minor": 0
      },
      "image/png": "[encoded data removed]",
      "text/html": [
       "\n",
       "            <div style=\"display: inline-block;\">\n",
       "                <div class=\"jupyter-widgets widget-label\" style=\"text-align: center;\">\n",
       "                    Figure 1\n",
       "                </div>\n",
       "                <img src='data:image/png;base64,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' width=640.0/>\n",
       "            </div>\n",
       "        "
      ],
      "text/plain": [
       "Canvas(toolbar=Toolbar(toolitems=[('Home', 'Reset original view', 'home', 'home'), ('Back', 'Back to previous …"
      ]
     },
     "metadata": {},
     "output_type": "display_data"
    }
   ],
   "source": [
    "# Create the empty adjacency matrix of the graph\n",
    "number_of_nodes = len(windows_ri_agg.index)\n",
    "\n",
    "print('Number of nodes: ', number_of_nodes)\n",
    "\n",
    "\n",
    "adjacency_matrix = np.zeros((number_of_nodes, number_of_nodes))\n",
    "# K-nearest neighbours\n",
    "k = 200\n",
    "\n",
    "adjacency_matrix = create_adjacency_matrix(nbor_lclids, k)\n",
    "# Compute the sparsity of the adjacency matrix\n",
    "sparsity = 1 - sp.sparse.bsr_matrix.count_nonzero(adjacency_matrix) / np.prod(adjacency_matrix.shape)\n",
    "G = networkx.from_scipy_sparse_array(adjacency_matrix)\n",
    "print(f'Graph connected for k={k}: {networkx.is_connected(G)}')\n",
    "print('sparsity: ', sparsity)\n",
    "\n",
    "plt.spy(sp.sparse.bsr_matrix.toarray(adjacency_matrix))\n",
    "plt.show()"
   ]
  },
  {
   "cell_type": "markdown",
   "metadata": {},
   "source": [
    "### Temporal Learning next!"
   ]
  },
  {
   "cell_type": "code",
   "execution_count": 82,
   "metadata": {},
   "outputs": [
    {
     "data": {
      "text/plain": [
       "Data(edge_index=[2, 6768116], weight=[6768116], num_nodes=5558)"
      ]
     },
     "execution_count": 82,
     "metadata": {},
     "output_type": "execute_result"
    }
   ],
   "source": [
    "pyg_graph = from_networkx(G)\n",
    "pyg_graph"
   ]
  }
 ],
 "metadata": {
  "kernelspec": {
   "display_name": "Python 3 (ipykernel)",
   "language": "python",
   "name": "python3"
  },
  "language_info": {
   "codemirror_mode": {
    "name": "ipython",
    "version": 3
   },
   "file_extension": ".py",
   "mimetype": "text/x-python",
   "name": "python",
   "nbconvert_exporter": "python",
   "pygments_lexer": "ipython3",
   "version": "3.11.6"
  }
 },
 "nbformat": 4,
 "nbformat_minor": 4
}
