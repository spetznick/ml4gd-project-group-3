{
 "cells": [
  {
   "cell_type": "code",
   "execution_count": 1,
   "metadata": {},
   "outputs": [],
   "source": [
    "%matplotlib ipympl\n",
    "import pandas as pd\n",
    "import numpy as np\n",
    "import seaborn as sns\n",
    "import matplotlib.pyplot as plt\n",
    "from sklearn.model_selection import TimeSeriesSplit\n",
    "import pickle # to access dataframe faster than csv\n",
    "import glob, re\n",
    "import os\n",
    "import csv\n",
    "from pathlib import Path"
   ]
  },
  {
   "cell_type": "markdown",
   "metadata": {},
   "source": [
    "### Get LCLids to ignore due to limited data"
   ]
  },
  {
   "cell_type": "code",
   "execution_count": 2,
   "metadata": {},
   "outputs": [
    {
     "name": "stdout",
     "output_type": "stream",
     "text": [
      "Number of duplicates:  3\n",
      "because of concatenating 4 batches. 1 id common between every 2 batches\n"
     ]
    }
   ],
   "source": [
    "file = open('preprocessed_dfs/batch_1_durations.pkl', 'rb')\n",
    "df_b1 = pickle.load(file)\n",
    "\n",
    "file = open('preprocessed_dfs/batch_2_durations.pkl', 'rb')\n",
    "df_b2 = pickle.load(file)\n",
    "\n",
    "file = open('preprocessed_dfs/batch_3_durations.pkl', 'rb')\n",
    "df_b3 = pickle.load(file)\n",
    "\n",
    "file = open('preprocessed_dfs/batch_4_durations.pkl', 'rb')\n",
    "df_b4 = pickle.load(file)\n",
    "\n",
    "windows_df_all = pd.concat([df_b1, df_b2, df_b3, df_b4])\n",
    "\n",
    "windows_df_all.sort_values(by=['Duration'], inplace = True)\n",
    "windows_ri_all = windows_df_all.reset_index()\n",
    "windows_ri_all['LCLid'] = windows_ri_all['LCLid'].apply(lambda x: int(re.sub('\\D', '', x)))\n",
    "windows_ri_all.drop(columns = ['index'], inplace = True)\n",
    "# drop duplicates\n",
    "print('Number of duplicates: ', windows_ri_all.duplicated(subset=['LCLid']).sum())\n",
    "print('because of concatenating 4 batches. 1 id common between every 2 batches')\n",
    "windows_ri_uq = windows_ri_all.drop_duplicates(subset = ['LCLid']).copy()"
   ]
  },
  {
   "cell_type": "code",
   "execution_count": 3,
   "metadata": {},
   "outputs": [],
   "source": [
    "# get the list of ignored MACid with zero duration.\n",
    "ignored_ids=windows_ri_all[windows_ri_all['Duration']==pd.Timedelta(0)]['LCLid'] # ids with zero duration\n",
    "ignored_MACs=[f'MAC{lclid:06d}' for lclid in ignored_ids] # "
   ]
  },
  {
   "cell_type": "markdown",
   "metadata": {},
   "source": [
    "### Clean data "
   ]
  },
  {
   "cell_type": "code",
   "execution_count": 4,
   "metadata": {},
   "outputs": [],
   "source": [
    "filenames = sorted(glob.glob('uk-smart-meter-data/LCL-June2015v2_*.csv'))\n",
    "dest_path='uk_smart_meter_cleaned_imputed'"
   ]
  },
  {
   "cell_type": "code",
   "execution_count": 5,
   "metadata": {},
   "outputs": [],
   "source": [
    "tot=0\n",
    "tot_dropped=0\n",
    "stdortou_dict={}\n",
    "if False: # make this true for first time\n",
    "    for filepath in filenames:\n",
    "        filename = filepath.split('/')[-1].split('\\\\')[-1].split('.')[0] # uk-smart-meter-data\\LCL-June2015v2_0.csv >> LCL-June2015v2_0\n",
    "        data = pd.read_csv(filepath) \n",
    "        data['DateTime']=pd.to_datetime(data['DateTime'])\n",
    "        data['minutes'] = data['DateTime'].dt.minute\n",
    "        ## Remove readings not at exact 30 minute intervals.\n",
    "        filtered_data=data[(data['minutes']==0) | (data['minutes']==30)].drop(columns=['minutes'])\n",
    "        \n",
    "        ## Remove duplicates\n",
    "        filtered_data=filtered_data.drop_duplicates(subset=['DateTime', 'LCLid'], keep='last',inplace=False)\n",
    "        \n",
    "        ## Remove data outside 2012-2013\n",
    "        filtered_data=filtered_data[(filtered_data['DateTime'].dt.year >= 2012) & (filtered_data['DateTime'].dt.year <= 2013)]\n",
    "        \n",
    "        ## Ignore LCLids with limited data # remove the rows with LCLid duration 0\n",
    "        filtered_data=filtered_data[~filtered_data['LCLid'].isin(ignored_MACs)]\n",
    "        \n",
    "        for _, row in filtered_data.drop_duplicates(subset=['LCLid']).iterrows():\n",
    "            lclid = row['LCLid']\n",
    "            stdortou = row['stdorToU']\n",
    "            if lclid not in stdortou_dict:\n",
    "                stdortou_dict[lclid] = stdortou\n",
    "        \n",
    "        \n",
    "        filtered_data=filtered_data.drop(columns=['stdorToU'])\n",
    "        ## Save to CSV\n",
    "        filtered_data.reset_index(drop=True,inplace=True)\n",
    "        filtered_data.to_csv(os.path.join(dest_path,f\"{filename}_cleaned\"),index=False)\n",
    "    stdortou_df=pd.DataFrame(list(stdortou_dict.items()),columns=['LCLid','stdorToU'])\n",
    "    stdortou_df.to_csv(os.path.join(dest_path,'stdorTou_mapping.csv'),index=False)"
   ]
  },
  {
   "cell_type": "markdown",
   "metadata": {},
   "source": [
    "### Aggregate over each hour"
   ]
  },
  {
   "cell_type": "code",
   "execution_count": 6,
   "metadata": {},
   "outputs": [],
   "source": [
    "def get_filenum(filename):\n",
    "    match=re.search(r'June2015v2_(\\d+)_cleaned',filename)\n",
    "    return int(match.group(1) if match else float('inf'))"
   ]
  },
  {
   "cell_type": "code",
   "execution_count": 7,
   "metadata": {},
   "outputs": [],
   "source": [
    "# instead of sorting 0,1,100,101,102,... 167, 2, 3, 4, ... i.e., lexicographically, sort numerically 0,1,2,3,... 167\n",
    "filenames = sorted(glob.glob('uk_smart_meter_cleaned_imputed/LCL-June2015v2_*'))\n",
    "filenames=sorted(filenames,key=get_filenum)"
   ]
  },
  {
   "cell_type": "code",
   "execution_count": 8,
   "metadata": {},
   "outputs": [],
   "source": [
    "def process_chunk(chunk_data, prior_data=None, final_chunk=False):\n",
    "    chunk_data['DateTime']=pd.to_datetime(chunk_data['DateTime'])\n",
    "    \n",
    "    if prior_data is not None:\n",
    "        chunk_data=pd.concat([prior_data,chunk_data])\n",
    "        \n",
    "    if ~final_chunk:\n",
    "        last_id=chunk_data['LCLid'].unique()[-1]\n",
    "        prior_data=chunk_data[chunk_data['LCLid']==last_id]\n",
    "        chunk_data=chunk_data[chunk_data['LCLid']!=last_id]\n",
    "        \n",
    "    pivoted_chunk = chunk_data.pivot(index='DateTime', columns='LCLid', values='KWH/hh (per half hour) ')\n",
    "    aggregated_chunk = pivoted_chunk.resample('1h').sum(min_count=1)\n",
    "    return prior_data,aggregated_chunk\n",
    "    "
   ]
  },
  {
   "cell_type": "code",
   "execution_count": 9,
   "metadata": {},
   "outputs": [],
   "source": [
    "if False: # true to create chunks in your local machine\n",
    "    dest_path=\"uk_smart_meter_aggregated\"\n",
    "    chunk_size = 21\n",
    "    data = pd.DataFrame()\n",
    "    data_dict={}\n",
    "    chunk_num=1\n",
    "    for chunk_start in range(0,len(filenames),chunk_size):\n",
    "        chunk_data=pd.DataFrame()\n",
    "        prior_data=None\n",
    "        final_chunk=False\n",
    "        for filename in filenames[chunk_start:chunk_start+chunk_size]:\n",
    "            #print(filename)\n",
    "            chunk_data=pd.concat([chunk_data,pd.read_csv(filename)])\n",
    "        if len(filenames)<=chunk_start+chunk_size:\n",
    "            final_chunk=True\n",
    "        prior_data,agg_chunk=process_chunk(chunk_data,prior_data,final_chunk)\n",
    "        agg_chunk.to_csv(os.path.join(dest_path,f'aggregated_chunk_{chunk_num}.csv'))\n",
    "        print(f\"Chunk {chunk_num} saved.\")\n",
    "        chunk_num+=1\n"
   ]
  },
  {
   "cell_type": "markdown",
   "metadata": {},
   "source": [
    "### Define batch times"
   ]
  },
  {
   "cell_type": "code",
   "execution_count": 10,
   "metadata": {},
   "outputs": [],
   "source": [
    "def blocked_cross_validation(df,train_months=3,test_months=1,overlap_months=0):\n",
    "    \"\"\"\n",
    "    return: list of tuples containing (train_start_date, train_end_date, test_start_date, test_end_date) for year 2012-2013\n",
    "    \"\"\"\n",
    "    blocks=[]\n",
    "    start_date=df['DateTime'].iloc[0]\n",
    "    end_date=df['DateTime'].iloc[-1]\n",
    "    current_train_start=start_date\n",
    "    while current_train_start+pd.DateOffset(months=train_months+test_months)<=end_date:\n",
    "        train_end=current_train_start+pd.DateOffset(months=train_months)-pd.Timedelta(hours=1)\n",
    "        test_start=train_end+pd.Timedelta(hours=1)\n",
    "        test_end = test_start + pd.DateOffset(months=test_months) - pd.Timedelta(hours=1)\n",
    "        blocks.append((current_train_start, train_end, test_start, test_end))\n",
    "        current_train_start = current_train_start + pd.DateOffset(months=train_months + test_months - overlap_months)\n",
    "    return blocks"
   ]
  },
  {
   "cell_type": "code",
   "execution_count": 11,
   "metadata": {},
   "outputs": [],
   "source": [
    "df = pd.DataFrame({\n",
    "    'DateTime': pd.date_range(start='2012-01-01 00:00:00', end='2013-12-31 23:00:00', freq='1h')\n",
    "})\n",
    "train_months=3\n",
    "test_months=1\n",
    "overlap_months=0\n",
    "cv_blocks=blocked_cross_validation(df,train_months,test_months,overlap_months) "
   ]
  },
  {
   "cell_type": "markdown",
   "metadata": {},
   "source": [
    "### Concatenate the chunk data into a singe dataframe"
   ]
  },
  {
   "cell_type": "code",
   "execution_count": 37,
   "metadata": {},
   "outputs": [],
   "source": [
    "agg_filepaths = sorted(glob.glob('uk_smart_meter_aggregated/aggregated_chunk_*.csv'))\n",
    "\n",
    "if False: # Concatenate all chunks into one cookie\n",
    "    df_agg = pd.DataFrame()\n",
    "    for agg_filepath in agg_filepaths:\n",
    "        df_agg = pd.concat([df_agg, pd.read_csv(agg_filepath, index_col = 'DateTime')], axis = 0) # concatenate with respect to DateTime column\n",
    "    df_agg = df_agg.apply(pd.to_numeric, downcast='float')\n",
    "    df_agg.info()\n",
    "    # pickle the file to save time\n",
    "    df_agg.to_pickle('uk_smart_meter_aggregated/df_agg.pkl')\n",
    "else:\n",
    "    file = open('uk_smart_meter_aggregated/df_agg.pkl','rb')\n",
    "    df_agg = pickle.load(file)\n",
    "\n"
   ]
  },
  {
   "cell_type": "markdown",
   "metadata": {},
   "source": [
    "### What are the LCLids in the aggregated data?"
   ]
  },
  {
   "cell_type": "code",
   "execution_count": 38,
   "metadata": {},
   "outputs": [
    {
     "name": "stdout",
     "output_type": "stream",
     "text": [
      "[2 3 4 6 7]\n"
     ]
    }
   ],
   "source": [
    "# rename df_agg column names; ignore 'MAC0'\n",
    "if True:\n",
    "    numeric_columns = [int(re.search(r'\\d+', item).group()) for item in df_agg.columns.values]\n",
    "    list_lclids_agg = np.array(numeric_columns)"
   ]
  },
  {
   "cell_type": "code",
   "execution_count": 39,
   "metadata": {},
   "outputs": [
    {
     "name": "stdout",
     "output_type": "stream",
     "text": [
      "Aggregated LCLids extracted from the windows data.\n"
     ]
    }
   ],
   "source": [
    "# window data for aggregated LCLids; The ids only for the year 2012-2013 \n",
    "windows_ri_agg = windows_ri_uq[windows_ri_uq['LCLid'].isin(list_lclids_agg)].copy()\n",
    "if windows_ri_agg.shape[0] == list_lclids_agg.shape[0]:\n",
    "    print('Aggregated LCLids extracted from the windows data.')"
   ]
  },
  {
   "cell_type": "markdown",
   "metadata": {},
   "source": [
    "### Generate similarity matrix for this LCLids using k-nearest neigbour and display the graph."
   ]
  },
  {
   "cell_type": "code",
   "execution_count": 40,
   "metadata": {},
   "outputs": [
    {
     "data": {
      "text/html": [
       "<div>\n",
       "<style scoped>\n",
       "    .dataframe tbody tr th:only-of-type {\n",
       "        vertical-align: middle;\n",
       "    }\n",
       "\n",
       "    .dataframe tbody tr th {\n",
       "        vertical-align: top;\n",
       "    }\n",
       "\n",
       "    .dataframe thead th {\n",
       "        text-align: right;\n",
       "    }\n",
       "</style>\n",
       "<table border=\"1\" class=\"dataframe\">\n",
       "  <thead>\n",
       "    <tr style=\"text-align: right;\">\n",
       "      <th></th>\n",
       "      <th>LCLid</th>\n",
       "      <th>Enabled At</th>\n",
       "      <th>Disabled At</th>\n",
       "      <th>Duration</th>\n",
       "    </tr>\n",
       "  </thead>\n",
       "  <tbody>\n",
       "    <tr>\n",
       "      <th>5</th>\n",
       "      <td>2534</td>\n",
       "      <td>2012-07-10 00:30:00</td>\n",
       "      <td>2012-09-23 03:00:00</td>\n",
       "      <td>75 days 02:30:00</td>\n",
       "    </tr>\n",
       "    <tr>\n",
       "      <th>6</th>\n",
       "      <td>3346</td>\n",
       "      <td>2012-09-26 10:30:00</td>\n",
       "      <td>2012-12-22 00:00:00</td>\n",
       "      <td>86 days 13:30:00</td>\n",
       "    </tr>\n",
       "    <tr>\n",
       "      <th>7</th>\n",
       "      <td>3353</td>\n",
       "      <td>2012-09-26 11:00:00</td>\n",
       "      <td>2013-01-10 00:00:00</td>\n",
       "      <td>105 days 13:00:00</td>\n",
       "    </tr>\n",
       "    <tr>\n",
       "      <th>8</th>\n",
       "      <td>3554</td>\n",
       "      <td>2012-10-08 12:30:00</td>\n",
       "      <td>2013-01-24 00:00:00</td>\n",
       "      <td>107 days 11:30:00</td>\n",
       "    </tr>\n",
       "    <tr>\n",
       "      <th>9</th>\n",
       "      <td>3559</td>\n",
       "      <td>2013-10-29 18:23:02</td>\n",
       "      <td>2014-02-28 00:00:00</td>\n",
       "      <td>121 days 05:36:58</td>\n",
       "    </tr>\n",
       "    <tr>\n",
       "      <th>...</th>\n",
       "      <td>...</td>\n",
       "      <td>...</td>\n",
       "      <td>...</td>\n",
       "      <td>...</td>\n",
       "    </tr>\n",
       "    <tr>\n",
       "      <th>5564</th>\n",
       "      <td>150</td>\n",
       "      <td>2011-11-23 10:00:00</td>\n",
       "      <td>2014-02-28 00:00:00</td>\n",
       "      <td>827 days 14:00:00</td>\n",
       "    </tr>\n",
       "    <tr>\n",
       "      <th>5565</th>\n",
       "      <td>149</td>\n",
       "      <td>2011-11-23 10:00:00</td>\n",
       "      <td>2014-02-28 00:00:00</td>\n",
       "      <td>827 days 14:00:00</td>\n",
       "    </tr>\n",
       "    <tr>\n",
       "      <th>5566</th>\n",
       "      <td>148</td>\n",
       "      <td>2011-11-23 10:00:00</td>\n",
       "      <td>2014-02-28 00:00:00</td>\n",
       "      <td>827 days 14:00:00</td>\n",
       "    </tr>\n",
       "    <tr>\n",
       "      <th>5567</th>\n",
       "      <td>147</td>\n",
       "      <td>2011-11-23 10:00:00</td>\n",
       "      <td>2014-02-28 00:00:00</td>\n",
       "      <td>827 days 14:00:00</td>\n",
       "    </tr>\n",
       "    <tr>\n",
       "      <th>5568</th>\n",
       "      <td>145</td>\n",
       "      <td>2011-11-23 09:00:00</td>\n",
       "      <td>2014-02-28 00:00:00</td>\n",
       "      <td>827 days 15:00:00</td>\n",
       "    </tr>\n",
       "  </tbody>\n",
       "</table>\n",
       "<p>5558 rows × 4 columns</p>\n",
       "</div>"
      ],
      "text/plain": [
       "      LCLid          Enabled At         Disabled At          Duration\n",
       "5      2534 2012-07-10 00:30:00 2012-09-23 03:00:00  75 days 02:30:00\n",
       "6      3346 2012-09-26 10:30:00 2012-12-22 00:00:00  86 days 13:30:00\n",
       "7      3353 2012-09-26 11:00:00 2013-01-10 00:00:00 105 days 13:00:00\n",
       "8      3554 2012-10-08 12:30:00 2013-01-24 00:00:00 107 days 11:30:00\n",
       "9      3559 2013-10-29 18:23:02 2014-02-28 00:00:00 121 days 05:36:58\n",
       "...     ...                 ...                 ...               ...\n",
       "5564    150 2011-11-23 10:00:00 2014-02-28 00:00:00 827 days 14:00:00\n",
       "5565    149 2011-11-23 10:00:00 2014-02-28 00:00:00 827 days 14:00:00\n",
       "5566    148 2011-11-23 10:00:00 2014-02-28 00:00:00 827 days 14:00:00\n",
       "5567    147 2011-11-23 10:00:00 2014-02-28 00:00:00 827 days 14:00:00\n",
       "5568    145 2011-11-23 09:00:00 2014-02-28 00:00:00 827 days 15:00:00\n",
       "\n",
       "[5558 rows x 4 columns]"
      ]
     },
     "execution_count": 40,
     "metadata": {},
     "output_type": "execute_result"
    }
   ],
   "source": [
    "# given dataframe\n",
    "windows_ri_agg"
   ]
  },
  {
   "cell_type": "code",
   "execution_count": null,
   "metadata": {},
   "outputs": [],
   "source": []
  }
 ],
 "metadata": {
  "kernelspec": {
   "display_name": "Python 3 (ipykernel)",
   "language": "python",
   "name": "python3"
  },
  "language_info": {
   "codemirror_mode": {
    "name": "ipython",
    "version": 3
   },
   "file_extension": ".py",
   "mimetype": "text/x-python",
   "name": "python",
   "nbconvert_exporter": "python",
   "pygments_lexer": "ipython3",
   "version": "3.11.8"
  }
 },
 "nbformat": 4,
 "nbformat_minor": 4
}
