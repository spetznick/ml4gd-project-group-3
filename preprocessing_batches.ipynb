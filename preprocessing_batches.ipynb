{
 "cells": [
  {
   "cell_type": "code",
   "execution_count": 1,
   "metadata": {},
   "outputs": [],
   "source": [
    "%matplotlib ipympl\n",
    "import pandas as pd\n",
    "import numpy as np\n",
    "import seaborn as sns\n",
    "import matplotlib.pyplot as plt\n",
    "from sklearn.model_selection import TimeSeriesSplit\n",
    "import pickle # to access dataframe faster than csv\n",
    "import glob, re\n",
    "import os\n",
    "import csv"
   ]
  },
  {
   "cell_type": "markdown",
   "metadata": {},
   "source": [
    "### Get LCLids to ignore due to limited data"
   ]
  },
  {
   "cell_type": "code",
   "execution_count": 2,
   "metadata": {},
   "outputs": [],
   "source": [
    "file = open('preprocessed_dfs/batch_1_durations.pkl', 'rb')\n",
    "df_b1 = pickle.load(file)\n",
    "\n",
    "file = open('preprocessed_dfs/batch_2_durations.pkl', 'rb')\n",
    "df_b2 = pickle.load(file)\n",
    "\n",
    "file = open('preprocessed_dfs/batch_3_durations.pkl', 'rb')\n",
    "df_b3 = pickle.load(file)\n",
    "\n",
    "file = open('preprocessed_dfs/batch_4_durations.pkl', 'rb')\n",
    "df_b4 = pickle.load(file)\n",
    "\n",
    "windows_df_all = pd.concat([df_b1, df_b2, df_b3, df_b4])\n",
    "\n",
    "windows_df_all.sort_values(by=['Duration'], inplace = True)\n",
    "windows_ri_all = windows_df_all.reset_index()\n",
    "windows_ri_all['LCLid'] = windows_ri_all['LCLid'].apply(lambda x: int(re.sub('\\D', '', x)))\n",
    "windows_ri_all.drop(columns = ['index'], inplace = True)"
   ]
  },
  {
   "cell_type": "code",
   "execution_count": 3,
   "metadata": {},
   "outputs": [],
   "source": [
    "ignored_ids=windows_ri_all[windows_ri_all['Duration']==pd.Timedelta(0)]['LCLid']\n",
    "ignored_MACs=[f'MAC{lclid:06d}' for lclid in ignored_ids]"
   ]
  },
  {
   "cell_type": "markdown",
   "metadata": {},
   "source": [
    "### Clean data "
   ]
  },
  {
   "cell_type": "code",
   "execution_count": 35,
   "metadata": {},
   "outputs": [],
   "source": [
    "filenames = sorted(glob.glob('uk-smart-meter-data/Partitioned LCL Data/Small LCL Data/LCL-June2015v2_*.csv'))\n",
    "#filenames = sorted(glob.glob('uk_smart_meter_cleaned_imputed/LCL-June2015v2_*'))\n",
    "dest_path='uk_smart_meter_cleaned_imputed'"
   ]
  },
  {
   "cell_type": "code",
   "execution_count": 46,
   "metadata": {},
   "outputs": [],
   "source": [
    "tot=0\n",
    "tot_dropped=0\n",
    "stdortou_dict={}\n",
    "if False:\n",
    "    for filepath in filenames:\n",
    "        filename = filepath.split('/')[-1].split('\\\\')[-1].split('.')[0]\n",
    "        data = pd.read_csv(filepath)\n",
    "        data['DateTime']=pd.to_datetime(data['DateTime'])\n",
    "        data['minutes'] = data['DateTime'].dt.minute\n",
    "        ## Remove readings not at exact 30 minute intervals.\n",
    "        filtered_data=data[(data['minutes']==0) | (data['minutes']==30)].drop(columns=['minutes'])\n",
    "        \n",
    "        ## Remove duplicates\n",
    "        filtered_data=filtered_data.drop_duplicates(subset=['DateTime', 'LCLid'], keep='last',inplace=False)\n",
    "        \n",
    "        ## Remove data outside 2012-2013\n",
    "        filtered_data=filtered_data[(filtered_data['DateTime'].dt.year >= 2012) & (filtered_data['DateTime'].dt.year <= 2013)]\n",
    "        \n",
    "        ## Ignore LCLids with limited data\n",
    "        filtered_data=filtered_data[~filtered_data['LCLid'].isin(ignored_MACs)]\n",
    "\n",
    "        for _, row in filtered_data.drop_duplicates(subset=['LCLid']).iterrows():\n",
    "            lclid = row['LCLid']\n",
    "            stdortou = row['stdorToU']\n",
    "            if lclid not in stdortou_dict:\n",
    "                stdortou_dict[lclid] = stdortou\n",
    "\n",
    "        \n",
    "        filtered_data=filtered_data.drop(columns=['stdorToU'])\n",
    "        ## Save to CSV\n",
    "        filtered_data.reset_index(drop=True,inplace=True)\n",
    "        filtered_data.to_csv(os.path.join(dest_path,f\"{filename}_cleaned\"),index=False)\n",
    "    stdortou_df=pd.DataFrame(list(stdortou_dict.items()),columns=['LCLid','stdorToU'])\n",
    "    stdortou_df.to_csv(os.path.join(dest_path,'stdorTou_mapping.csv'),index=False)"
   ]
  },
  {
   "cell_type": "markdown",
   "metadata": {},
   "source": [
    "### Aggregate over each hour"
   ]
  },
  {
   "cell_type": "code",
   "execution_count": 6,
   "metadata": {},
   "outputs": [],
   "source": [
    "def get_filenum(filename):\n",
    "    match=re.search(r'June2015v2_(\\d+)_cleaned',filename)\n",
    "    return int(match.group(1) if match else float('inf'))"
   ]
  },
  {
   "cell_type": "code",
   "execution_count": 7,
   "metadata": {},
   "outputs": [],
   "source": [
    "filenames = sorted(glob.glob('uk_smart_meter_cleaned_imputed/LCL-June2015v2_*'))\n",
    "filenames=sorted(filenames,key=get_filenum)"
   ]
  },
  {
   "cell_type": "code",
   "execution_count": 19,
   "metadata": {},
   "outputs": [],
   "source": [
    "lclids=[]\n",
    "for filename in filenames:\n",
    "    df=pd.read_csv(filename)\n",
    "    lclids.extend(df['LCLid'].unique())\n",
    "    "
   ]
  },
  {
   "cell_type": "code",
   "execution_count": null,
   "metadata": {},
   "outputs": [],
   "source": [
    "if True:\n",
    "    number_of_files = 21\n",
    "    data = pd.DataFrame()\n",
    "    data_dict={}\n",
    "    for filename in filenames[:number_of_files+1]:\n",
    "        print(filename)\n",
    "        with open(filename,mode='r') as file:\n",
    "            reader=csv.DictReader(file)\n",
    "            for row in reader:\n",
    "                lclid=row['LCLid']\n",
    "                datetime=pd.to_datetime(row['DateTime'])\n",
    "                kwh=row['KWH/hh (per half hour) ']\n",
    "                if lclid not in data_dict:\n",
    "                    data_dict[lclid]=[]\n",
    "                data_dict[lclid].append((datetime,kwh))\n"
   ]
  },
  {
   "cell_type": "code",
   "execution_count": 39,
   "metadata": {},
   "outputs": [],
   "source": [
    "number_of_files = 20\n",
    "data = pd.DataFrame()\n",
    "for filename in filenames[:number_of_files+1]:\n",
    "    data = pd.concat([data, pd.read_csv(filename)])\n"
   ]
  },
  {
   "cell_type": "code",
   "execution_count": 41,
   "metadata": {},
   "outputs": [
    {
     "data": {
      "text/plain": [
       "0         0.000\n",
       "1         0.000\n",
       "2         0.000\n",
       "3         0.000\n",
       "4         0.000\n",
       "          ...  \n",
       "999290    0.051\n",
       "999291    0.020\n",
       "999292    0.050\n",
       "999293    0.033\n",
       "999294    0.020\n",
       "Name: KWH/hh (per half hour) , Length: 20984980, dtype: float64"
      ]
     },
     "execution_count": 41,
     "metadata": {},
     "output_type": "execute_result"
    }
   ],
   "source": [
    "data['KWH/hh (per half hour) ']"
   ]
  },
  {
   "cell_type": "code",
   "execution_count": 42,
   "metadata": {},
   "outputs": [],
   "source": [
    "data['DateTime']=pd.to_datetime(data['DateTime'])\n",
    "df = data.drop(columns=['stdorToU'])"
   ]
  },
  {
   "cell_type": "code",
   "execution_count": 43,
   "metadata": {},
   "outputs": [
    {
     "name": "stdout",
     "output_type": "stream",
     "text": [
      "Number of duplicates:  0\n",
      "Number of duplicates:  0\n"
     ]
    }
   ],
   "source": [
    "print('Number of duplicates: ', df.duplicated(subset=['DateTime', 'LCLid']).sum())\n",
    "df_unique = df.drop_duplicates(subset=['DateTime', 'LCLid'], keep='last')\n",
    "# df_unique = df.groupby(['DateTime', 'LCLid'], as_index=False).mean().reset_index(drop=True)\n",
    "# Counter number of duplicates\n",
    "print('Number of duplicates: ', df_unique.duplicated(subset=['DateTime', 'LCLid']).sum())"
   ]
  },
  {
   "cell_type": "code",
   "execution_count": 44,
   "metadata": {},
   "outputs": [],
   "source": [
    "pivoted = df_unique.pivot(index='DateTime', columns='LCLid', values='KWH/hh (per half hour) ')\n",
    "pivoted['datetime'] = pivoted.index"
   ]
  },
  {
   "cell_type": "code",
   "execution_count": 45,
   "metadata": {},
   "outputs": [
    {
     "data": {
      "text/plain": [
       "Index(['MAC000002', 'MAC000003', 'MAC000004', 'MAC000006', 'MAC000007'], dtype='object', name='LCLid')"
      ]
     },
     "execution_count": 45,
     "metadata": {},
     "output_type": "execute_result"
    }
   ],
   "source": [
    "pivoted.columns[:5]"
   ]
  },
  {
   "cell_type": "code",
   "execution_count": 55,
   "metadata": {},
   "outputs": [
    {
     "data": {
      "text/plain": [
       "LCLid\n",
       "MAC000002           float64\n",
       "MAC000003           float64\n",
       "MAC000004           float64\n",
       "MAC000006           float64\n",
       "MAC000007           float64\n",
       "                  ...      \n",
       "MAC000750           float64\n",
       "MAC000752           float64\n",
       "MAC000753           float64\n",
       "MAC000756           float64\n",
       "datetime     datetime64[ns]\n",
       "Length: 617, dtype: object"
      ]
     },
     "execution_count": 55,
     "metadata": {},
     "output_type": "execute_result"
    }
   ],
   "source": [
    "pivoted.dtypes"
   ]
  },
  {
   "cell_type": "code",
   "execution_count": 59,
   "metadata": {},
   "outputs": [],
   "source": [
    "pivoted=pivoted.drop(columns=['datetime'])\n",
    "# Resample the data into 2-hour intervals and sum the values\n",
    "aggregated_data = pivoted.resample('1h').sum(min_count=1)"
   ]
  }
 ],
 "metadata": {
  "kernelspec": {
   "display_name": ".venv",
   "language": "python",
   "name": "python3"
  },
  "language_info": {
   "codemirror_mode": {
    "name": "ipython",
    "version": 3
   },
   "file_extension": ".py",
   "mimetype": "text/x-python",
   "name": "python",
   "nbconvert_exporter": "python",
   "pygments_lexer": "ipython3",
   "version": "3.11.6"
  }
 },
 "nbformat": 4,
 "nbformat_minor": 2
}
