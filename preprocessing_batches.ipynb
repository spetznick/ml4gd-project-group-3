{
 "cells": [
  {
   "cell_type": "code",
   "execution_count": 1,
   "metadata": {},
   "outputs": [],
   "source": [
    "%matplotlib ipympl\n",
    "import pandas as pd\n",
    "import numpy as np\n",
    "import seaborn as sns\n",
    "import matplotlib.pyplot as plt\n",
    "from sklearn.model_selection import TimeSeriesSplit\n",
    "import pickle # to access dataframe faster than csv\n",
    "import glob, re\n",
    "import os\n",
    "import csv"
   ]
  },
  {
   "cell_type": "markdown",
   "metadata": {},
   "source": [
    "### Get LCLids to ignore due to limited data"
   ]
  },
  {
   "cell_type": "code",
   "execution_count": 2,
   "metadata": {},
   "outputs": [],
   "source": [
    "file = open('preprocessed_dfs/batch_1_durations.pkl', 'rb')\n",
    "df_b1 = pickle.load(file)\n",
    "\n",
    "file = open('preprocessed_dfs/batch_2_durations.pkl', 'rb')\n",
    "df_b2 = pickle.load(file)\n",
    "\n",
    "file = open('preprocessed_dfs/batch_3_durations.pkl', 'rb')\n",
    "df_b3 = pickle.load(file)\n",
    "\n",
    "file = open('preprocessed_dfs/batch_4_durations.pkl', 'rb')\n",
    "df_b4 = pickle.load(file)\n",
    "\n",
    "windows_df_all = pd.concat([df_b1, df_b2, df_b3, df_b4])\n",
    "\n",
    "windows_df_all.sort_values(by=['Duration'], inplace = True)\n",
    "windows_ri_all = windows_df_all.reset_index()\n",
    "windows_ri_all['LCLid'] = windows_ri_all['LCLid'].apply(lambda x: int(re.sub('\\D', '', x)))\n",
    "windows_ri_all.drop(columns = ['index'], inplace = True)"
   ]
  },
  {
   "cell_type": "code",
   "execution_count": 3,
   "metadata": {},
   "outputs": [],
   "source": [
    "ignored_ids=windows_ri_all[windows_ri_all['Duration']==pd.Timedelta(0)]['LCLid']\n",
    "ignored_MACs=[f'MAC{lclid:06d}' for lclid in ignored_ids]"
   ]
  },
  {
   "cell_type": "markdown",
   "metadata": {},
   "source": [
    "### Clean data "
   ]
  },
  {
   "cell_type": "code",
   "execution_count": 4,
   "metadata": {},
   "outputs": [],
   "source": [
    "filenames = sorted(glob.glob('uk-smart-meter-data/Partitioned LCL Data/Small LCL Data/LCL-June2015v2_*.csv'))\n",
    "#filenames = sorted(glob.glob('uk_smart_meter_cleaned_imputed/LCL-June2015v2_*'))\n",
    "dest_path='uk_smart_meter_cleaned_imputed'"
   ]
  },
  {
   "cell_type": "code",
   "execution_count": 5,
   "metadata": {},
   "outputs": [],
   "source": [
    "tot=0\n",
    "tot_dropped=0\n",
    "stdortou_dict={}\n",
    "if False:\n",
    "    for filepath in filenames:\n",
    "        filename = filepath.split('/')[-1].split('\\\\')[-1].split('.')[0]\n",
    "        data = pd.read_csv(filepath)\n",
    "        data['DateTime']=pd.to_datetime(data['DateTime'])\n",
    "        data['minutes'] = data['DateTime'].dt.minute\n",
    "        ## Remove readings not at exact 30 minute intervals.\n",
    "        filtered_data=data[(data['minutes']==0) | (data['minutes']==30)].drop(columns=['minutes'])\n",
    "        \n",
    "        ## Remove duplicates\n",
    "        filtered_data=filtered_data.drop_duplicates(subset=['DateTime', 'LCLid'], keep='last',inplace=False)\n",
    "        \n",
    "        ## Remove data outside 2012-2013\n",
    "        filtered_data=filtered_data[(filtered_data['DateTime'].dt.year >= 2012) & (filtered_data['DateTime'].dt.year <= 2013)]\n",
    "        \n",
    "        ## Ignore LCLids with limited data\n",
    "        filtered_data=filtered_data[~filtered_data['LCLid'].isin(ignored_MACs)]\n",
    "\n",
    "        for _, row in filtered_data.drop_duplicates(subset=['LCLid']).iterrows():\n",
    "            lclid = row['LCLid']\n",
    "            stdortou = row['stdorToU']\n",
    "            if lclid not in stdortou_dict:\n",
    "                stdortou_dict[lclid] = stdortou\n",
    "\n",
    "        \n",
    "        filtered_data=filtered_data.drop(columns=['stdorToU'])\n",
    "        ## Save to CSV\n",
    "        filtered_data.reset_index(drop=True,inplace=True)\n",
    "        filtered_data.to_csv(os.path.join(dest_path,f\"{filename}_cleaned\"),index=False)\n",
    "    stdortou_df=pd.DataFrame(list(stdortou_dict.items()),columns=['LCLid','stdorToU'])\n",
    "    stdortou_df.to_csv(os.path.join(dest_path,'stdorTou_mapping.csv'),index=False)"
   ]
  },
  {
   "cell_type": "markdown",
   "metadata": {},
   "source": [
    "### Aggregate over each hour"
   ]
  },
  {
   "cell_type": "code",
   "execution_count": 6,
   "metadata": {},
   "outputs": [],
   "source": [
    "def get_filenum(filename):\n",
    "    match=re.search(r'June2015v2_(\\d+)_cleaned',filename)\n",
    "    return int(match.group(1) if match else float('inf'))"
   ]
  },
  {
   "cell_type": "code",
   "execution_count": 7,
   "metadata": {},
   "outputs": [],
   "source": [
    "filenames = sorted(glob.glob('uk_smart_meter_cleaned_imputed/LCL-June2015v2_*'))\n",
    "filenames=sorted(filenames,key=get_filenum)"
   ]
  },
  {
   "cell_type": "code",
   "execution_count": 49,
   "metadata": {},
   "outputs": [],
   "source": [
    "def process_chunk(chunk_data, prior_data=None, final_chunk=False):\n",
    "    chunk_data['DateTime']=pd.to_datetime(chunk_data['DateTime'])\n",
    "    \n",
    "    if prior_data is not None:\n",
    "        chunk_data=pd.concat([prior_data,chunk_data])\n",
    "        \n",
    "    if ~final_chunk:\n",
    "        last_id=chunk_data['LCLid'].unique()[-1]\n",
    "        prior_data=chunk_data[chunk_data['LCLid']==last_id]\n",
    "        chunk_data=chunk_data[chunk_data['LCLid']!=last_id]\n",
    "        \n",
    "    pivoted_chunk = chunk_data.pivot(index='DateTime', columns='LCLid', values='KWH/hh (per half hour) ')\n",
    "    aggregated_chunk = pivoted_chunk.resample('1h').sum(min_count=1)\n",
    "    return prior_data,aggregated_chunk\n",
    "    "
   ]
  },
  {
   "cell_type": "code",
   "execution_count": 50,
   "metadata": {},
   "outputs": [
    {
     "name": "stdout",
     "output_type": "stream",
     "text": [
      "Chunk 1 saved.\n",
      "Chunk 2 saved.\n",
      "Chunk 3 saved.\n",
      "Chunk 4 saved.\n",
      "Chunk 5 saved.\n",
      "Chunk 6 saved.\n",
      "Chunk 7 saved.\n",
      "Chunk 8 saved.\n"
     ]
    }
   ],
   "source": [
    "if True:\n",
    "    dest_path=\"uk_smart_meter_aggregated\"\n",
    "    chunk_size = 21\n",
    "    data = pd.DataFrame()\n",
    "    data_dict={}\n",
    "    chunk_num=1\n",
    "    for chunk_start in range(0,len(filenames),chunk_size):\n",
    "        chunk_data=pd.DataFrame()\n",
    "        prior_data=None\n",
    "        final_chunk=False\n",
    "        for filename in filenames[chunk_start:chunk_start+chunk_size]:\n",
    "            #print(filename)\n",
    "            chunk_data=pd.concat([chunk_data,pd.read_csv(filename)])\n",
    "        if len(filenames)<=chunk_start+chunk_size:\n",
    "            final_chunk=True\n",
    "        prior_data,agg_chunk=process_chunk(chunk_data,prior_data,final_chunk)\n",
    "        agg_chunk.to_csv(os.path.join(dest_path,f'aggregated_chunk_{chunk_num}.csv'))\n",
    "        print(f\"Chunk {chunk_num} saved.\")\n",
    "        chunk_num+=1\n"
   ]
  }
 ],
 "metadata": {
  "kernelspec": {
   "display_name": ".venv",
   "language": "python",
   "name": "python3"
  },
  "language_info": {
   "codemirror_mode": {
    "name": "ipython",
    "version": 3
   },
   "file_extension": ".py",
   "mimetype": "text/x-python",
   "name": "python",
   "nbconvert_exporter": "python",
   "pygments_lexer": "ipython3",
   "version": "3.11.6"
  }
 },
 "nbformat": 4,
 "nbformat_minor": 2
}
