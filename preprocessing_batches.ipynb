{
   "cells": [
      {
         "cell_type": "code",
         "execution_count": 1,
         "metadata": {},
         "outputs": [],
         "source": [
            "%matplotlib ipympl\n",
            "import pandas as pd\n",
            "import numpy as np\n",
            "import seaborn as sns\n",
            "import matplotlib.pyplot as plt\n",
            "from sklearn.model_selection import TimeSeriesSplit\n",
            "import pickle # to access dataframe faster than csv\n",
            "import glob, re\n",
            "import os\n",
            "import csv\n",
            "from pathlib import Path\n",
            "import scipy as sp\n"
         ]
      },
      {
         "cell_type": "code",
         "execution_count": 5,
         "metadata": {},
         "outputs": [],
         "source": [
            "import networkx\n",
            "import torch_geometric\n",
            "from torch_geometric.utils.convert import from_networkx"
         ]
      },
      {
         "cell_type": "markdown",
         "metadata": {},
         "source": [
            "### Get LCLids to ignore due to limited data"
         ]
      },
      {
         "cell_type": "code",
         "execution_count": 3,
         "metadata": {},
         "outputs": [
            {
               "name": "stdout",
               "output_type": "stream",
               "text": [
                  "Number of duplicates:  3\n",
                  "because of concatenating 4 batches. 1 id common between every 2 batches\n"
               ]
            },
            {
               "name": "stderr",
               "output_type": "stream",
               "text": [
                  "<>:17: SyntaxWarning: invalid escape sequence '\\D'\n",
                  "<>:17: SyntaxWarning: invalid escape sequence '\\D'\n",
                  "/var/folders/9k/wg_0_d_15d3_g61jr75crzp80000gn/T/ipykernel_1661/1794859936.py:17: SyntaxWarning: invalid escape sequence '\\D'\n",
                  "  windows_ri_all['LCLid'] = windows_ri_all['LCLid'].apply(lambda x: int(re.sub('\\D', '', x)))\n"
               ]
            }
         ],
         "source": [
            "file = open('preprocessed_dfs/batch_1_durations.pkl', 'rb')\n",
            "df_b1 = pickle.load(file)\n",
            "\n",
            "file = open('preprocessed_dfs/batch_2_durations.pkl', 'rb')\n",
            "df_b2 = pickle.load(file)\n",
            "\n",
            "file = open('preprocessed_dfs/batch_3_durations.pkl', 'rb')\n",
            "df_b3 = pickle.load(file)\n",
            "\n",
            "file = open('preprocessed_dfs/batch_4_durations.pkl', 'rb')\n",
            "df_b4 = pickle.load(file)\n",
            "\n",
            "windows_df_all = pd.concat([df_b1, df_b2, df_b3, df_b4])\n",
            "\n",
            "windows_df_all.sort_values(by=['Duration'], inplace = True)\n",
            "windows_ri_all = windows_df_all.reset_index()\n",
            "windows_ri_all['LCLid'] = windows_ri_all['LCLid'].apply(lambda x: int(re.sub('\\D', '', x)))\n",
            "windows_ri_all.drop(columns = ['index'], inplace = True)\n",
            "# drop duplicates\n",
            "print('Number of duplicates: ', windows_ri_all.duplicated(subset=['LCLid']).sum())\n",
            "print('because of concatenating 4 batches. 1 id common between every 2 batches')\n",
            "windows_ri_uq = windows_ri_all.drop_duplicates(subset = ['LCLid']).copy()"
         ]
      },
      {
         "cell_type": "code",
         "execution_count": 4,
         "metadata": {},
         "outputs": [],
         "source": [
            "# get the list of ignored MACid with zero duration.\n",
            "ignored_ids=windows_ri_all[windows_ri_all['Duration']==pd.Timedelta(0)]['LCLid'] # ids with zero duration\n",
            "ignored_MACs=[f'MAC{lclid:06d}' for lclid in ignored_ids] #"
         ]
      },
      {
         "cell_type": "markdown",
         "metadata": {},
         "source": [
            "### Clean data "
         ]
      },
      {
         "cell_type": "code",
         "execution_count": 28,
         "metadata": {},
         "outputs": [],
         "source": [
            "filenames = sorted(glob.glob('uk-smart-meter-data/LCL-June2015v2_*.csv'))\n",
            "dest_path='uk-smart-meter-cleaned-imputed'"
         ]
      },
      {
         "cell_type": "code",
         "execution_count": 29,
         "metadata": {},
         "outputs": [],
         "source": [
            "tot=0\n",
            "tot_dropped=0\n",
            "stdortou_dict={}\n",
            "if True: # make this true for first time\n",
            "    for filepath in filenames:\n",
            "        filename = filepath.split('/')[-1].split('\\\\')[-1].split('.')[0] # uk-smart-meter-data\\LCL-June2015v2_0.csv >> LCL-June2015v2_0\n",
            "        data = pd.read_csv(filepath)\n",
            "        data['DateTime']=pd.to_datetime(data['DateTime'])\n",
            "        data['minutes'] = data['DateTime'].dt.minute\n",
            "        ## Remove readings not at exact 30 minute intervals.\n",
            "        filtered_data=data[(data['minutes']==0) | (data['minutes']==30)].drop(columns=['minutes'])\n",
            "\n",
            "        ## Remove duplicates\n",
            "        filtered_data=filtered_data.drop_duplicates(subset=['DateTime', 'LCLid'], keep='last',inplace=False)\n",
            "\n",
            "        ## Remove data outside 2012-2013\n",
            "        filtered_data=filtered_data[(filtered_data['DateTime'].dt.year >= 2012) & (filtered_data['DateTime'].dt.year <= 2013)]\n",
            "\n",
            "        ## Ignore LCLids with limited data # remove the rows with LCLid duration 0\n",
            "        filtered_data=filtered_data[~filtered_data['LCLid'].isin(ignored_MACs)]\n",
            "\n",
            "        for _, row in filtered_data.drop_duplicates(subset=['LCLid']).iterrows():\n",
            "            lclid = row['LCLid']\n",
            "            stdortou = row['stdorToU']\n",
            "            if lclid not in stdortou_dict:\n",
            "                stdortou_dict[lclid] = stdortou\n",
            "\n",
            "\n",
            "        filtered_data=filtered_data.drop(columns=['stdorToU'])\n",
            "        ## Save to CSV\n",
            "        filtered_data.reset_index(drop=True,inplace=True)\n",
            "        filtered_data.to_csv(os.path.join(dest_path,f\"{filename}-cleaned\"),index=False)\n",
            "    stdortou_df=pd.DataFrame(list(stdortou_dict.items()),columns=['LCLid','stdorToU'])\n",
            "    stdortou_df.to_csv(os.path.join(dest_path,'stdorTou_mapping.csv'),index=False)"
         ]
      },
      {
         "cell_type": "markdown",
         "metadata": {},
         "source": [
            "### Aggregate over each hour"
         ]
      },
      {
         "cell_type": "code",
         "execution_count": 12,
         "metadata": {},
         "outputs": [],
         "source": [
            "def get_filenum(filename):\n",
            "    match=re.search(r'June2015v2_(\\d+)_cleaned',filename)\n",
            "    return int(match.group(1) if match else float('inf'))"
         ]
      },
      {
         "cell_type": "code",
         "execution_count": 13,
         "metadata": {},
         "outputs": [],
         "source": [
            "# instead of sorting 0,1,100,101,102,... 167, 2, 3, 4, ... i.e., lexicographically, sort numerically 0,1,2,3,... 167\n",
            "filenames = sorted(glob.glob('uk_smart_meter_cleaned_imputed/LCL-June2015v2_*'))\n",
            "filenames=sorted(filenames,key=get_filenum)"
         ]
      },
      {
         "cell_type": "code",
         "execution_count": 24,
         "metadata": {},
         "outputs": [],
         "source": [
            "def process_chunk(chunk_data, prior_data=None, final_chunk=False):\n",
            "    chunk_data['DateTime']=pd.to_datetime(chunk_data['DateTime'])\n",
            "\n",
            "    if prior_data is not None:\n",
            "        chunk_data=pd.concat([prior_data,chunk_data])\n",
            "\n",
            "    if ~final_chunk:\n",
            "        last_id=chunk_data['LCLid'].unique()[-1]\n",
            "        prior_data=chunk_data[chunk_data['LCLid']==last_id]\n",
            "        chunk_data=chunk_data[chunk_data['LCLid']!=last_id]\n",
            "\n",
            "    pivoted_chunk = chunk_data.pivot(index='DateTime', columns='LCLid', values='KWH/hh (per half hour) ')\n",
            "    aggregated_chunk = pivoted_chunk.resample('1h').sum(min_count=1)\n",
            "    return prior_data,aggregated_chunk\n"
         ]
      },
      {
         "cell_type": "code",
         "execution_count": 26,
         "metadata": {},
         "outputs": [],
         "source": [
            "if True: # true to create chunks in your local machine\n",
            "    dest_path=\"uk-smart-meter-aggregated\"\n",
            "    chunk_size = 21\n",
            "    data = pd.DataFrame()\n",
            "    data_dict={}\n",
            "    chunk_num=1\n",
            "    for chunk_start in range(0,len(filenames),chunk_size):\n",
            "        chunk_data=pd.DataFrame()\n",
            "        prior_data=None\n",
            "        final_chunk=False\n",
            "        for filename in filenames[chunk_start:chunk_start+chunk_size]:\n",
            "            #print(filename)\n",
            "            chunk_data=pd.concat([chunk_data,pd.read_csv(filename)])\n",
            "        if len(filenames)<=chunk_start+chunk_size:\n",
            "            final_chunk=True\n",
            "        prior_data,agg_chunk=process_chunk(chunk_data,prior_data,final_chunk)\n",
            "        agg_chunk.to_csv(os.path.join(dest_path,f'aggregated_chunk_{chunk_num}.csv'))\n",
            "        print(f\"Chunk {chunk_num} saved.\")\n",
            "        chunk_num+=1\n"
         ]
      },
      {
         "cell_type": "markdown",
         "metadata": {},
         "source": [
            "### Define batch times"
         ]
      },
      {
         "cell_type": "code",
         "execution_count": 16,
         "metadata": {},
         "outputs": [],
         "source": [
            "def blocked_cross_validation(df,train_months=3,test_months=1,overlap_months=0):\n",
            "    \"\"\"\n",
            "    return: list of tuples containing (train_start_date, train_end_date, test_start_date, test_end_date) for year 2012-2013\n",
            "    \"\"\"\n",
            "    blocks=[]\n",
            "    start_date=df['DateTime'].iloc[0]\n",
            "    end_date=df['DateTime'].iloc[-1]\n",
            "    current_train_start=start_date\n",
            "    while current_train_start+pd.DateOffset(months=train_months+test_months)<=end_date:\n",
            "        train_end=current_train_start+pd.DateOffset(months=train_months)-pd.Timedelta(hours=1)\n",
            "        test_start=train_end+pd.Timedelta(hours=1)\n",
            "        test_end = test_start + pd.DateOffset(months=test_months) - pd.Timedelta(hours=1)\n",
            "        blocks.append((current_train_start, train_end, test_start, test_end))\n",
            "        current_train_start = current_train_start + pd.DateOffset(months=train_months + test_months - overlap_months)\n",
            "    return blocks"
         ]
      },
      {
         "cell_type": "code",
         "execution_count": 18,
         "metadata": {},
         "outputs": [],
         "source": [
            "df = pd.DataFrame({\n",
            "    'DateTime': pd.date_range(start='2012-01-01 00:00:00', end='2013-12-31 23:00:00', freq='1h')\n",
            "})\n",
            "train_months=3\n",
            "test_months=1\n",
            "overlap_months=0\n",
            "cv_blocks=blocked_cross_validation(df,train_months,test_months,overlap_months)"
         ]
      },
      {
         "cell_type": "markdown",
         "metadata": {},
         "source": [
            "### Get splits as timestamps"
         ]
      },
      {
         "cell_type": "code",
         "execution_count": 19,
         "metadata": {},
         "outputs": [],
         "source": [
            "def get_windows(start,end,in_window,out_window):\n",
            "    timestamps=[]\n",
            "    in_stamps=[]\n",
            "    out_stamps=[]\n",
            "    current=start\n",
            "    while current+pd.Timedelta(hours=in_window+out_window)<=end+pd.Timedelta(hours=1):\n",
            "        in_stamps.append(pd.date_range(start=current,periods=in_window,freq='h'))\n",
            "        out_stamps.append(pd.date_range(start=current+pd.Timedelta(hours=in_window),periods=out_window,freq='h'))\n",
            "        current+=pd.Timedelta(hours=1)\n",
            "    return in_stamps,out_stamps"
         ]
      },
      {
         "cell_type": "code",
         "execution_count": 20,
         "metadata": {},
         "outputs": [],
         "source": [
            "def get_train_test_times(cv_block,in_window,out_window=6,overlap=False):\n",
            "    train_start,train_end,test_start,test_end=cv_block\n",
            "    train_x,train_y=get_windows(start=train_start,end=train_end,in_window=in_window,out_window=out_window)\n",
            "    test_x,test_y=get_windows(start=test_start,end=test_end,in_window=in_window,out_window=out_window)\n",
            "    # Overlap takes cases where in_window can contain data from training data but out_window is entirely in testing data\n",
            "    if overlap:\n",
            "        overlap_start = train_end - pd.Timedelta(hours=in_window - 1)\n",
            "        overlap_end = test_start + pd.Timedelta(hours=out_window - 1)\n",
            "        overlap_in, overlap_out = get_windows(overlap_start, overlap_end, in_window, out_window)\n",
            "        test_x = overlap_in + test_x\n",
            "        test_y = overlap_out + test_y\n",
            "    return train_x,train_y,test_x,test_y\n"
         ]
      },
      {
         "cell_type": "code",
         "execution_count": 22,
         "metadata": {},
         "outputs": [],
         "source": [
            "train_x=[]\n",
            "train_y=[]\n",
            "test_x=[]\n",
            "test_y=[]\n",
            "for block in cv_blocks:\n",
            "    trn_x,trn_y,tst_x,tst_y=get_train_test_times(block,in_window=6,out_window=6,overlap=True)\n",
            "    train_x.append(trn_x)\n",
            "    train_y.append(trn_y)\n",
            "    test_x.append(tst_x)\n",
            "    test_y.append(tst_y)"
         ]
      },
      {
         "cell_type": "code",
         "execution_count": 23,
         "metadata": {},
         "outputs": [
            {
               "data": {
                  "text/plain": [
                     "(DatetimeIndex(['2012-01-01 00:00:00', '2012-01-01 01:00:00',\n",
                     "                '2012-01-01 02:00:00', '2012-01-01 03:00:00',\n",
                     "                '2012-01-01 04:00:00', '2012-01-01 05:00:00'],\n",
                     "               dtype='datetime64[ns]', freq='h'),\n",
                     " DatetimeIndex(['2012-01-01 06:00:00', '2012-01-01 07:00:00',\n",
                     "                '2012-01-01 08:00:00', '2012-01-01 09:00:00',\n",
                     "                '2012-01-01 10:00:00', '2012-01-01 11:00:00'],\n",
                     "               dtype='datetime64[ns]', freq='h'))"
                  ]
               },
               "execution_count": 23,
               "metadata": {},
               "output_type": "execute_result"
            }
         ],
         "source": [
            "train_x[0][0],train_y[0][0]"
         ]
      },
      {
         "cell_type": "code",
         "execution_count": 69,
         "metadata": {},
         "outputs": [
            {
               "data": {
                  "text/plain": [
                     "(DatetimeIndex(['2012-03-31 12:00:00', '2012-03-31 13:00:00',\n",
                     "                '2012-03-31 14:00:00', '2012-03-31 15:00:00',\n",
                     "                '2012-03-31 16:00:00', '2012-03-31 17:00:00'],\n",
                     "               dtype='datetime64[ns]', freq='h'),\n",
                     " DatetimeIndex(['2012-03-31 18:00:00', '2012-03-31 19:00:00',\n",
                     "                '2012-03-31 20:00:00', '2012-03-31 21:00:00',\n",
                     "                '2012-03-31 22:00:00', '2012-03-31 23:00:00'],\n",
                     "               dtype='datetime64[ns]', freq='h'))"
                  ]
               },
               "execution_count": 69,
               "metadata": {},
               "output_type": "execute_result"
            }
         ],
         "source": [
            "train_x[0][-1],train_y[0][-1]"
         ]
      },
      {
         "cell_type": "code",
         "execution_count": 70,
         "metadata": {},
         "outputs": [
            {
               "data": {
                  "text/plain": [
                     "(DatetimeIndex(['2012-03-31 18:00:00', '2012-03-31 19:00:00',\n",
                     "                '2012-03-31 20:00:00', '2012-03-31 21:00:00',\n",
                     "                '2012-03-31 22:00:00', '2012-03-31 23:00:00'],\n",
                     "               dtype='datetime64[ns]', freq='h'),\n",
                     " DatetimeIndex(['2012-04-01 00:00:00', '2012-04-01 01:00:00',\n",
                     "                '2012-04-01 02:00:00', '2012-04-01 03:00:00',\n",
                     "                '2012-04-01 04:00:00', '2012-04-01 05:00:00'],\n",
                     "               dtype='datetime64[ns]', freq='h'))"
                  ]
               },
               "execution_count": 70,
               "metadata": {},
               "output_type": "execute_result"
            }
         ],
         "source": [
            "test_x[0][0],test_y[0][0]"
         ]
      },
      {
         "cell_type": "markdown",
         "metadata": {},
         "source": [
            "### Concatenate the chunk data into a singe dataframe"
         ]
      },
      {
         "cell_type": "code",
         "execution_count": 27,
         "metadata": {},
         "outputs": [
            {
               "name": "stdout",
               "output_type": "stream",
               "text": [
                  "<class 'pandas.core.frame.DataFrame'>\n",
                  "RangeIndex: 0 entries\n",
                  "Empty DataFrame\n"
               ]
            }
         ],
         "source": [
            "agg_filepaths = sorted(glob.glob('uk-smart-meter-aggregated/aggregated_chunk_*.csv'))\n",
            "\n",
            "if True: # Concatenate all chunks into one cookie\n",
            "    df_agg = pd.DataFrame()\n",
            "    for agg_filepath in agg_filepaths:\n",
            "        df_agg = pd.concat([df_agg, pd.read_csv(agg_filepath, index_col = 'DateTime')], axis = 0) # concatenate with respect to DateTime column\n",
            "    df_agg = df_agg.apply(pd.to_numeric, downcast='float')\n",
            "    df_agg.info()\n",
            "    # pickle the file to save time\n",
            "    df_agg.to_pickle('uk-smart-meter-aggregated/df_agg.pkl')\n",
            "else:\n",
            "    file = open('uk-smart-meter-aggregated/df_agg.pkl','rb')\n",
            "    df_agg = pickle.load(file)\n",
            "\n"
         ]
      },
      {
         "cell_type": "markdown",
         "metadata": {},
         "source": [
            "### What are the LCLids in the aggregated data?"
         ]
      },
      {
         "cell_type": "code",
         "execution_count": 27,
         "metadata": {},
         "outputs": [],
         "source": [
            "# rename df_agg column names; ignore 'MAC0'\n",
            "if True:\n",
            "    numeric_columns = [int(re.search(r'\\d+', item).group()) for item in df_agg.columns.values]\n",
            "    list_lclids_agg = np.array(numeric_columns)"
         ]
      },
      {
         "cell_type": "code",
         "execution_count": 28,
         "metadata": {},
         "outputs": [
            {
               "name": "stdout",
               "output_type": "stream",
               "text": [
                  "Aggregated LCLids extracted from the windows data.\n"
               ]
            }
         ],
         "source": [
            "# window data for aggregated LCLids; The ids only for the year 2012-2013\n",
            "windows_ri_agg = windows_ri_uq[windows_ri_uq['LCLid'].isin(list_lclids_agg)].copy()\n",
            "if windows_ri_agg.shape[0] == list_lclids_agg.shape[0]:\n",
            "    print('Aggregated LCLids extracted from the windows data.')"
         ]
      },
      {
         "cell_type": "markdown",
         "metadata": {},
         "source": [
            "### Generate similarity matrix for this LCLids using k-nearest neigbour and display the graph."
         ]
      },
      {
         "cell_type": "code",
         "execution_count": 29,
         "metadata": {},
         "outputs": [
            {
               "data": {
                  "text/html": [
                     "<div>\n",
                     "<style scoped>\n",
                     "    .dataframe tbody tr th:only-of-type {\n",
                     "        vertical-align: middle;\n",
                     "    }\n",
                     "\n",
                     "    .dataframe tbody tr th {\n",
                     "        vertical-align: top;\n",
                     "    }\n",
                     "\n",
                     "    .dataframe thead th {\n",
                     "        text-align: right;\n",
                     "    }\n",
                     "</style>\n",
                     "<table border=\"1\" class=\"dataframe\">\n",
                     "  <thead>\n",
                     "    <tr style=\"text-align: right;\">\n",
                     "      <th></th>\n",
                     "      <th>LCLid</th>\n",
                     "      <th>Enabled At</th>\n",
                     "      <th>Disabled At</th>\n",
                     "      <th>Duration</th>\n",
                     "    </tr>\n",
                     "  </thead>\n",
                     "  <tbody>\n",
                     "    <tr>\n",
                     "      <th>0</th>\n",
                     "      <td>2</td>\n",
                     "      <td>2012-10-12 00:30:00</td>\n",
                     "      <td>2014-02-28</td>\n",
                     "      <td>503 days 23:30:00</td>\n",
                     "    </tr>\n",
                     "    <tr>\n",
                     "      <th>1</th>\n",
                     "      <td>3</td>\n",
                     "      <td>2012-02-20 13:00:00</td>\n",
                     "      <td>2014-02-28</td>\n",
                     "      <td>738 days 11:00:00</td>\n",
                     "    </tr>\n",
                     "    <tr>\n",
                     "      <th>2</th>\n",
                     "      <td>4</td>\n",
                     "      <td>2012-05-08 13:00:00</td>\n",
                     "      <td>2014-02-28</td>\n",
                     "      <td>660 days 11:00:00</td>\n",
                     "    </tr>\n",
                     "    <tr>\n",
                     "      <th>3</th>\n",
                     "      <td>5</td>\n",
                     "      <td>2012-06-01 10:30:00</td>\n",
                     "      <td>2014-02-28</td>\n",
                     "      <td>636 days 13:30:00</td>\n",
                     "    </tr>\n",
                     "    <tr>\n",
                     "      <th>4</th>\n",
                     "      <td>6</td>\n",
                     "      <td>2012-01-30 11:30:00</td>\n",
                     "      <td>2014-02-28</td>\n",
                     "      <td>759 days 12:30:00</td>\n",
                     "    </tr>\n",
                     "    <tr>\n",
                     "      <th>...</th>\n",
                     "      <td>...</td>\n",
                     "      <td>...</td>\n",
                     "      <td>...</td>\n",
                     "      <td>...</td>\n",
                     "    </tr>\n",
                     "    <tr>\n",
                     "      <th>5543</th>\n",
                     "      <td>5561</td>\n",
                     "      <td>2012-04-24 12:00:00</td>\n",
                     "      <td>2014-02-28</td>\n",
                     "      <td>674 days 12:00:00</td>\n",
                     "    </tr>\n",
                     "    <tr>\n",
                     "      <th>5544</th>\n",
                     "      <td>5562</td>\n",
                     "      <td>2012-05-07 00:30:00</td>\n",
                     "      <td>2014-02-28</td>\n",
                     "      <td>661 days 23:30:00</td>\n",
                     "    </tr>\n",
                     "    <tr>\n",
                     "      <th>5545</th>\n",
                     "      <td>5564</td>\n",
                     "      <td>2012-07-17 10:00:00</td>\n",
                     "      <td>2014-02-28</td>\n",
                     "      <td>590 days 14:00:00</td>\n",
                     "    </tr>\n",
                     "    <tr>\n",
                     "      <th>5546</th>\n",
                     "      <td>5566</td>\n",
                     "      <td>2012-10-03 00:30:00</td>\n",
                     "      <td>2014-02-28</td>\n",
                     "      <td>512 days 23:30:00</td>\n",
                     "    </tr>\n",
                     "    <tr>\n",
                     "      <th>5547</th>\n",
                     "      <td>5567</td>\n",
                     "      <td>2012-12-19 22:00:00</td>\n",
                     "      <td>2014-02-28</td>\n",
                     "      <td>435 days 02:00:00</td>\n",
                     "    </tr>\n",
                     "  </tbody>\n",
                     "</table>\n",
                     "<p>5548 rows × 4 columns</p>\n",
                     "</div>"
                  ],
                  "text/plain": [
                     "      LCLid          Enabled At Disabled At          Duration\n",
                     "0         2 2012-10-12 00:30:00  2014-02-28 503 days 23:30:00\n",
                     "1         3 2012-02-20 13:00:00  2014-02-28 738 days 11:00:00\n",
                     "2         4 2012-05-08 13:00:00  2014-02-28 660 days 11:00:00\n",
                     "3         5 2012-06-01 10:30:00  2014-02-28 636 days 13:30:00\n",
                     "4         6 2012-01-30 11:30:00  2014-02-28 759 days 12:30:00\n",
                     "...     ...                 ...         ...               ...\n",
                     "5543   5561 2012-04-24 12:00:00  2014-02-28 674 days 12:00:00\n",
                     "5544   5562 2012-05-07 00:30:00  2014-02-28 661 days 23:30:00\n",
                     "5545   5564 2012-07-17 10:00:00  2014-02-28 590 days 14:00:00\n",
                     "5546   5566 2012-10-03 00:30:00  2014-02-28 512 days 23:30:00\n",
                     "5547   5567 2012-12-19 22:00:00  2014-02-28 435 days 02:00:00\n",
                     "\n",
                     "[5548 rows x 4 columns]"
                  ]
               },
               "execution_count": 29,
               "metadata": {},
               "output_type": "execute_result"
            }
         ],
         "source": [
            "# given dataframe\n",
            "windows_ri_agg.sort_values(by='LCLid', inplace = True)\n",
            "windows_ri_agg.reset_index(inplace = True)\n",
            "windows_ri_agg.drop(columns = ['index'], inplace = True)\n",
            "windows_ri_agg"
         ]
      },
      {
         "cell_type": "code",
         "execution_count": 30,
         "metadata": {},
         "outputs": [],
         "source": [
            "num_nodes_range = range(len(windows_ri_agg.index))"
         ]
      },
      {
         "cell_type": "code",
         "execution_count": 31,
         "metadata": {},
         "outputs": [
            {
               "name": "stdout",
               "output_type": "stream",
               "text": [
                  "Number of unique start dates:  2153\n"
               ]
            }
         ],
         "source": [
            "# Sort rows by start date\n",
            "windows_ri_agg.sort_values(by='Enabled At', inplace=True)\n",
            "\n",
            "# Get an ordered list of dates 'Enabled At'\n",
            "enable_unique_dates = windows_ri_agg['Enabled At'].unique()\n",
            "\n",
            "# Get a list of lists of LCLids that have the same start date\n",
            "nbor_lclids = [windows_ri_agg[windows_ri_agg['Enabled At'] == date].index.tolist() for date in enable_unique_dates]\n",
            "print('Number of unique start dates: ', len(enable_unique_dates))\n",
            "assert len(windows_ri_agg) == sum([len(l) for l in nbor_lclids])"
         ]
      },
      {
         "cell_type": "code",
         "execution_count": 32,
         "metadata": {},
         "outputs": [
            {
               "data": {
                  "text/plain": [
                     "[5547]"
                  ]
               },
               "execution_count": 32,
               "metadata": {},
               "output_type": "execute_result"
            }
         ],
         "source": [
            "max(l for l in nbor_lclids)"
         ]
      },
      {
         "cell_type": "code",
         "execution_count": 35,
         "metadata": {},
         "outputs": [],
         "source": [
            "def create_adjacency_matrix(lclids, k):\n",
            "    number_of_nodes = sum([len(l) for l in lclids])\n",
            "    adjacency_matrix = np.zeros((number_of_nodes, number_of_nodes))\n",
            "    # Create the graph by iterating over the list of lists of LCLids\n",
            "    # and connecting all nodes in the list with each other\n",
            "    # and with the k-nearest lists\n",
            "    for i in range(len(lclids)): # range 2156\n",
            "        for j in range(len(lclids)): # range 2156\n",
            "            if i == j:\n",
            "                for lclid in lclids[i]:\n",
            "                    for lclid2 in lclids[j]:\n",
            "                        adjacency_matrix[lclid, lclid2] = 1\n",
            "            elif abs(i-j) <= k:\n",
            "                for lclid in lclids[i]:\n",
            "                    for lclid2 in lclids[j]:\n",
            "                        adjacency_matrix[lclid, lclid2] = 1\n",
            "    return sp.sparse.bsr_array(adjacency_matrix)"
         ]
      },
      {
         "cell_type": "code",
         "execution_count": 33,
         "metadata": {},
         "outputs": [
            {
               "data": {
                  "text/plain": [
                     "2153"
                  ]
               },
               "execution_count": 33,
               "metadata": {},
               "output_type": "execute_result"
            }
         ],
         "source": [
            "len(nbor_lclids)"
         ]
      },
      {
         "cell_type": "code",
         "execution_count": 36,
         "metadata": {},
         "outputs": [
            {
               "ename": "NameError",
               "evalue": "name 'adjacency_matrix' is not defined",
               "output_type": "error",
               "traceback": [
                  "\u001b[1;31m---------------------------------------------------------------------------\u001b[0m",
                  "\u001b[1;31mNameError\u001b[0m                                 Traceback (most recent call last)",
                  "Cell \u001b[1;32mIn[36], line 1\u001b[0m\n\u001b[1;32m----> 1\u001b[0m \u001b[43madjacency_matrix\u001b[49m\u001b[38;5;241m.\u001b[39mshape\n",
                  "\u001b[1;31mNameError\u001b[0m: name 'adjacency_matrix' is not defined"
               ]
            }
         ],
         "source": [
            "adjacency_matrix.shape"
         ]
      },
      {
         "cell_type": "code",
         "execution_count": 37,
         "metadata": {},
         "outputs": [
            {
               "name": "stdout",
               "output_type": "stream",
               "text": [
                  "Number of nodes:  5548\n",
                  "Graph connected for k=200: True\n",
                  "sparsity:  0.7884108616990917\n"
               ]
            },
            {
               "data": {
                  "application/vnd.jupyter.widget-view+json": {
                     "model_id": "1988036e49394c4d960123c8516a135c",
                     "version_major": 2,
                     "version_minor": 0
                  },
                  "image/png": "[encoded data removed]",
                  "text/html": [
                     "\n",
                     "            <div style=\"display: inline-block;\">\n",
                     "                <div class=\"jupyter-widgets widget-label\" style=\"text-align: center;\">\n",
                     "                    Figure\n",
                     "                </div>\n",
                     "                <img src='data:image/png;base64,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' width=640.0/>\n",
                     "            </div>\n",
                     "        "
                  ],
                  "text/plain": [
                     "Canvas(toolbar=Toolbar(toolitems=[('Home', 'Reset original view', 'home', 'home'), ('Back', 'Back to previous …"
                  ]
               },
               "metadata": {},
               "output_type": "display_data"
            }
         ],
         "source": [
            "# Create the empty adjacency matrix of the graph\n",
            "number_of_nodes = len(windows_ri_agg.index)\n",
            "\n",
            "print('Number of nodes: ', number_of_nodes)\n",
            "\n",
            "\n",
            "adjacency_matrix = np.zeros((number_of_nodes, number_of_nodes))\n",
            "# K-nearest neighbours\n",
            "k = 200\n",
            "\n",
            "adjacency_matrix = create_adjacency_matrix(nbor_lclids, k)\n",
            "# Compute the sparsity of the adjacency matrix\n",
            "sparsity = 1 - sp.sparse.bsr_matrix.count_nonzero(adjacency_matrix) / np.prod(adjacency_matrix.shape)\n",
            "G = networkx.from_scipy_sparse_array(adjacency_matrix)\n",
            "print(f'Graph connected for k={k}: {networkx.is_connected(G)}')\n",
            "print('sparsity: ', sparsity)\n",
            "\n",
            "plt.spy(sp.sparse.bsr_matrix.toarray(adjacency_matrix))\n",
            "plt.show()"
         ]
      },
      {
         "cell_type": "markdown",
         "metadata": {},
         "source": [
            "### Temporal Learning next!"
         ]
      },
      {
         "cell_type": "code",
         "execution_count": null,
         "metadata": {},
         "outputs": [
            {
               "data": {
                  "text/plain": [
                     "Data(edge_index=[2, 6768116], weight=[6768116], num_nodes=5558)"
                  ]
               },
               "execution_count": 82,
               "metadata": {},
               "output_type": "execute_result"
            }
         ],
         "source": [
            "pyg_graph = from_networkx(G)\n",
            "pyg_graph"
         ]
      }
   ],
   "metadata": {
      "kernelspec": {
         "display_name": "Python 3 (ipykernel)",
         "language": "python",
         "name": "python3"
      },
      "language_info": {
         "codemirror_mode": {
            "name": "ipython",
            "version": 3
         },
         "file_extension": ".py",
         "mimetype": "text/x-python",
         "name": "python",
         "nbconvert_exporter": "python",
         "pygments_lexer": "ipython3",
         "version": "3.12.3"
      }
   },
   "nbformat": 4,
   "nbformat_minor": 4
}