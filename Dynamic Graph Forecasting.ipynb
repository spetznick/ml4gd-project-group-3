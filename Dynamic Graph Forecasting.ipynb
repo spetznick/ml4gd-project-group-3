{
 "cells": [
  {
   "cell_type": "markdown",
   "id": "ba9ba800-46ba-45a5-8278-da5a5031369e",
   "metadata": {},
   "source": [
    "# 6 Hour Forecast using Dynamic Graph"
   ]
  },
  {
   "cell_type": "code",
   "execution_count": 1,
   "id": "d7f13f10-9486-4add-9131-88e445870233",
   "metadata": {},
   "outputs": [],
   "source": [
    "import pandas as pd\n",
    "import numpy as np\n",
    "import seaborn as sns\n",
    "import matplotlib.pyplot as plt\n",
    "from sklearn.model_selection import TimeSeriesSplit\n",
    "import pickle # to access dataframe faster than csv\n",
    "import glob, re\n",
    "import os\n",
    "import csv\n",
    "from pathlib import Path\n",
    "import scipy as sp\n",
    "import networkx\n",
    "import torch_geometric\n",
    "import torch\n",
    "from torch_geometric.utils.convert import from_networkx\n",
    "from scipy.sparse import coo_matrix\n",
    "from concurrent.futures import ThreadPoolExecutor, as_completed\n",
    "from tqdm import tqdm\n",
    "from pandas.plotting import register_matplotlib_converters\n",
    "\n",
    "# for tweaked_TAGConv\n",
    "import torch.nn as nn\n",
    "from torch import Tensor\n",
    "from torch_geometric.data import Data\n",
    "from torch_geometric.nn.conv import MessagePassing\n",
    "from torch_geometric.nn.conv.gcn_conv import gcn_norm # adjacency matrix normalization\n",
    "from torch_geometric.nn.dense.linear import Linear\n",
    "from torch_geometric.nn.inits import zeros # initialize weights and biases for nn\n",
    "from torch_geometric.typing import Adj, OptTensor, SparseTensor\n",
    "from torch_geometric.utils import spmm # for sparse matrix multiplication\n",
    "\n",
    "# for normalizing\n",
    "from sklearn.preprocessing import MinMaxScaler, RobustScaler\n",
    "register_matplotlib_converters()\n",
    "sns.set_style(\"darkgrid\")\n",
    "plt.rc(\"figure\", figsize=(8, 8))\n",
    "plt.rc(\"font\", size=14)"
   ]
  },
  {
   "cell_type": "code",
   "execution_count": 2,
   "id": "f1f70a5b",
   "metadata": {},
   "outputs": [],
   "source": [
    "from utils import blocked_cross_validation_idx,get_windows_idx,get_train_batch_blocks"
   ]
  },
  {
   "cell_type": "markdown",
   "id": "e71d284e-0ef6-4fb7-93df-339b826c5c80",
   "metadata": {},
   "source": [
    "## Initialize\n",
    "1. Aggregated (dataframe available at https://drive.google.com/drive/folders/1CwSLAJeCGUuHXRJOZ9YgkraHYaE8pGGH?usp=sharing)\n",
    "2. Load aggregated\n",
    "3. Load window csv with lclids corresponding to aggregated data"
   ]
  },
  {
   "cell_type": "code",
   "execution_count": 3,
   "id": "78a670ee",
   "metadata": {},
   "outputs": [
    {
     "name": "stdout",
     "output_type": "stream",
     "text": [
      "cpu\n"
     ]
    }
   ],
   "source": [
    "# Check that MPS is available\n",
    "if not torch.backends.mps.is_available():\n",
    "    if not torch.backends.mps.is_built():\n",
    "        print(\"MPS not available because the current PyTorch install was not \"\n",
    "              \"built with MPS enabled.\")\n",
    "    else:\n",
    "        print(\"MPS not available because the current MacOS version is not 12.3+ \"\n",
    "              \"and/or you do not have an MPS-enabled device on this machine.\")\n",
    "    print(\"Pytorch is built with MPS on this device:\", torch.backends.mps.is_built())\n",
    "    device = torch.device('cuda' if torch.cuda.is_available() else 'cpu')\n",
    "else:\n",
    "    device = torch.device(\"mps\")\n",
    "    device = torch.device(\"cpu\")\n",
    "print(device)"
   ]
  },
  {
   "cell_type": "code",
   "execution_count": 4,
   "id": "0c86dd50-97b4-44c4-a948-c7d9c69a6923",
   "metadata": {},
   "outputs": [
    {
     "name": "stdout",
     "output_type": "stream",
     "text": [
      "<class 'pandas.core.frame.DataFrame'>\n",
      "DatetimeIndex: 17544 entries, 2012-01-01 00:00:00 to 2013-12-31 23:00:00\n",
      "Columns: 5558 entries, 2 to 5564\n",
      "dtypes: float64(5558)\n",
      "memory usage: 744.1 MB\n"
     ]
    }
   ],
   "source": [
    "# load the data\n",
    "file = open('uk-smart-meter-aggregated/df_agg.pkl','rb')\n",
    "df_agg = pickle.load(file)\n",
    "df_agg.info()\n",
    "\n",
    "# unnormalized_df_agg = pickle.load(file)\n",
    "# unnormalized_df_agg.info()\n",
    "\n",
    "# # check the min and max values\n",
    "# min_value = unnormalized_df_agg.min(skipna = True).min()\n",
    "# print(f'Minimum entry = {min_value}')\n",
    "\n",
    "# max_value = unnormalized_df_agg.max(skipna = True).max()\n",
    "# print(f'Maximum entry = {max_value}')\n",
    "\n",
    "# # scaler = MinMaxScaler()\n",
    "# scaler = RobustScaler()\n",
    "# norm_data = scaler.fit_transform(unnormalized_df_agg)\n",
    "\n",
    "# df_agg = pd.DataFrame(norm_data, columns=unnormalized_df_agg.columns)\n",
    "# df_agg.index = unnormalized_df_agg.index\n",
    "# df_agg.info()\n",
    "\n",
    "# # check the min and max values\n",
    "# min_value = df_agg.min(skipna = True).min()\n",
    "# print(f'Minimum entry = {min_value}')\n",
    "\n",
    "# max_value = df_agg.max(skipna = True).max()\n",
    "# print(f'Maximum entry = {max_value}')"
   ]
  },
  {
   "cell_type": "code",
   "execution_count": 5,
   "id": "a75bde78-3191-428e-87cd-ade22b841885",
   "metadata": {},
   "outputs": [
    {
     "name": "stdout",
     "output_type": "stream",
     "text": [
      "<class 'pandas.core.frame.DataFrame'>\n",
      "Index: 5558 entries, 0 to 5557\n",
      "Data columns (total 4 columns):\n",
      " #   Column       Non-Null Count  Dtype          \n",
      "---  ------       --------------  -----          \n",
      " 0   LCLid        5558 non-null   int64          \n",
      " 1   Enabled At   5558 non-null   datetime64[ns] \n",
      " 2   Disabled At  5558 non-null   datetime64[ns] \n",
      " 3   Duration     5558 non-null   timedelta64[ns]\n",
      "dtypes: datetime64[ns](2), int64(1), timedelta64[ns](1)\n",
      "memory usage: 217.1 KB\n"
     ]
    }
   ],
   "source": [
    "file = open('uk-smart-meter-aggregated/windows_agg_ids.pkl','rb')\n",
    "windows = pickle.load(file)\n",
    "windows.info()"
   ]
  },
  {
   "cell_type": "markdown",
   "id": "59abdb60-7ee3-46fd-8949-7ea559ec176d",
   "metadata": {},
   "source": [
    "## Snapshot-based temporal graph\n",
    "Idea: Build the adjacency matrix for all nodes using `create_adjacency_matrix`. Select a time-stamp for example [0]: '2012-01-01 00:00:00' or [1]: '2012-01-01 01:00:00' and so on. For this time-stamp what all nodes are active? Make an adjacency matrix for only these nodes for that particular time stamp using `get_snapshot_adjacency`. This function further returns the LCLids of active nodes (2,3,... 5564) and the indices of those active nodes (dataframe indices as in from range 0 to 5557)."
   ]
  },
  {
   "cell_type": "markdown",
   "id": "e4f0b44c-3cf8-4da6-b510-d3fe6204e4f5",
   "metadata": {},
   "source": [
    "1. Get the adjacency matrix for *all the nodes* at once to avoid computation"
   ]
  },
  {
   "cell_type": "code",
   "execution_count": 6,
   "id": "4c3a0513-7deb-4a80-9893-c8f5575d670c",
   "metadata": {},
   "outputs": [
    {
     "name": "stdout",
     "output_type": "stream",
     "text": [
      "Number of unique start dates:  2154\n",
      "Graph connected for k=50: True\n",
      "sparsity:  0.9439180477754235\n"
     ]
    },
    {
     "data": {
      "image/png": "[encoded data removed]",
      "text/plain": [
       "<Figure size 800x800 with 1 Axes>"
      ]
     },
     "metadata": {},
     "output_type": "display_data"
    }
   ],
   "source": [
    "def create_adjacency_matrix(lclids, k):\n",
    "    number_of_nodes = sum([len(l) for l in lclids])\n",
    "    adjacency_matrix = np.zeros((number_of_nodes, number_of_nodes))\n",
    "    # Create the graph by iterating over the list of lists of LCLids\n",
    "    # and connecting all nodes in the list with each other\n",
    "    # and with the k-nearest lists\n",
    "    for i in range(len(lclids)): # range 2156\n",
    "        for j in range(len(lclids)): # range 2156\n",
    "            if i == j:\n",
    "                for lclid in lclids[i]:\n",
    "                    for lclid2 in lclids[j]:\n",
    "                        adjacency_matrix[lclid, lclid2] = 1\n",
    "            elif abs(i-j) <= k:\n",
    "                for lclid in lclids[i]:\n",
    "                    for lclid2 in lclids[j]:\n",
    "                        adjacency_matrix[lclid, lclid2] = 1\n",
    "    adjacency_matrix = adjacency_matrix - np.eye(number_of_nodes)\n",
    "    return sp.sparse.bsr_array(adjacency_matrix)\n",
    "\n",
    "# Sort rows by start date\n",
    "windows_copy = windows.sort_values(by='Enabled At').copy()\n",
    "\n",
    "# Get an ordered list of dates 'Enabled At'\n",
    "enable_unique_dates = windows_copy['Enabled At'].unique()\n",
    "\n",
    "# Get a list of lists of LCLids that have the same start date\n",
    "nbor_lclids = [windows_copy[windows_copy['Enabled At'] == date].index.tolist() for date in enable_unique_dates]\n",
    "print('Number of unique start dates: ', len(enable_unique_dates))\n",
    "assert len(windows) == sum([len(l) for l in nbor_lclids])\n",
    "\n",
    "# K-nearest neighbours\n",
    "k = 50\n",
    "\n",
    "adjacency_matrix = create_adjacency_matrix(nbor_lclids, k)\n",
    "# Compute the sparsity of the adjacency matrix\n",
    "sparsity = 1 - sp.sparse.bsr_matrix.count_nonzero(adjacency_matrix) / np.prod(adjacency_matrix.shape)\n",
    "G = networkx.from_scipy_sparse_array(adjacency_matrix)\n",
    "print(f'Graph connected for k={k}: {networkx.is_connected(G)}')\n",
    "print('sparsity: ', sparsity)\n",
    "\n",
    "plt.spy(sp.sparse.bsr_matrix.toarray(adjacency_matrix))\n",
    "plt.xlabel(\"Household mapped indices\"), plt.ylabel(\"Household mapped indices\")\n",
    "# save the adjacency matrix\n",
    "np.save('Results/adjacency_matrix.npy', adjacency_matrix)\n",
    "plt.show()"
   ]
  },
  {
   "cell_type": "markdown",
   "id": "49cbd1f7-e613-4520-ab5b-4d44fd0258e1",
   "metadata": {},
   "source": [
    "2. Make a function to get the sub-adjacency matrix for all nodes active at a given time instant"
   ]
  },
  {
   "cell_type": "code",
   "execution_count": 7,
   "id": "174aceef-34e1-4d93-8b07-c733397c40c5",
   "metadata": {},
   "outputs": [],
   "source": [
    "def get_snapshot_adjacency(timestampidx, full_adjacency_matrix, df_agg):\n",
    "    \"\"\"\n",
    "    timestampidx: Time index; For example [0]: '2012-01-01 00:00:00'\n",
    "    full_adjacency_matrix (np.array()): adjacency matrix for all the LCLids\n",
    "    df_agg: aggregated dataframe with timeseries for all LCLids\n",
    "\n",
    "    Returns:\n",
    "    indices_active_nodes: dataframe indices of active nodes\n",
    "    active nodes: LCLids of active nodes\n",
    "    active_sparse_submat: adjacency matrix obtained for that particular timestamp (using timestampidx)\n",
    "    \"\"\"\n",
    "    full_adjacency_matrix = full_adjacency_matrix.toarray()\n",
    "\n",
    "    # get all the active nodes for that particular time-stamp\n",
    "    active_nodes = df_agg.columns[df_agg.loc[df_agg.index[timestampidx], :].notna()]\n",
    "\n",
    "    # indices of active nodes\n",
    "    indices_active_nodes = windows[windows['LCLid'].isin(active_nodes.values)].index\n",
    "\n",
    "    # active nodes sub-adjacency matrix\n",
    "    active_adj_submat = full_adjacency_matrix[np.ix_(indices_active_nodes, indices_active_nodes)]\n",
    "\n",
    "    if active_adj_submat.shape[0] != active_nodes.shape[0]:\n",
    "        print(f'# active nodes = {active_nodes.shape}, while \\\n",
    "        Adjacency Matrix Shape = {active_adj_submat.shape}')\n",
    "        raise RuntimeError()\n",
    "\n",
    "    # create graph from the adjacency submatrix to check if it is connected\n",
    "    active_sparse_submat = sp.sparse.bsr_array(active_adj_submat)\n",
    "\n",
    "    ################ too slow ############################\n",
    "    #G = networkx.from_scipy_sparse_array(active_sparse_submat)\n",
    "    # check if the graph is fully connected\n",
    "    # assert networkx.is_connected(G)\n",
    "\n",
    "    # FOR FURTHER ANALYSIS\n",
    "    #sparsity_submat = 1 - sp.sparse.bsr_matrix.count_nonzero(active_sparse_submat) \\\n",
    "    #/ np.prod(active_sparse_submat.shape)\n",
    "    #print(f'Sparsity = {sparsity_submat}')\n",
    "\n",
    "\n",
    "    # get edge indices from the adjacency submatrix COO Format\n",
    "    # edge_index = torch.tensor(np.array(G.edges).T)\n",
    "    #######################################################\n",
    "\n",
    "    active_sparse_submat_coo = active_sparse_submat.tocoo()\n",
    "\n",
    "    row = active_sparse_submat_coo.row\n",
    "    col = active_sparse_submat_coo.col\n",
    "\n",
    "    edge_index = torch.tensor(np.vstack((row, col)), dtype=torch.long)\n",
    "\n",
    "    # node feature matrix\n",
    "    node_feat = torch.tensor(df_agg.loc[df_agg.index[timestampidx],active_nodes].values).view(-1,1)\n",
    "    return indices_active_nodes, active_nodes, active_sparse_submat, node_feat, edge_index\n",
    "\n",
    "\n",
    "# example usage:\n",
    "indices, activenodes, active_sparse_submat, node_feat, edge_idx = get_snapshot_adjacency(0, adjacency_matrix, df_agg) # check exact date using df_agg.index[100]"
   ]
  },
  {
   "cell_type": "markdown",
   "id": "282a50be-dd79-45d0-97c7-92350a74bbfa",
   "metadata": {},
   "source": [
    "### Align snapshots"
   ]
  },
  {
   "cell_type": "markdown",
   "id": "74ac1e83-5911-43f1-8d4a-bc7fd320b8b0",
   "metadata": {},
   "source": [
    "Idea: Take snapshots for a window and extract the sub-adjacency matrices (only considering active nodes) and node features. And stack these sub-adjacency matrices as a dictionary (book)."
   ]
  },
  {
   "cell_type": "code",
   "execution_count": 8,
   "id": "5a5b2f66-b769-4a87-996e-00bf44a2c4ca",
   "metadata": {},
   "outputs": [],
   "source": [
    "# print(f'Snapshots taken at {df_agg.index[0]}, {df_agg.index[50]}, {df_agg.index[100]} to calculate the supra adjacency matrix')\n",
    "def get_subadj_book(window_idx, adjacency_matrix, df_agg):\n",
    "    \"\"\"\n",
    "    Input:\n",
    "        - window_idx:       window index (for eg., range(0,23) for first 24 hours)\n",
    "        - adjacency_matrix: full adjacency matrix\n",
    "        - df_agg:           aggregated dataframe\n",
    "    Returns\n",
    "        - idx_book:       dict of indices (of dataframe) of all active nodes throughout the window for all time instances\n",
    "        - actnod_book:    dict of LCLids of active nodes throughout the window for all time instances\n",
    "        - subadj_book:    dict of subadjacency matrices throughout the window for all time instances (can be of different sizes)\n",
    "        - all_nodes:      set of LCLids of all active unique nodes inside the window_idx\n",
    "        - node_feat_book: dict of node feature matrix throughout the window for all instances\n",
    "        - edge_idx_book:  dict of edge index throughout the window for all instances\n",
    "    \"\"\"\n",
    "    node_feat_book = {}\n",
    "    edge_idx_book = {}\n",
    "    subadj_book = {}\n",
    "    idx_book = {}\n",
    "    actnod_book = {}\n",
    "    all_nodes = set()\n",
    "\n",
    "    def process_idx(i, idx):\n",
    "        idx_i, actnod_i, subadj_i, node_feat_i, edge_idx_i = get_snapshot_adjacency(idx, adjacency_matrix, df_agg)\n",
    "        return i, idx_i, actnod_i, subadj_i, node_feat_i, edge_idx_i\n",
    "\n",
    "    with ThreadPoolExecutor() as executor:\n",
    "        futures = [executor.submit(process_idx, i, idx) for i, idx in enumerate(window_idx)]\n",
    "        #print(futures)\n",
    "        for future in as_completed(futures):\n",
    "            i, idx_i, actnod_i, subadj_i, node_feat_i, edge_idx_i = future.result()\n",
    "            idx_book[i] = idx_i\n",
    "            actnod_book[i] = actnod_i\n",
    "            subadj_book[i] = subadj_i.toarray()\n",
    "            node_feat_book[i] = node_feat_i\n",
    "            edge_idx_book[i] = edge_idx_i\n",
    "            all_nodes.update(actnod_i)\n",
    "\n",
    "    return idx_book, actnod_book, subadj_book, all_nodes, node_feat_book, edge_idx_book\n",
    "\n",
    "window_idx = np.arange(128) #100*np.array([0,1,2,3,4,5,6,7,8,9,10]) # training window\n",
    "idx_book, actnod_book, subadj_book, all_nodes, node_feat_book, edge_idx_book = get_subadj_book(window_idx, adjacency_matrix, df_agg)"
   ]
  },
  {
   "cell_type": "markdown",
   "id": "087c39bc-48b7-4bca-9ecf-87f6d39f1b3f",
   "metadata": {},
   "source": [
    "Align the snapshots of different adjacency matrices to become size compatible. For example snapshot 1 has $R^{410\\times410}$, snapshot 2 has $R^{450\\times 450}$. This means that first snapshot has 410 active nodes and second snapshot has 450 active nodes. So, make a union set of all these nodes and \"align\" the shape of snapshot 2 adjacency matrix, node-features and edge_index to the shape of snapshot 2. So, snapshot 1 will also have adjacency matrix of size $R^{450\\times 450}$ but with zeros at entries corresponding to the node that is not active in that snapshot 1."
   ]
  },
  {
   "cell_type": "code",
   "execution_count": 9,
   "id": "74348fff-d87b-47b5-a0e1-102452446c6b",
   "metadata": {},
   "outputs": [],
   "source": [
    "def align_adjacency_matrix(active_nodes, subadj, all_nodes, node_index_map):\n",
    "    \"\"\"\n",
    "    Input:\n",
    "        - active_nodes: list of active nodes\n",
    "        - subadj: sub-adjacency matrix for these active nodes\n",
    "        - all_nodes: all the nodes for the entire window not just the instant where subadj and active_nodes are found\n",
    "        - node_index_map: sorted all_nodes with {index: node...}\n",
    "\n",
    "\n",
    "    \"\"\"\n",
    "    if not isinstance(subadj, np.ndarray):\n",
    "        subadj = subadj.toarray()\n",
    "\n",
    "    # Create a mapping from active node to index\n",
    "    active_node_indices = [node_index_map[node] for node in active_nodes]\n",
    "\n",
    "    # Create aligned subadjacency matrix\n",
    "    aligned_subadj = np.zeros((len(all_nodes), len(all_nodes)))\n",
    "\n",
    "    # Use numpy advanced indexing to place the subadj matrix in the correct positions\n",
    "    aligned_subadj[np.ix_(active_node_indices, active_node_indices)] = subadj\n",
    "\n",
    "    return aligned_subadj\n",
    "\n",
    "\n",
    "def get_aligned_adj_book(subadj_book, node_feat_book, actnod_book, all_nodes):\n",
    "\n",
    "    # create node index mapping\n",
    "    # for ex., index_mapping = {0,1,2,3,4,5} for sorted nodes {1,2,3,4,5,6}\n",
    "    node_index_map = {node: i for i, node in enumerate(sorted(all_nodes))} # node: idx dictionary\n",
    "\n",
    "    # total nodes\n",
    "    num_nodes = len(node_index_map)\n",
    "\n",
    "    aligned_adj_book = {}\n",
    "    aligned_node_feat_book = {}\n",
    "    aligned_edge_index_book = {}\n",
    "\n",
    "    for i, ((actkey, actnod), (subadjkey, subadj)) in enumerate(zip(actnod_book.items(), subadj_book.items())):\n",
    "\n",
    "        aligned_adj_book[i] = align_adjacency_matrix(actnod, subadj, all_nodes, node_index_map)\n",
    "\n",
    "\n",
    "        # Extract the indices of the non-zero elements (edges)\n",
    "        row_indices, col_indices = np.nonzero(aligned_adj_book[i])\n",
    "\n",
    "        # Combine the row and column indices to form the edge_index\n",
    "        aligned_edge_index_book[i] = torch.tensor(np.vstack((row_indices, col_indices)))\n",
    "\n",
    "        for j, key in enumerate(actnod.values):\n",
    "            temp = np.zeros((len(all_nodes), 1))\n",
    "            temp[node_index_map[key]] = node_feat_book[actkey][j]\n",
    "        aligned_node_feat_book[i] = temp\n",
    "    return aligned_adj_book, node_index_map, aligned_node_feat_book, aligned_edge_index_book\n",
    "\n"
   ]
  },
  {
   "cell_type": "code",
   "execution_count": 10,
   "id": "d6059101",
   "metadata": {},
   "outputs": [],
   "source": [
    "df = pd.DataFrame({\n",
    "    'DateTime': pd.date_range(start='2012-01-01 00:00:00', end='2013-12-31 23:00:00', freq='1h')\n",
    "})\n",
    "train_months=2\n",
    "test_months=1\n",
    "batch_size=48\n",
    "overlap_months=0\n",
    "train_test_blocks=blocked_cross_validation_idx(df,train_months,test_months,overlap_months)[0]\n",
    "batch_windows=get_train_batch_blocks(train_test_blocks[0],train_test_blocks[1],batch_size=batch_size)"
   ]
  },
  {
   "cell_type": "code",
   "execution_count": 11,
   "id": "5acceb2a-abf9-4b72-9ec1-ba1bd1066293",
   "metadata": {},
   "outputs": [
    {
     "data": {
      "text/plain": [
       "30"
      ]
     },
     "execution_count": 11,
     "metadata": {},
     "output_type": "execute_result"
    }
   ],
   "source": [
    "len(batch_windows)"
   ]
  },
  {
   "cell_type": "code",
   "execution_count": 12,
   "id": "63e1f64f",
   "metadata": {},
   "outputs": [],
   "source": [
    "window_idx=batch_windows[1]\n",
    "# extract the subadjacency matrix for all those time-stamps\n",
    "idx_book, actnod_book, subadj_book, all_nodes, node_feat_book, edge_idx_book = get_subadj_book(window_idx, adjacency_matrix, df_agg)\n",
    "\n",
    "aligned_adj_book, node_index_map, aligned_node_feat_book, aligned_edge_index_book = get_aligned_adj_book(subadj_book, node_feat_book, actnod_book, all_nodes)"
   ]
  },
  {
   "cell_type": "markdown",
   "id": "e5bf0b79-cbaf-4552-afa8-21cc3bf4a295",
   "metadata": {},
   "source": [
    "### Graph-VAR\n",
    "\n",
    "$$\n",
    "\\mathbf{x_t} = -\\sum_{p=1}^{P} \\sum_{k=0}^{K} h_{kp}\\mathbf{S}_{t-p}^k \\mathbf{x}_{t-p} \n",
    "$$\n",
    "\n",
    "where P in our case will be 24. "
   ]
  },
  {
   "cell_type": "markdown",
   "id": "499fb05f-ee7f-41a1-b811-ec5fa8fba2e7",
   "metadata": {},
   "source": [
    "Dataset has "
   ]
  },
  {
   "cell_type": "code",
   "execution_count": 13,
   "id": "17792cd7-de3c-4238-9816-ac44990bb189",
   "metadata": {},
   "outputs": [
    {
     "data": {
      "text/plain": [
       "array([ 0,  1,  2,  3,  4,  5,  6,  7,  8,  9, 10, 11, 12, 13, 14, 15, 16,\n",
       "       17, 18, 19, 20, 21, 22, 23, 24, 25, 26, 27, 28, 29, 30, 31, 32, 33,\n",
       "       34, 35, 36, 37, 38, 39, 40, 41, 42, 43, 44, 45, 46, 47])"
      ]
     },
     "execution_count": 13,
     "metadata": {},
     "output_type": "execute_result"
    }
   ],
   "source": [
    "batch_windows[0]"
   ]
  },
  {
   "cell_type": "code",
   "execution_count": 14,
   "id": "c4dd6b16-e95c-48ad-acf1-0071f1230c07",
   "metadata": {},
   "outputs": [],
   "source": [
    "class TemporalGraphDataset:\n",
    "    def __init__(self, adjacency_matrix, df_agg):\n",
    "        self.graph_data = {}\n",
    "        self.adjacency_matrix = adjacency_matrix\n",
    "        self.df_agg = df_agg\n",
    "        self.all_nodes_dict = {}\n",
    "\n",
    "    def add_batch_instance(self, window_idx, b):\n",
    "        # extract the subadjacency matrix for all those time-stamps\n",
    "        idx_book, actnod_book, subadj_book, all_nodes, node_feat_book, edge_idx_book = get_subadj_book(window_idx, self.adjacency_matrix, self.df_agg)\n",
    "        aligned_adj_book, node_index_map, aligned_node_feat_book, aligned_edge_index_book = get_aligned_adj_book(subadj_book, node_feat_book, actnod_book, all_nodes)\n",
    "\n",
    "        if b not in self.all_nodes_dict:\n",
    "            self.all_nodes_dict[b] = {}\n",
    "        self.all_nodes_dict[b] = all_nodes\n",
    "\n",
    "        # Initialize graph data for batch if not present\n",
    "        if b not in self.graph_data:\n",
    "            self.graph_data[b] = {}\n",
    "\n",
    "\n",
    "        for i, idx in enumerate(window_idx):\n",
    "\n",
    "            aligned_node_feat_book[i], aligned_edge_index_book[i], idx\n",
    "\n",
    "            edge_index, edge_weight = gcn_norm(edge_index=aligned_edge_index_book[i].long(),\n",
    "                                           edge_weight=None,\n",
    "                                           num_nodes=aligned_node_feat_book[i].shape[0],\n",
    "                                           add_self_loops=False)\n",
    "\n",
    "            # Create a Data object with node features, edge index, and edge weights\n",
    "            data = Data(x=torch.tensor(aligned_node_feat_book[i]).float(), edge_index=edge_index.float(), edge_weight = edge_weight)\n",
    "\n",
    "            self.graph_data[b][idx] = data\n",
    "\n",
    "    def get_batch_instance(self, b):\n",
    "        return self.graph_data.get(b, \"Batch not found.\")\n",
    "\n",
    "    def get_batch_time_instance(self, b, idx):\n",
    "        return self.graph_data.get(b, {}).get(idx, \"Time instance not found.\")\n",
    "\n",
    "    def get_all_nodes(self, b):\n",
    "        return self.all_nodes_dict[b]\n",
    "\n",
    "dataset = TemporalGraphDataset(adjacency_matrix, df_agg)\n",
    "for b, window_idx in enumerate(batch_windows):\n",
    "    dataset.add_batch_instance(window_idx, b)"
   ]
  },
  {
   "cell_type": "code",
   "execution_count": 15,
   "id": "2612f50d-7e2d-4345-8f26-7ce74e24d151",
   "metadata": {},
   "outputs": [
    {
     "data": {
      "text/plain": [
       "{48: Data(x=[419, 1], edge_index=[2, 63454], edge_weight=[63454]),\n",
       " 49: Data(x=[419, 1], edge_index=[2, 63454], edge_weight=[63454]),\n",
       " 50: Data(x=[419, 1], edge_index=[2, 63454], edge_weight=[63454]),\n",
       " 51: Data(x=[419, 1], edge_index=[2, 63454], edge_weight=[63454]),\n",
       " 52: Data(x=[419, 1], edge_index=[2, 64314], edge_weight=[64314]),\n",
       " 53: Data(x=[419, 1], edge_index=[2, 63976], edge_weight=[63976]),\n",
       " 54: Data(x=[419, 1], edge_index=[2, 63454], edge_weight=[63454]),\n",
       " 55: Data(x=[419, 1], edge_index=[2, 63804], edge_weight=[63804]),\n",
       " 56: Data(x=[419, 1], edge_index=[2, 63454], edge_weight=[63454]),\n",
       " 57: Data(x=[419, 1], edge_index=[2, 63454], edge_weight=[63454]),\n",
       " 58: Data(x=[419, 1], edge_index=[2, 64646], edge_weight=[64646]),\n",
       " 59: Data(x=[419, 1], edge_index=[2, 63454], edge_weight=[63454]),\n",
       " 60: Data(x=[419, 1], edge_index=[2, 64646], edge_weight=[64646]),\n",
       " 61: Data(x=[419, 1], edge_index=[2, 63454], edge_weight=[63454]),\n",
       " 62: Data(x=[419, 1], edge_index=[2, 64646], edge_weight=[64646]),\n",
       " 63: Data(x=[419, 1], edge_index=[2, 64482], edge_weight=[64482]),\n",
       " 64: Data(x=[419, 1], edge_index=[2, 64646], edge_weight=[64646]),\n",
       " 65: Data(x=[419, 1], edge_index=[2, 64646], edge_weight=[64646]),\n",
       " 66: Data(x=[419, 1], edge_index=[2, 64646], edge_weight=[64646]),\n",
       " 67: Data(x=[419, 1], edge_index=[2, 64646], edge_weight=[64646]),\n",
       " 68: Data(x=[419, 1], edge_index=[2, 64646], edge_weight=[64646]),\n",
       " 69: Data(x=[419, 1], edge_index=[2, 64646], edge_weight=[64646]),\n",
       " 70: Data(x=[419, 1], edge_index=[2, 64646], edge_weight=[64646]),\n",
       " 71: Data(x=[419, 1], edge_index=[2, 64646], edge_weight=[64646]),\n",
       " 72: Data(x=[419, 1], edge_index=[2, 64646], edge_weight=[64646]),\n",
       " 73: Data(x=[419, 1], edge_index=[2, 64646], edge_weight=[64646]),\n",
       " 74: Data(x=[419, 1], edge_index=[2, 64646], edge_weight=[64646]),\n",
       " 75: Data(x=[419, 1], edge_index=[2, 64646], edge_weight=[64646]),\n",
       " 76: Data(x=[419, 1], edge_index=[2, 64646], edge_weight=[64646]),\n",
       " 77: Data(x=[419, 1], edge_index=[2, 64646], edge_weight=[64646]),\n",
       " 78: Data(x=[419, 1], edge_index=[2, 64646], edge_weight=[64646]),\n",
       " 79: Data(x=[419, 1], edge_index=[2, 64646], edge_weight=[64646]),\n",
       " 80: Data(x=[419, 1], edge_index=[2, 64646], edge_weight=[64646]),\n",
       " 81: Data(x=[419, 1], edge_index=[2, 64810], edge_weight=[64810]),\n",
       " 82: Data(x=[419, 1], edge_index=[2, 64810], edge_weight=[64810]),\n",
       " 83: Data(x=[419, 1], edge_index=[2, 64810], edge_weight=[64810]),\n",
       " 84: Data(x=[419, 1], edge_index=[2, 64646], edge_weight=[64646]),\n",
       " 85: Data(x=[419, 1], edge_index=[2, 64972], edge_weight=[64972]),\n",
       " 86: Data(x=[419, 1], edge_index=[2, 64972], edge_weight=[64972]),\n",
       " 87: Data(x=[419, 1], edge_index=[2, 64810], edge_weight=[64810]),\n",
       " 88: Data(x=[419, 1], edge_index=[2, 64972], edge_weight=[64972]),\n",
       " 89: Data(x=[419, 1], edge_index=[2, 64972], edge_weight=[64972]),\n",
       " 90: Data(x=[419, 1], edge_index=[2, 64972], edge_weight=[64972]),\n",
       " 91: Data(x=[419, 1], edge_index=[2, 64972], edge_weight=[64972]),\n",
       " 92: Data(x=[419, 1], edge_index=[2, 64972], edge_weight=[64972]),\n",
       " 93: Data(x=[419, 1], edge_index=[2, 64972], edge_weight=[64972]),\n",
       " 94: Data(x=[419, 1], edge_index=[2, 64972], edge_weight=[64972]),\n",
       " 95: Data(x=[419, 1], edge_index=[2, 64972], edge_weight=[64972])}"
      ]
     },
     "execution_count": 15,
     "metadata": {},
     "output_type": "execute_result"
    }
   ],
   "source": [
    "dataset.get_batch_instance(1)"
   ]
  },
  {
   "cell_type": "code",
   "execution_count": 16,
   "id": "48e08764-7e96-422d-a250-9067c8c52739",
   "metadata": {},
   "outputs": [],
   "source": [
    "class TemporalGCNLayer(MessagePassing):\n",
    "    def __init__(self, in_channels: int, out_channels: int, K: int, P: int): # P from window_idx = np.arange(P)\n",
    "        super(TemporalGCNLayer, self).__init__(aggr = 'add') # 'Add' aggregation\n",
    "        self.K = K\n",
    "        self.P = P\n",
    "        # self.normalize = normalize\n",
    "        # self.linear = nn.Linear(in_channels, out_channels)\n",
    "        self.h = nn.Parameter(torch.Tensor(K+1, P)) # depends on the order of filter and P\n",
    "        self.reset_parameters() # initialize parameters\n",
    "        self.m = nn.ReLU()\n",
    "\n",
    "    def reset_parameters(self):\n",
    "        #nn.init.xavier_uniform_(self.linear.weight) # initialize the weight of the linear layer\n",
    "        #nn.init.zeros_(self.linear.bias)\n",
    "        nn.init.xavier_uniform_(self.h)\n",
    "\n",
    "    def forward(self, dataset) -> Tensor:\n",
    "        # keys of the given dataset as tensor\n",
    "        indices = torch.Tensor(list(dataset.keys())).int()\n",
    "        batch_size = len(indices) # 128\n",
    "        first_idx = indices[0].item() # since it is a tensor\n",
    "\n",
    "        # Intialize output tensor # (428, 104)\n",
    "        out = torch.zeros(dataset[first_idx].x.shape[0], batch_size - self.P).to(device)\n",
    "\n",
    "        # Cache adjacency matrices and feature matrices\n",
    "        adj_matrices = []\n",
    "        x_t_matrices = []\n",
    "\n",
    "        for i in range(first_idx, first_idx + batch_size):\n",
    "            edge_index = dataset[i].edge_index.long().to(device)\n",
    "            edge_weight = dataset[i].edge_weight.to(device)\n",
    "            adj_sparse_tensor = SparseTensor(row = edge_index[0], col = edge_index[1], value = edge_weight)\n",
    "            adj_matrices.append(adj_sparse_tensor)\n",
    "            x_t_matrices.append(dataset[i].x.to(device))\n",
    "\n",
    "        # Compute the output using cached matrices\n",
    "        for i_p in range(batch_size - self.P):\n",
    "            out_kp = torch.zeros_like(x_t_matrices[0]).to(device)\n",
    "\n",
    "            for p in range(self.P):\n",
    "                idx = i_p + p\n",
    "                x_t_minus_p = x_t_matrices[idx]\n",
    "                adj_sparse_tensor = adj_matrices[idx]\n",
    "\n",
    "                for k in range(self.K + 1):\n",
    "                    h_kp = self.h[k, p]\n",
    "                    out_kp += h_kp * self.propagate(adj_sparse_tensor, x = x_t_minus_p, k = k)\n",
    "\n",
    "            out[:, i_p] = out_kp.view(-1)\n",
    "\n",
    "        return self.m(out)\n",
    "\n",
    "    def propagate(self, adj_sparse_tensor, x = None, k = 1):\n",
    "        x_out = x\n",
    "        for _ in range(k):\n",
    "            x_out = adj_sparse_tensor.matmul(x_out)\n",
    "        return x_out\n",
    "\n",
    "class TemporalGCN(nn.Module):\n",
    "    def __init__(self, in_channels, out_channels, K, P):\n",
    "        super(TemporalGCN, self).__init__()\n",
    "        self.gcn_layer = TemporalGCNLayer(in_channels, out_channels, K, P)\n",
    "\n",
    "    def forward(self, dataset):\n",
    "        return self.gcn_layer(dataset)\n",
    "\n",
    "# Initialize the model\n",
    "in_channels = 1 # 1 feature\n",
    "out_channels = 1 # 1 feature\n",
    "K = 2 # order of polynomial filter\n",
    "P = 24 # window size\n",
    "model = TemporalGCN(in_channels, out_channels, K, P).to(device)\n",
    "optimizer = torch.optim.Adam(model.parameters(), lr = 0.01)\n",
    "criterion = nn.MSELoss()"
   ]
  },
  {
   "cell_type": "code",
   "execution_count": 17,
   "id": "edd62447-2fbe-4e0f-b546-7600ee48b34f",
   "metadata": {},
   "outputs": [
    {
     "name": "stdout",
     "output_type": "stream",
     "text": [
      "The model has 72 parameters\n"
     ]
    }
   ],
   "source": [
    "# count the number of parameters to verify\n",
    "# for K = 2, P = 3, no. of parameters = 9\n",
    "def count_parameters(model):\n",
    "    return sum(p.numel() for p in model.parameters() if p.requires_grad)\n",
    "num_params = count_parameters(model)\n",
    "print(f'The model has {num_params} parameters')"
   ]
  },
  {
   "cell_type": "code",
   "execution_count": 18,
   "id": "56c09f40",
   "metadata": {},
   "outputs": [],
   "source": [
    "def get_target(window_idx, all_nodes, P):\n",
    "    target_timestamps = window_idx[P:]\n",
    "    # get target values for all the nodes active for training\n",
    "    # target = torch.tensor(df_agg.loc[df_agg.index[target_timestamp],list(all_nodes)].values).view(-1,1).float().to(device)\n",
    "    targets = torch.Tensor([])\n",
    "    for tt in target_timestamps:\n",
    "        if targets.numel() == 0:  # Check if targets is empty\n",
    "            targets = torch.tensor(df_agg.loc[df_agg.index[tt], list(all_nodes)].values).view(-1, 1).float()\n",
    "        else:\n",
    "            new_tensor = torch.tensor(df_agg.loc[df_agg.index[tt], list(all_nodes)].values).view(-1, 1).float()\n",
    "            targets = torch.cat((targets, new_tensor), dim=1)\n",
    "    targets = torch.nan_to_num(targets)\n",
    "    return targets"
   ]
  },
  {
   "cell_type": "code",
   "execution_count": 19,
   "id": "a60b0780-bfb5-47ea-ab20-5d3c3400f53a",
   "metadata": {},
   "outputs": [
    {
     "data": {
      "text/plain": [
       "{0: Data(x=[410, 1], edge_index=[2, 63454], edge_weight=[63454]),\n",
       " 1: Data(x=[410, 1], edge_index=[2, 63454], edge_weight=[63454]),\n",
       " 2: Data(x=[410, 1], edge_index=[2, 63454], edge_weight=[63454]),\n",
       " 3: Data(x=[410, 1], edge_index=[2, 63454], edge_weight=[63454]),\n",
       " 4: Data(x=[410, 1], edge_index=[2, 63454], edge_weight=[63454]),\n",
       " 5: Data(x=[410, 1], edge_index=[2, 63454], edge_weight=[63454]),\n",
       " 6: Data(x=[410, 1], edge_index=[2, 63454], edge_weight=[63454]),\n",
       " 7: Data(x=[410, 1], edge_index=[2, 63454], edge_weight=[63454]),\n",
       " 8: Data(x=[410, 1], edge_index=[2, 63454], edge_weight=[63454]),\n",
       " 9: Data(x=[410, 1], edge_index=[2, 63454], edge_weight=[63454]),\n",
       " 10: Data(x=[410, 1], edge_index=[2, 63454], edge_weight=[63454]),\n",
       " 11: Data(x=[410, 1], edge_index=[2, 63454], edge_weight=[63454]),\n",
       " 12: Data(x=[410, 1], edge_index=[2, 63454], edge_weight=[63454]),\n",
       " 13: Data(x=[410, 1], edge_index=[2, 63454], edge_weight=[63454]),\n",
       " 14: Data(x=[410, 1], edge_index=[2, 63454], edge_weight=[63454]),\n",
       " 15: Data(x=[410, 1], edge_index=[2, 63454], edge_weight=[63454]),\n",
       " 16: Data(x=[410, 1], edge_index=[2, 63454], edge_weight=[63454]),\n",
       " 17: Data(x=[410, 1], edge_index=[2, 63454], edge_weight=[63454]),\n",
       " 18: Data(x=[410, 1], edge_index=[2, 63454], edge_weight=[63454]),\n",
       " 19: Data(x=[410, 1], edge_index=[2, 63454], edge_weight=[63454]),\n",
       " 20: Data(x=[410, 1], edge_index=[2, 63454], edge_weight=[63454]),\n",
       " 21: Data(x=[410, 1], edge_index=[2, 63454], edge_weight=[63454]),\n",
       " 22: Data(x=[410, 1], edge_index=[2, 63454], edge_weight=[63454]),\n",
       " 23: Data(x=[410, 1], edge_index=[2, 63454], edge_weight=[63454]),\n",
       " 24: Data(x=[410, 1], edge_index=[2, 63454], edge_weight=[63454]),\n",
       " 25: Data(x=[410, 1], edge_index=[2, 63454], edge_weight=[63454]),\n",
       " 26: Data(x=[410, 1], edge_index=[2, 63454], edge_weight=[63454]),\n",
       " 27: Data(x=[410, 1], edge_index=[2, 63454], edge_weight=[63454]),\n",
       " 28: Data(x=[410, 1], edge_index=[2, 63454], edge_weight=[63454]),\n",
       " 29: Data(x=[410, 1], edge_index=[2, 63454], edge_weight=[63454]),\n",
       " 30: Data(x=[410, 1], edge_index=[2, 63454], edge_weight=[63454]),\n",
       " 31: Data(x=[410, 1], edge_index=[2, 63454], edge_weight=[63454]),\n",
       " 32: Data(x=[410, 1], edge_index=[2, 63454], edge_weight=[63454]),\n",
       " 33: Data(x=[410, 1], edge_index=[2, 63454], edge_weight=[63454]),\n",
       " 34: Data(x=[410, 1], edge_index=[2, 63454], edge_weight=[63454]),\n",
       " 35: Data(x=[410, 1], edge_index=[2, 63454], edge_weight=[63454]),\n",
       " 36: Data(x=[410, 1], edge_index=[2, 63454], edge_weight=[63454]),\n",
       " 37: Data(x=[410, 1], edge_index=[2, 63454], edge_weight=[63454]),\n",
       " 38: Data(x=[410, 1], edge_index=[2, 63454], edge_weight=[63454]),\n",
       " 39: Data(x=[410, 1], edge_index=[2, 63454], edge_weight=[63454]),\n",
       " 40: Data(x=[410, 1], edge_index=[2, 63454], edge_weight=[63454]),\n",
       " 41: Data(x=[410, 1], edge_index=[2, 63454], edge_weight=[63454]),\n",
       " 42: Data(x=[410, 1], edge_index=[2, 63454], edge_weight=[63454]),\n",
       " 43: Data(x=[410, 1], edge_index=[2, 63454], edge_weight=[63454]),\n",
       " 44: Data(x=[410, 1], edge_index=[2, 63454], edge_weight=[63454]),\n",
       " 45: Data(x=[410, 1], edge_index=[2, 63454], edge_weight=[63454]),\n",
       " 46: Data(x=[410, 1], edge_index=[2, 63454], edge_weight=[63454]),\n",
       " 47: Data(x=[410, 1], edge_index=[2, 63454], edge_weight=[63454])}"
      ]
     },
     "execution_count": 19,
     "metadata": {},
     "output_type": "execute_result"
    }
   ],
   "source": [
    "dataset.get_batch_instance(0)"
   ]
  },
  {
   "cell_type": "code",
   "execution_count": 20,
   "id": "e69c7401",
   "metadata": {},
   "outputs": [],
   "source": [
    "test_batch_windows = get_train_batch_blocks(train_test_blocks[2],train_test_blocks[3], batch_size = batch_size)\n",
    "test_dataset = TemporalGraphDataset(adjacency_matrix, df_agg)\n",
    "for b, window_idx in enumerate(test_batch_windows):\n",
    "    test_dataset.add_batch_instance(window_idx, b)"
   ]
  },
  {
   "cell_type": "code",
   "execution_count": 21,
   "id": "a5e6b978-38a6-4bc1-88c9-276d1b703889",
   "metadata": {},
   "outputs": [
    {
     "name": "stderr",
     "output_type": "stream",
     "text": [
      "  0%|          | 0/100 [00:36<?, ?it/s]\n"
     ]
    },
    {
     "ename": "KeyboardInterrupt",
     "evalue": "",
     "output_type": "error",
     "traceback": [
      "\u001b[0;31m---------------------------------------------------------------------------\u001b[0m",
      "\u001b[0;31mKeyboardInterrupt\u001b[0m                         Traceback (most recent call last)",
      "Cell \u001b[0;32mIn[21], line 34\u001b[0m\n\u001b[1;32m     32\u001b[0m optimizer\u001b[38;5;241m.\u001b[39mzero_grad()\n\u001b[1;32m     33\u001b[0m \u001b[38;5;66;03m# Forward pass\u001b[39;00m\n\u001b[0;32m---> 34\u001b[0m predict \u001b[38;5;241m=\u001b[39m \u001b[43mmodel\u001b[49m\u001b[43m(\u001b[49m\u001b[43mtest_dataset\u001b[49m\u001b[38;5;241;43m.\u001b[39;49m\u001b[43mget_batch_instance\u001b[49m\u001b[43m(\u001b[49m\u001b[43mi\u001b[49m\u001b[43m)\u001b[49m\u001b[43m)\u001b[49m\n\u001b[1;32m     36\u001b[0m target \u001b[38;5;241m=\u001b[39m get_target(batch, test_dataset\u001b[38;5;241m.\u001b[39mget_all_nodes(i), P)\n\u001b[1;32m     38\u001b[0m loss \u001b[38;5;241m=\u001b[39m criterion(predict, target)\n",
      "File \u001b[0;32m~/Documents/github/ml4gd-project-group-3/.venv/lib/python3.11/site-packages/torch/nn/modules/module.py:1532\u001b[0m, in \u001b[0;36mModule._wrapped_call_impl\u001b[0;34m(self, *args, **kwargs)\u001b[0m\n\u001b[1;32m   1530\u001b[0m     \u001b[38;5;28;01mreturn\u001b[39;00m \u001b[38;5;28mself\u001b[39m\u001b[38;5;241m.\u001b[39m_compiled_call_impl(\u001b[38;5;241m*\u001b[39margs, \u001b[38;5;241m*\u001b[39m\u001b[38;5;241m*\u001b[39mkwargs)  \u001b[38;5;66;03m# type: ignore[misc]\u001b[39;00m\n\u001b[1;32m   1531\u001b[0m \u001b[38;5;28;01melse\u001b[39;00m:\n\u001b[0;32m-> 1532\u001b[0m     \u001b[38;5;28;01mreturn\u001b[39;00m \u001b[38;5;28;43mself\u001b[39;49m\u001b[38;5;241;43m.\u001b[39;49m\u001b[43m_call_impl\u001b[49m\u001b[43m(\u001b[49m\u001b[38;5;241;43m*\u001b[39;49m\u001b[43margs\u001b[49m\u001b[43m,\u001b[49m\u001b[43m \u001b[49m\u001b[38;5;241;43m*\u001b[39;49m\u001b[38;5;241;43m*\u001b[39;49m\u001b[43mkwargs\u001b[49m\u001b[43m)\u001b[49m\n",
      "File \u001b[0;32m~/Documents/github/ml4gd-project-group-3/.venv/lib/python3.11/site-packages/torch/nn/modules/module.py:1541\u001b[0m, in \u001b[0;36mModule._call_impl\u001b[0;34m(self, *args, **kwargs)\u001b[0m\n\u001b[1;32m   1536\u001b[0m \u001b[38;5;66;03m# If we don't have any hooks, we want to skip the rest of the logic in\u001b[39;00m\n\u001b[1;32m   1537\u001b[0m \u001b[38;5;66;03m# this function, and just call forward.\u001b[39;00m\n\u001b[1;32m   1538\u001b[0m \u001b[38;5;28;01mif\u001b[39;00m \u001b[38;5;129;01mnot\u001b[39;00m (\u001b[38;5;28mself\u001b[39m\u001b[38;5;241m.\u001b[39m_backward_hooks \u001b[38;5;129;01mor\u001b[39;00m \u001b[38;5;28mself\u001b[39m\u001b[38;5;241m.\u001b[39m_backward_pre_hooks \u001b[38;5;129;01mor\u001b[39;00m \u001b[38;5;28mself\u001b[39m\u001b[38;5;241m.\u001b[39m_forward_hooks \u001b[38;5;129;01mor\u001b[39;00m \u001b[38;5;28mself\u001b[39m\u001b[38;5;241m.\u001b[39m_forward_pre_hooks\n\u001b[1;32m   1539\u001b[0m         \u001b[38;5;129;01mor\u001b[39;00m _global_backward_pre_hooks \u001b[38;5;129;01mor\u001b[39;00m _global_backward_hooks\n\u001b[1;32m   1540\u001b[0m         \u001b[38;5;129;01mor\u001b[39;00m _global_forward_hooks \u001b[38;5;129;01mor\u001b[39;00m _global_forward_pre_hooks):\n\u001b[0;32m-> 1541\u001b[0m     \u001b[38;5;28;01mreturn\u001b[39;00m \u001b[43mforward_call\u001b[49m\u001b[43m(\u001b[49m\u001b[38;5;241;43m*\u001b[39;49m\u001b[43margs\u001b[49m\u001b[43m,\u001b[49m\u001b[43m \u001b[49m\u001b[38;5;241;43m*\u001b[39;49m\u001b[38;5;241;43m*\u001b[39;49m\u001b[43mkwargs\u001b[49m\u001b[43m)\u001b[49m\n\u001b[1;32m   1543\u001b[0m \u001b[38;5;28;01mtry\u001b[39;00m:\n\u001b[1;32m   1544\u001b[0m     result \u001b[38;5;241m=\u001b[39m \u001b[38;5;28;01mNone\u001b[39;00m\n",
      "Cell \u001b[0;32mIn[16], line 66\u001b[0m, in \u001b[0;36mTemporalGCN.forward\u001b[0;34m(self, dataset)\u001b[0m\n\u001b[1;32m     65\u001b[0m \u001b[38;5;28;01mdef\u001b[39;00m \u001b[38;5;21mforward\u001b[39m(\u001b[38;5;28mself\u001b[39m, dataset):\n\u001b[0;32m---> 66\u001b[0m     \u001b[38;5;28;01mreturn\u001b[39;00m \u001b[38;5;28;43mself\u001b[39;49m\u001b[38;5;241;43m.\u001b[39;49m\u001b[43mgcn_layer\u001b[49m\u001b[43m(\u001b[49m\u001b[43mdataset\u001b[49m\u001b[43m)\u001b[49m\n",
      "File \u001b[0;32m~/Documents/github/ml4gd-project-group-3/.venv/lib/python3.11/site-packages/torch/nn/modules/module.py:1532\u001b[0m, in \u001b[0;36mModule._wrapped_call_impl\u001b[0;34m(self, *args, **kwargs)\u001b[0m\n\u001b[1;32m   1530\u001b[0m     \u001b[38;5;28;01mreturn\u001b[39;00m \u001b[38;5;28mself\u001b[39m\u001b[38;5;241m.\u001b[39m_compiled_call_impl(\u001b[38;5;241m*\u001b[39margs, \u001b[38;5;241m*\u001b[39m\u001b[38;5;241m*\u001b[39mkwargs)  \u001b[38;5;66;03m# type: ignore[misc]\u001b[39;00m\n\u001b[1;32m   1531\u001b[0m \u001b[38;5;28;01melse\u001b[39;00m:\n\u001b[0;32m-> 1532\u001b[0m     \u001b[38;5;28;01mreturn\u001b[39;00m \u001b[38;5;28;43mself\u001b[39;49m\u001b[38;5;241;43m.\u001b[39;49m\u001b[43m_call_impl\u001b[49m\u001b[43m(\u001b[49m\u001b[38;5;241;43m*\u001b[39;49m\u001b[43margs\u001b[49m\u001b[43m,\u001b[49m\u001b[43m \u001b[49m\u001b[38;5;241;43m*\u001b[39;49m\u001b[38;5;241;43m*\u001b[39;49m\u001b[43mkwargs\u001b[49m\u001b[43m)\u001b[49m\n",
      "File \u001b[0;32m~/Documents/github/ml4gd-project-group-3/.venv/lib/python3.11/site-packages/torch/nn/modules/module.py:1541\u001b[0m, in \u001b[0;36mModule._call_impl\u001b[0;34m(self, *args, **kwargs)\u001b[0m\n\u001b[1;32m   1536\u001b[0m \u001b[38;5;66;03m# If we don't have any hooks, we want to skip the rest of the logic in\u001b[39;00m\n\u001b[1;32m   1537\u001b[0m \u001b[38;5;66;03m# this function, and just call forward.\u001b[39;00m\n\u001b[1;32m   1538\u001b[0m \u001b[38;5;28;01mif\u001b[39;00m \u001b[38;5;129;01mnot\u001b[39;00m (\u001b[38;5;28mself\u001b[39m\u001b[38;5;241m.\u001b[39m_backward_hooks \u001b[38;5;129;01mor\u001b[39;00m \u001b[38;5;28mself\u001b[39m\u001b[38;5;241m.\u001b[39m_backward_pre_hooks \u001b[38;5;129;01mor\u001b[39;00m \u001b[38;5;28mself\u001b[39m\u001b[38;5;241m.\u001b[39m_forward_hooks \u001b[38;5;129;01mor\u001b[39;00m \u001b[38;5;28mself\u001b[39m\u001b[38;5;241m.\u001b[39m_forward_pre_hooks\n\u001b[1;32m   1539\u001b[0m         \u001b[38;5;129;01mor\u001b[39;00m _global_backward_pre_hooks \u001b[38;5;129;01mor\u001b[39;00m _global_backward_hooks\n\u001b[1;32m   1540\u001b[0m         \u001b[38;5;129;01mor\u001b[39;00m _global_forward_hooks \u001b[38;5;129;01mor\u001b[39;00m _global_forward_pre_hooks):\n\u001b[0;32m-> 1541\u001b[0m     \u001b[38;5;28;01mreturn\u001b[39;00m \u001b[43mforward_call\u001b[49m\u001b[43m(\u001b[49m\u001b[38;5;241;43m*\u001b[39;49m\u001b[43margs\u001b[49m\u001b[43m,\u001b[49m\u001b[43m \u001b[49m\u001b[38;5;241;43m*\u001b[39;49m\u001b[38;5;241;43m*\u001b[39;49m\u001b[43mkwargs\u001b[49m\u001b[43m)\u001b[49m\n\u001b[1;32m   1543\u001b[0m \u001b[38;5;28;01mtry\u001b[39;00m:\n\u001b[1;32m   1544\u001b[0m     result \u001b[38;5;241m=\u001b[39m \u001b[38;5;28;01mNone\u001b[39;00m\n",
      "Cell \u001b[0;32mIn[16], line 48\u001b[0m, in \u001b[0;36mTemporalGCNLayer.forward\u001b[0;34m(self, dataset)\u001b[0m\n\u001b[1;32m     46\u001b[0m         \u001b[38;5;28;01mfor\u001b[39;00m k \u001b[38;5;129;01min\u001b[39;00m \u001b[38;5;28mrange\u001b[39m(\u001b[38;5;28mself\u001b[39m\u001b[38;5;241m.\u001b[39mK \u001b[38;5;241m+\u001b[39m \u001b[38;5;241m1\u001b[39m):\n\u001b[1;32m     47\u001b[0m             h_kp \u001b[38;5;241m=\u001b[39m \u001b[38;5;28mself\u001b[39m\u001b[38;5;241m.\u001b[39mh[k, p]\n\u001b[0;32m---> 48\u001b[0m             out_kp \u001b[38;5;241m+\u001b[39m\u001b[38;5;241m=\u001b[39m h_kp \u001b[38;5;241m*\u001b[39m \u001b[38;5;28;43mself\u001b[39;49m\u001b[38;5;241;43m.\u001b[39;49m\u001b[43mpropagate\u001b[49m\u001b[43m(\u001b[49m\u001b[43madj_sparse_tensor\u001b[49m\u001b[43m,\u001b[49m\u001b[43m \u001b[49m\u001b[43mx\u001b[49m\u001b[43m \u001b[49m\u001b[38;5;241;43m=\u001b[39;49m\u001b[43m \u001b[49m\u001b[43mx_t_minus_p\u001b[49m\u001b[43m,\u001b[49m\u001b[43m \u001b[49m\u001b[43mk\u001b[49m\u001b[43m \u001b[49m\u001b[38;5;241;43m=\u001b[39;49m\u001b[43m \u001b[49m\u001b[43mk\u001b[49m\u001b[43m)\u001b[49m\n\u001b[1;32m     50\u001b[0m     out[:, i_p] \u001b[38;5;241m=\u001b[39m out_kp\u001b[38;5;241m.\u001b[39mview(\u001b[38;5;241m-\u001b[39m\u001b[38;5;241m1\u001b[39m)\n\u001b[1;32m     52\u001b[0m \u001b[38;5;28;01mreturn\u001b[39;00m \u001b[38;5;28mself\u001b[39m\u001b[38;5;241m.\u001b[39mm(out)\n",
      "Cell \u001b[0;32mIn[16], line 57\u001b[0m, in \u001b[0;36mTemporalGCNLayer.propagate\u001b[0;34m(self, adj_sparse_tensor, x, k)\u001b[0m\n\u001b[1;32m     55\u001b[0m x_out \u001b[38;5;241m=\u001b[39m x\n\u001b[1;32m     56\u001b[0m \u001b[38;5;28;01mfor\u001b[39;00m _ \u001b[38;5;129;01min\u001b[39;00m \u001b[38;5;28mrange\u001b[39m(k):\n\u001b[0;32m---> 57\u001b[0m     x_out \u001b[38;5;241m=\u001b[39m \u001b[43madj_sparse_tensor\u001b[49m\u001b[38;5;241;43m.\u001b[39;49m\u001b[43mmatmul\u001b[49m\u001b[43m(\u001b[49m\u001b[43mx_out\u001b[49m\u001b[43m)\u001b[49m\n\u001b[1;32m     58\u001b[0m \u001b[38;5;28;01mreturn\u001b[39;00m x_out\n",
      "File \u001b[0;32m~/Documents/github/ml4gd-project-group-3/.venv/lib/python3.11/site-packages/torch_sparse/matmul.py:169\u001b[0m, in \u001b[0;36m<lambda>\u001b[0;34m(self, other, reduce)\u001b[0m\n\u001b[1;32m    166\u001b[0m SparseTensor\u001b[38;5;241m.\u001b[39mspmm \u001b[38;5;241m=\u001b[39m \u001b[38;5;28;01mlambda\u001b[39;00m \u001b[38;5;28mself\u001b[39m, other, reduce\u001b[38;5;241m=\u001b[39m\u001b[38;5;124m\"\u001b[39m\u001b[38;5;124msum\u001b[39m\u001b[38;5;124m\"\u001b[39m: spmm(\u001b[38;5;28mself\u001b[39m, other, reduce)\n\u001b[1;32m    167\u001b[0m SparseTensor\u001b[38;5;241m.\u001b[39mspspmm \u001b[38;5;241m=\u001b[39m \u001b[38;5;28;01mlambda\u001b[39;00m \u001b[38;5;28mself\u001b[39m, other, reduce\u001b[38;5;241m=\u001b[39m\u001b[38;5;124m\"\u001b[39m\u001b[38;5;124msum\u001b[39m\u001b[38;5;124m\"\u001b[39m: spspmm(\n\u001b[1;32m    168\u001b[0m     \u001b[38;5;28mself\u001b[39m, other, reduce)\n\u001b[0;32m--> 169\u001b[0m SparseTensor\u001b[38;5;241m.\u001b[39mmatmul \u001b[38;5;241m=\u001b[39m \u001b[38;5;28;01mlambda\u001b[39;00m \u001b[38;5;28mself\u001b[39m, other, reduce\u001b[38;5;241m=\u001b[39m\u001b[38;5;124m\"\u001b[39m\u001b[38;5;124msum\u001b[39m\u001b[38;5;124m\"\u001b[39m: \u001b[43mmatmul\u001b[49m\u001b[43m(\u001b[49m\n\u001b[1;32m    170\u001b[0m \u001b[43m    \u001b[49m\u001b[38;5;28;43mself\u001b[39;49m\u001b[43m,\u001b[49m\u001b[43m \u001b[49m\u001b[43mother\u001b[49m\u001b[43m,\u001b[49m\u001b[43m \u001b[49m\u001b[43mreduce\u001b[49m\u001b[43m)\u001b[49m\n\u001b[1;32m    171\u001b[0m SparseTensor\u001b[38;5;241m.\u001b[39m\u001b[38;5;21m__matmul__\u001b[39m \u001b[38;5;241m=\u001b[39m \u001b[38;5;28;01mlambda\u001b[39;00m \u001b[38;5;28mself\u001b[39m, other: matmul(\u001b[38;5;28mself\u001b[39m, other, \u001b[38;5;124m'\u001b[39m\u001b[38;5;124msum\u001b[39m\u001b[38;5;124m'\u001b[39m)\n",
      "File \u001b[0;32m~/Documents/github/ml4gd-project-group-3/.venv/lib/python3.11/site-packages/torch_sparse/matmul.py:160\u001b[0m, in \u001b[0;36mmatmul\u001b[0;34m(src, other, reduce)\u001b[0m\n\u001b[1;32m    142\u001b[0m \u001b[38;5;250m\u001b[39m\u001b[38;5;124;03m\"\"\"Matrix product of a sparse tensor with either another sparse tensor or a\u001b[39;00m\n\u001b[1;32m    143\u001b[0m \u001b[38;5;124;03m dense tensor. The sparse tensor represents an adjacency matrix and is\u001b[39;00m\n\u001b[1;32m    144\u001b[0m \u001b[38;5;124;03m stored as a list of edges. This method multiplies elements along the rows\u001b[39;00m\n\u001b[0;32m   (...)\u001b[0m\n\u001b[1;32m    157\u001b[0m \u001b[38;5;124;03m:rtype: (:class:`Tensor`)\u001b[39;00m\n\u001b[1;32m    158\u001b[0m \u001b[38;5;124;03m\"\"\"\u001b[39;00m\n\u001b[1;32m    159\u001b[0m \u001b[38;5;28;01mif\u001b[39;00m \u001b[38;5;28misinstance\u001b[39m(other, torch\u001b[38;5;241m.\u001b[39mTensor):\n\u001b[0;32m--> 160\u001b[0m     \u001b[38;5;28;01mreturn\u001b[39;00m \u001b[43mspmm\u001b[49m\u001b[43m(\u001b[49m\u001b[43msrc\u001b[49m\u001b[43m,\u001b[49m\u001b[43m \u001b[49m\u001b[43mother\u001b[49m\u001b[43m,\u001b[49m\u001b[43m \u001b[49m\u001b[43mreduce\u001b[49m\u001b[43m)\u001b[49m\n\u001b[1;32m    161\u001b[0m \u001b[38;5;28;01melif\u001b[39;00m \u001b[38;5;28misinstance\u001b[39m(other, SparseTensor):\n\u001b[1;32m    162\u001b[0m     \u001b[38;5;28;01mreturn\u001b[39;00m spspmm(src, other, reduce)\n",
      "File \u001b[0;32m~/Documents/github/ml4gd-project-group-3/.venv/lib/python3.11/site-packages/torch_sparse/matmul.py:83\u001b[0m, in \u001b[0;36mspmm\u001b[0;34m(src, other, reduce)\u001b[0m\n\u001b[1;32m     79\u001b[0m \u001b[38;5;28;01mdef\u001b[39;00m \u001b[38;5;21mspmm\u001b[39m(src: SparseTensor,\n\u001b[1;32m     80\u001b[0m          other: torch\u001b[38;5;241m.\u001b[39mTensor,\n\u001b[1;32m     81\u001b[0m          reduce: \u001b[38;5;28mstr\u001b[39m \u001b[38;5;241m=\u001b[39m \u001b[38;5;124m\"\u001b[39m\u001b[38;5;124msum\u001b[39m\u001b[38;5;124m\"\u001b[39m) \u001b[38;5;241m-\u001b[39m\u001b[38;5;241m>\u001b[39m torch\u001b[38;5;241m.\u001b[39mTensor:\n\u001b[1;32m     82\u001b[0m     \u001b[38;5;28;01mif\u001b[39;00m reduce \u001b[38;5;241m==\u001b[39m \u001b[38;5;124m'\u001b[39m\u001b[38;5;124msum\u001b[39m\u001b[38;5;124m'\u001b[39m \u001b[38;5;129;01mor\u001b[39;00m reduce \u001b[38;5;241m==\u001b[39m \u001b[38;5;124m'\u001b[39m\u001b[38;5;124madd\u001b[39m\u001b[38;5;124m'\u001b[39m:\n\u001b[0;32m---> 83\u001b[0m         \u001b[38;5;28;01mreturn\u001b[39;00m \u001b[43mspmm_sum\u001b[49m\u001b[43m(\u001b[49m\u001b[43msrc\u001b[49m\u001b[43m,\u001b[49m\u001b[43m \u001b[49m\u001b[43mother\u001b[49m\u001b[43m)\u001b[49m\n\u001b[1;32m     84\u001b[0m     \u001b[38;5;28;01melif\u001b[39;00m reduce \u001b[38;5;241m==\u001b[39m \u001b[38;5;124m'\u001b[39m\u001b[38;5;124mmean\u001b[39m\u001b[38;5;124m'\u001b[39m:\n\u001b[1;32m     85\u001b[0m         \u001b[38;5;28;01mreturn\u001b[39;00m spmm_mean(src, other)\n",
      "File \u001b[0;32m~/Documents/github/ml4gd-project-group-3/.venv/lib/python3.11/site-packages/torch_sparse/matmul.py:27\u001b[0m, in \u001b[0;36mspmm_sum\u001b[0;34m(src, other)\u001b[0m\n\u001b[1;32m     24\u001b[0m     csr2csc \u001b[38;5;241m=\u001b[39m src\u001b[38;5;241m.\u001b[39mstorage\u001b[38;5;241m.\u001b[39mcsr2csc()\n\u001b[1;32m     25\u001b[0m     colptr \u001b[38;5;241m=\u001b[39m src\u001b[38;5;241m.\u001b[39mstorage\u001b[38;5;241m.\u001b[39mcolptr()\n\u001b[0;32m---> 27\u001b[0m \u001b[38;5;28;01mreturn\u001b[39;00m \u001b[43mtorch\u001b[49m\u001b[38;5;241;43m.\u001b[39;49m\u001b[43mops\u001b[49m\u001b[38;5;241;43m.\u001b[39;49m\u001b[43mtorch_sparse\u001b[49m\u001b[38;5;241;43m.\u001b[39;49m\u001b[43mspmm_sum\u001b[49m\u001b[43m(\u001b[49m\u001b[43mrow\u001b[49m\u001b[43m,\u001b[49m\u001b[43m \u001b[49m\u001b[43mrowptr\u001b[49m\u001b[43m,\u001b[49m\u001b[43m \u001b[49m\u001b[43mcol\u001b[49m\u001b[43m,\u001b[49m\u001b[43m \u001b[49m\u001b[43mvalue\u001b[49m\u001b[43m,\u001b[49m\u001b[43m \u001b[49m\u001b[43mcolptr\u001b[49m\u001b[43m,\u001b[49m\n\u001b[1;32m     28\u001b[0m \u001b[43m                                       \u001b[49m\u001b[43mcsr2csc\u001b[49m\u001b[43m,\u001b[49m\u001b[43m \u001b[49m\u001b[43mother\u001b[49m\u001b[43m)\u001b[49m\n",
      "File \u001b[0;32m~/Documents/github/ml4gd-project-group-3/.venv/lib/python3.11/site-packages/torch/_ops.py:854\u001b[0m, in \u001b[0;36mOpOverloadPacket.__call__\u001b[0;34m(self_, *args, **kwargs)\u001b[0m\n\u001b[1;32m    846\u001b[0m \u001b[38;5;28;01mdef\u001b[39;00m \u001b[38;5;21m__call__\u001b[39m(self_, \u001b[38;5;241m*\u001b[39margs, \u001b[38;5;241m*\u001b[39m\u001b[38;5;241m*\u001b[39mkwargs):  \u001b[38;5;66;03m# noqa: B902\u001b[39;00m\n\u001b[1;32m    847\u001b[0m     \u001b[38;5;66;03m# use `self_` to avoid naming collide with aten ops arguments that\u001b[39;00m\n\u001b[1;32m    848\u001b[0m     \u001b[38;5;66;03m# named \"self\". This way, all the aten ops can be called by kwargs.\u001b[39;00m\n\u001b[0;32m   (...)\u001b[0m\n\u001b[1;32m    852\u001b[0m     \u001b[38;5;66;03m# We save the function ptr as the `op` attribute on\u001b[39;00m\n\u001b[1;32m    853\u001b[0m     \u001b[38;5;66;03m# OpOverloadPacket to access it here.\u001b[39;00m\n\u001b[0;32m--> 854\u001b[0m     \u001b[38;5;28;01mreturn\u001b[39;00m \u001b[43mself_\u001b[49m\u001b[38;5;241;43m.\u001b[39;49m\u001b[43m_op\u001b[49m\u001b[43m(\u001b[49m\u001b[38;5;241;43m*\u001b[39;49m\u001b[43margs\u001b[49m\u001b[43m,\u001b[49m\u001b[43m \u001b[49m\u001b[38;5;241;43m*\u001b[39;49m\u001b[38;5;241;43m*\u001b[39;49m\u001b[43m(\u001b[49m\u001b[43mkwargs\u001b[49m\u001b[43m \u001b[49m\u001b[38;5;129;43;01mor\u001b[39;49;00m\u001b[43m \u001b[49m\u001b[43m{\u001b[49m\u001b[43m}\u001b[49m\u001b[43m)\u001b[49m\u001b[43m)\u001b[49m\n",
      "\u001b[0;31mKeyboardInterrupt\u001b[0m: "
     ]
    }
   ],
   "source": [
    "# Training Loop\n",
    "num_epochs = 100\n",
    "\n",
    "train_losses = []\n",
    "test_losses = []\n",
    "\n",
    "predict=0\n",
    "for epoch in tqdm(range(num_epochs)):\n",
    "    batch_losses = []\n",
    "    for i, batch in enumerate(batch_windows):\n",
    "\n",
    "        model.train()\n",
    "        optimizer.zero_grad()\n",
    "\n",
    "        # Forward pass\n",
    "        predict = model(dataset.get_batch_instance(i))\n",
    "\n",
    "        target = get_target(batch, dataset.get_all_nodes(i), P)\n",
    "\n",
    "        loss = criterion(predict, target)\n",
    "        # Backward pass and optimization\n",
    "        loss.backward()\n",
    "        optimizer.step()\n",
    "        # train_losses.append(loss.item())\n",
    "        # print(f'Batch loss: {loss.item():.4f}')\n",
    "        batch_losses.append(loss.item())\n",
    "    train_losses.append(sum(batch_losses)/batch.shape[0])\n",
    "\n",
    "    batch_losses = []\n",
    "    for i, batch in enumerate(test_batch_windows):\n",
    "        model.eval()\n",
    "        optimizer.zero_grad()\n",
    "        # Forward pass\n",
    "        predict = model(test_dataset.get_batch_instance(i))\n",
    "\n",
    "        target = get_target(batch, test_dataset.get_all_nodes(i), P)\n",
    "\n",
    "        loss = criterion(predict, target)\n",
    "        batch_losses.append(loss.item())\n",
    "\n",
    "    test_losses.append(sum(batch_losses)/batch.shape[0])\n",
    "    print(f'Epoch [{epoch+1}/{num_epochs}], Loss: {sum(batch_losses)/batch.shape[0]:.4f}')\n",
    "\n",
    "print(\"Training Finished!\")"
   ]
  },
  {
   "cell_type": "code",
   "execution_count": null,
   "id": "a937a36a",
   "metadata": {},
   "outputs": [
    {
     "data": {
      "text/plain": [
       "<matplotlib.legend.Legend at 0x37498a950>"
      ]
     },
     "execution_count": 23,
     "metadata": {},
     "output_type": "execute_result"
    },
    {
     "data": {
      "application/vnd.jupyter.widget-view+json": {
       "model_id": "3c99791c39b94804aa8e482fbc543b3e",
       "version_major": 2,
       "version_minor": 0
      },
      "image/png": "[encoded data removed]",
      "text/html": [
       "\n",
       "            <div style=\"display: inline-block;\">\n",
       "                <div class=\"jupyter-widgets widget-label\" style=\"text-align: center;\">\n",
       "                    Figure\n",
       "                </div>\n",
       "                <img src='data:image/png;base64,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' width=800.0/>\n",
       "            </div>\n",
       "        "
      ],
      "text/plain": [
       "Canvas(toolbar=Toolbar(toolitems=[('Home', 'Reset original view', 'home', 'home'), ('Back', 'Back to previous …"
      ]
     },
     "metadata": {},
     "output_type": "display_data"
    }
   ],
   "source": [
    "fig, ax = plt.subplots()\n",
    "ax.plot(train_losses, label='Training Loss')\n",
    "ax.plot(test_losses, label='Validation Loss')\n",
    "ax.set_xlabel('Epochs')\n",
    "ax.set_ylabel('Loss')\n",
    "ax.set_title('Training Loss')\n",
    "ax.legend()"
   ]
  },
  {
   "cell_type": "code",
   "execution_count": null,
   "id": "d971b9be",
   "metadata": {},
   "outputs": [],
   "source": [
    "test_batch_windows = get_train_batch_blocks(train_test_blocks[2],train_test_blocks[3], batch_size = batch_size)\n",
    "test_dataset = TemporalGraphDataset(adjacency_matrix, df_agg)\n",
    "for b, window_idx in enumerate(test_batch_windows):\n",
    "    test_dataset.add_batch_instance(window_idx, b)"
   ]
  },
  {
   "cell_type": "code",
   "execution_count": null,
   "id": "2402e28b",
   "metadata": {},
   "outputs": [
    {
     "name": "stdout",
     "output_type": "stream",
     "text": [
      "Epoch [100/100], Loss: 0.4339\n",
      "Testing Finished!\n"
     ]
    }
   ],
   "source": [
    "# # Training Loop\n",
    "# num_epochs = 100\n",
    "\n",
    "# test_losses = []\n",
    "\n",
    "# predict = 0\n",
    "\n",
    "# batch_losses = []\n",
    "# for i, batch in enumerate(test_batch_windows):\n",
    "\n",
    "#     model.eval()\n",
    "#     optimizer.zero_grad()\n",
    "\n",
    "#     # Forward pass\n",
    "#     predict = model(test_dataset.get_batch_instance(i))\n",
    "\n",
    "#     target = get_target(batch, test_dataset.get_all_nodes(i), P)\n",
    "\n",
    "#     loss = criterion(predict, target)\n",
    "#     batch_losses.append(loss.item())\n",
    "\n",
    "# # if (epoch+1) % 20 == 0:\n",
    "# test_losses.append(sum(batch_losses)/batch.shape[0])\n",
    "# print(f'Epoch [{epoch+1}/{num_epochs}], Loss: {sum(batch_losses)/batch.shape[0]:.4f}')\n",
    "# print(\"Testing Finished!\")"
   ]
  },
  {
   "cell_type": "code",
   "execution_count": null,
   "id": "d6847275-1c8c-492a-94d7-349edaa8ef02",
   "metadata": {},
   "outputs": [
    {
     "data": {
      "text/plain": [
       "[<matplotlib.lines.Line2D at 0x1f37b5630d0>]"
      ]
     },
     "execution_count": 19,
     "metadata": {},
     "output_type": "execute_result"
    },
    {
     "data": {
      "application/vnd.jupyter.widget-view+json": {
       "model_id": "fd85140ee5be46018bf26546c641f102",
       "version_major": 2,
       "version_minor": 0
      },
      "image/png": "[encoded data removed]",
      "text/html": [
       "\n",
       "            <div style=\"display: inline-block;\">\n",
       "                <div class=\"jupyter-widgets widget-label\" style=\"text-align: center;\">\n",
       "                    Figure\n",
       "                </div>\n",
       "                <img src='data:image/png;base64,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' width=640.0/>\n",
       "            </div>\n",
       "        "
      ],
      "text/plain": [
       "Canvas(toolbar=Toolbar(toolitems=[('Home', 'Reset original view', 'home', 'home'), ('Back', 'Back to previous …"
      ]
     },
     "metadata": {},
     "output_type": "display_data"
    }
   ],
   "source": []
  },
  {
   "cell_type": "code",
   "execution_count": null,
   "id": "7d736c16-398f-41bb-b040-65276c5001e1",
   "metadata": {},
   "outputs": [],
   "source": [
    "# saving trained model\n",
    "torch.save(model.state_dict(), 'models/model_parameters_T12_K2_Epoch200.pth')"
   ]
  },
  {
   "cell_type": "code",
   "execution_count": null,
   "id": "d712a1bc-76bc-4eea-988f-1450330e038d",
   "metadata": {},
   "outputs": [],
   "source": [
    "# # Instantiate the model first\n",
    "# model = SimpleModel()\n",
    "\n",
    "# # Load the model parameters\n",
    "# model.load_state_dict(torch.load('model_parameters.pth'))\n",
    "# model.eval()  # Set the model to evaluation mode if you are using it for inference"
   ]
  },
  {
   "cell_type": "markdown",
   "id": "cd9ce433-2a62-40a0-b4fb-a783a3af2707",
   "metadata": {},
   "source": [
    "## Below part is not useful but kept for backup."
   ]
  },
  {
   "cell_type": "markdown",
   "id": "3e46300c-f1f7-4220-bdcb-490659d8f67e",
   "metadata": {},
   "source": [
    "### Build the supra-adjacency matrix $S_\\diamond$ from all the aligned subadjacency matrices \"book\" $\\$_i$ \n",
    "Build a supra-adjacency matrix for $n$ time instances using spatio-temporal coupling. Note: we cannot use the kronecker product here since at all instances, the adjacnecy matrix `aligned_subadj1/2/3` is different. "
   ]
  },
  {
   "cell_type": "code",
   "execution_count": null,
   "id": "e4febc29-ccba-4625-a1c0-fcf762ea3aab",
   "metadata": {},
   "outputs": [],
   "source": [
    "def supra_adjacency_matrix(aligned_subadj_book):\n",
    "\n",
    "    # convert the dict to stack\n",
    "    stacked_aligned_subadj = np.stack(list(aligned_book.values()), axis = -1)\n",
    "\n",
    "    # time instances\n",
    "    instances = stacked_aligned_subadj.shape[2]\n",
    "\n",
    "    # size of aligned\n",
    "    a_size = stacked_aligned_subadj.shape[0]\n",
    "\n",
    "    # supra\n",
    "    S = np.zeros((a_size*instances, a_size*instances))\n",
    "\n",
    "    # Place aligned at appropriate locations for spatio-temporal coupling\n",
    "    # temporal + own-node spatial component\n",
    "    for i in range(1,instances):\n",
    "        S[i*a_size:(i+1)*a_size, (i-1)*a_size:i*a_size] = stacked_aligned_subadj[...,i-1] + np.eye(a_size) # last term is own-node spatial component\n",
    "    # spatial coupling\n",
    "    for i in range(instances):\n",
    "        S[i*a_size:(i+1)*a_size, i*a_size:(i+1)*a_size] = stacked_aligned_subadj[...,i]\n",
    "\n",
    "    return S\n",
    "\n",
    "supra_adj_mat = supra_adjacency_matrix(aligned_book)"
   ]
  },
  {
   "cell_type": "code",
   "execution_count": null,
   "id": "3849704c-ad2a-4d0a-9028-66dd520ac2c4",
   "metadata": {},
   "outputs": [],
   "source": [
    "fig, ax = plt.subplots()\n",
    "plt.spy(supra_adj_mat)\n",
    "plt.show()"
   ]
  },
  {
   "cell_type": "markdown",
   "id": "bbeb5b21-4c05-4011-a545-96086d4d7382",
   "metadata": {},
   "source": [
    "### Imputation on Supra-adjacency matrix/Product Graph"
   ]
  },
  {
   "cell_type": "code",
   "execution_count": null,
   "id": "b708ab71-eedf-4401-b3ea-692ade3c84ac",
   "metadata": {},
   "outputs": [],
   "source": [
    "len(all_nodes)*len(window_idx)"
   ]
  },
  {
   "cell_type": "code",
   "execution_count": null,
   "id": "79f9215e-de17-42a0-8a4d-b64da5cf388b",
   "metadata": {},
   "outputs": [],
   "source": [
    "# fill the y_diamond using data\n",
    "y_diamond = np.zeros([len(all_nodes)*len(actnod_book), 1])\n",
    "\n",
    "# the index with corresponding lclid will get the data\n",
    "\n",
    "# 6th LCLid\n",
    "y_diamond[0] = df_agg.loc[df_agg.index[window_idx[0]],list(all_nodes)[0]]\n",
    "# 16th LCLid\n",
    "y_diamond[1] = df_agg.loc[df_agg.index[window_idx[1]], list(all_nodes)[1]]\n"
   ]
  }
 ],
 "metadata": {
  "kernelspec": {
   "display_name": "Python 3 (ipykernel)",
   "language": "python",
   "name": "python3"
  },
  "language_info": {
   "codemirror_mode": {
    "name": "ipython",
    "version": 3
   },
   "file_extension": ".py",
   "mimetype": "text/x-python",
   "name": "python",
   "nbconvert_exporter": "python",
   "pygments_lexer": "ipython3",
   "version": "3.11.7"
  }
 },
 "nbformat": 4,
 "nbformat_minor": 5
}
