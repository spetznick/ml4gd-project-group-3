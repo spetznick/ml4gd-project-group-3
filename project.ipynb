{
 "cells": [
  {
   "cell_type": "markdown",
   "metadata": {},
   "source": [
    "# Analyse the datasets\n"
   ]
  },
  {
   "cell_type": "code",
   "execution_count": 1,
   "metadata": {},
   "outputs": [],
   "source": [
    "import pandas as pd\n",
    "import numpy as np\n",
    "import seaborn as sns\n",
    "import matplotlib.pyplot as plt\n",
    "import glob"
   ]
  },
  {
   "cell_type": "markdown",
   "metadata": {},
   "source": [
    "## Import the first CSV file of 168\n",
    "Import the first csv-file from the UK smartmeter data set found [here](https://data.london.gov.uk/dataset/smartmeter-energy-use-data-in-london-households) and analyse it graphically."
   ]
  },
  {
   "cell_type": "code",
   "execution_count": 69,
   "metadata": {},
   "outputs": [
    {
     "data": {
      "text/html": [
       "<div>\n",
       "<style scoped>\n",
       "    .dataframe tbody tr th:only-of-type {\n",
       "        vertical-align: middle;\n",
       "    }\n",
       "\n",
       "    .dataframe tbody tr th {\n",
       "        vertical-align: top;\n",
       "    }\n",
       "\n",
       "    .dataframe thead th {\n",
       "        text-align: right;\n",
       "    }\n",
       "</style>\n",
       "<table border=\"1\" class=\"dataframe\">\n",
       "  <thead>\n",
       "    <tr style=\"text-align: right;\">\n",
       "      <th></th>\n",
       "      <th>LCLid</th>\n",
       "      <th>stdorToU</th>\n",
       "      <th>DateTime</th>\n",
       "      <th>KWH/hh (per half hour)</th>\n",
       "    </tr>\n",
       "  </thead>\n",
       "  <tbody>\n",
       "    <tr>\n",
       "      <th>0</th>\n",
       "      <td>MAC000002</td>\n",
       "      <td>Std</td>\n",
       "      <td>2012-10-12 00:30:00.0000000</td>\n",
       "      <td>0</td>\n",
       "    </tr>\n",
       "    <tr>\n",
       "      <th>1</th>\n",
       "      <td>MAC000002</td>\n",
       "      <td>Std</td>\n",
       "      <td>2012-10-12 01:00:00.0000000</td>\n",
       "      <td>0</td>\n",
       "    </tr>\n",
       "    <tr>\n",
       "      <th>2</th>\n",
       "      <td>MAC000002</td>\n",
       "      <td>Std</td>\n",
       "      <td>2012-10-12 01:30:00.0000000</td>\n",
       "      <td>0</td>\n",
       "    </tr>\n",
       "    <tr>\n",
       "      <th>3</th>\n",
       "      <td>MAC000002</td>\n",
       "      <td>Std</td>\n",
       "      <td>2012-10-12 02:00:00.0000000</td>\n",
       "      <td>0</td>\n",
       "    </tr>\n",
       "    <tr>\n",
       "      <th>4</th>\n",
       "      <td>MAC000002</td>\n",
       "      <td>Std</td>\n",
       "      <td>2012-10-12 02:30:00.0000000</td>\n",
       "      <td>0</td>\n",
       "    </tr>\n",
       "    <tr>\n",
       "      <th>5</th>\n",
       "      <td>MAC000002</td>\n",
       "      <td>Std</td>\n",
       "      <td>2012-10-12 03:00:00.0000000</td>\n",
       "      <td>0</td>\n",
       "    </tr>\n",
       "    <tr>\n",
       "      <th>6</th>\n",
       "      <td>MAC000002</td>\n",
       "      <td>Std</td>\n",
       "      <td>2012-10-12 03:30:00.0000000</td>\n",
       "      <td>0</td>\n",
       "    </tr>\n",
       "    <tr>\n",
       "      <th>7</th>\n",
       "      <td>MAC000002</td>\n",
       "      <td>Std</td>\n",
       "      <td>2012-10-12 04:00:00.0000000</td>\n",
       "      <td>0</td>\n",
       "    </tr>\n",
       "    <tr>\n",
       "      <th>8</th>\n",
       "      <td>MAC000002</td>\n",
       "      <td>Std</td>\n",
       "      <td>2012-10-12 04:30:00.0000000</td>\n",
       "      <td>0</td>\n",
       "    </tr>\n",
       "    <tr>\n",
       "      <th>9</th>\n",
       "      <td>MAC000002</td>\n",
       "      <td>Std</td>\n",
       "      <td>2012-10-12 05:00:00.0000000</td>\n",
       "      <td>0</td>\n",
       "    </tr>\n",
       "  </tbody>\n",
       "</table>\n",
       "</div>"
      ],
      "text/plain": [
       "       LCLid stdorToU                     DateTime KWH/hh (per half hour) \n",
       "0  MAC000002      Std  2012-10-12 00:30:00.0000000                      0 \n",
       "1  MAC000002      Std  2012-10-12 01:00:00.0000000                      0 \n",
       "2  MAC000002      Std  2012-10-12 01:30:00.0000000                      0 \n",
       "3  MAC000002      Std  2012-10-12 02:00:00.0000000                      0 \n",
       "4  MAC000002      Std  2012-10-12 02:30:00.0000000                      0 \n",
       "5  MAC000002      Std  2012-10-12 03:00:00.0000000                      0 \n",
       "6  MAC000002      Std  2012-10-12 03:30:00.0000000                      0 \n",
       "7  MAC000002      Std  2012-10-12 04:00:00.0000000                      0 \n",
       "8  MAC000002      Std  2012-10-12 04:30:00.0000000                      0 \n",
       "9  MAC000002      Std  2012-10-12 05:00:00.0000000                      0 "
      ]
     },
     "execution_count": 69,
     "metadata": {},
     "output_type": "execute_result"
    }
   ],
   "source": [
    "filenames = sorted(glob.glob('uk-smart-meter-data/LCL-June2015v2_*.csv'))\n",
    "number_of_files = 20\n",
    "data = pd.DataFrame()\n",
    "for filename in filenames[:number_of_files+1]:\n",
    "    data = pd.concat([data, pd.read_csv(filename)])\n",
    "\n",
    "data.head(10)"
   ]
  },
  {
   "cell_type": "markdown",
   "metadata": {},
   "source": [
    "## Number of households in the first file"
   ]
  },
  {
   "cell_type": "code",
   "execution_count": 70,
   "metadata": {},
   "outputs": [
    {
     "data": {
      "text/plain": [
       "3211"
      ]
     },
     "execution_count": 70,
     "metadata": {},
     "output_type": "execute_result"
    }
   ],
   "source": [
    "data['LCLid'].nunique()"
   ]
  },
  {
   "cell_type": "markdown",
   "metadata": {},
   "source": [
    "## Load the tariff data set"
   ]
  },
  {
   "cell_type": "code",
   "execution_count": 71,
   "metadata": {},
   "outputs": [
    {
     "data": {
      "text/html": [
       "<div>\n",
       "<style scoped>\n",
       "    .dataframe tbody tr th:only-of-type {\n",
       "        vertical-align: middle;\n",
       "    }\n",
       "\n",
       "    .dataframe tbody tr th {\n",
       "        vertical-align: top;\n",
       "    }\n",
       "\n",
       "    .dataframe thead th {\n",
       "        text-align: right;\n",
       "    }\n",
       "</style>\n",
       "<table border=\"1\" class=\"dataframe\">\n",
       "  <thead>\n",
       "    <tr style=\"text-align: right;\">\n",
       "      <th></th>\n",
       "      <th>TariffDateTime</th>\n",
       "      <th>Tariff</th>\n",
       "    </tr>\n",
       "  </thead>\n",
       "  <tbody>\n",
       "    <tr>\n",
       "      <th>0</th>\n",
       "      <td>2013-01-01 00:00:00</td>\n",
       "      <td>Normal</td>\n",
       "    </tr>\n",
       "    <tr>\n",
       "      <th>1</th>\n",
       "      <td>2013-01-01 00:30:00</td>\n",
       "      <td>Normal</td>\n",
       "    </tr>\n",
       "    <tr>\n",
       "      <th>2</th>\n",
       "      <td>2013-01-01 01:00:00</td>\n",
       "      <td>Normal</td>\n",
       "    </tr>\n",
       "    <tr>\n",
       "      <th>3</th>\n",
       "      <td>2013-01-01 01:30:00</td>\n",
       "      <td>Normal</td>\n",
       "    </tr>\n",
       "    <tr>\n",
       "      <th>4</th>\n",
       "      <td>2013-01-01 02:00:00</td>\n",
       "      <td>Normal</td>\n",
       "    </tr>\n",
       "    <tr>\n",
       "      <th>5</th>\n",
       "      <td>2013-01-01 02:30:00</td>\n",
       "      <td>Normal</td>\n",
       "    </tr>\n",
       "    <tr>\n",
       "      <th>6</th>\n",
       "      <td>2013-01-01 03:00:00</td>\n",
       "      <td>Normal</td>\n",
       "    </tr>\n",
       "    <tr>\n",
       "      <th>7</th>\n",
       "      <td>2013-01-01 03:30:00</td>\n",
       "      <td>Normal</td>\n",
       "    </tr>\n",
       "    <tr>\n",
       "      <th>8</th>\n",
       "      <td>2013-01-01 04:00:00</td>\n",
       "      <td>Normal</td>\n",
       "    </tr>\n",
       "    <tr>\n",
       "      <th>9</th>\n",
       "      <td>2013-01-01 04:30:00</td>\n",
       "      <td>Normal</td>\n",
       "    </tr>\n",
       "  </tbody>\n",
       "</table>\n",
       "</div>"
      ],
      "text/plain": [
       "       TariffDateTime  Tariff\n",
       "0 2013-01-01 00:00:00  Normal\n",
       "1 2013-01-01 00:30:00  Normal\n",
       "2 2013-01-01 01:00:00  Normal\n",
       "3 2013-01-01 01:30:00  Normal\n",
       "4 2013-01-01 02:00:00  Normal\n",
       "5 2013-01-01 02:30:00  Normal\n",
       "6 2013-01-01 03:00:00  Normal\n",
       "7 2013-01-01 03:30:00  Normal\n",
       "8 2013-01-01 04:00:00  Normal\n",
       "9 2013-01-01 04:30:00  Normal"
      ]
     },
     "execution_count": 71,
     "metadata": {},
     "output_type": "execute_result"
    }
   ],
   "source": [
    "tariff_data = pd.read_excel('uk-smart-meter-data/Tariffs.xlsx')\n",
    "tariff_data.head(10)"
   ]
  },
  {
   "cell_type": "code",
   "execution_count": 72,
   "metadata": {},
   "outputs": [
    {
     "data": {
      "text/plain": [
       "TariffDateTime    datetime64[ns]\n",
       "Tariff                    object\n",
       "dtype: object"
      ]
     },
     "execution_count": 72,
     "metadata": {},
     "output_type": "execute_result"
    }
   ],
   "source": [
    "tariff_data.dtypes"
   ]
  },
  {
   "cell_type": "code",
   "execution_count": 73,
   "metadata": {},
   "outputs": [
    {
     "data": {
      "text/html": [
       "<div>\n",
       "<style scoped>\n",
       "    .dataframe tbody tr th:only-of-type {\n",
       "        vertical-align: middle;\n",
       "    }\n",
       "\n",
       "    .dataframe tbody tr th {\n",
       "        vertical-align: top;\n",
       "    }\n",
       "\n",
       "    .dataframe thead th {\n",
       "        text-align: right;\n",
       "    }\n",
       "</style>\n",
       "<table border=\"1\" class=\"dataframe\">\n",
       "  <thead>\n",
       "    <tr style=\"text-align: right;\">\n",
       "      <th></th>\n",
       "      <th>TariffDateTime</th>\n",
       "      <th>Tariff</th>\n",
       "    </tr>\n",
       "  </thead>\n",
       "  <tbody>\n",
       "    <tr>\n",
       "      <th>0</th>\n",
       "      <td>2013-01-01 00:00:00</td>\n",
       "      <td>0</td>\n",
       "    </tr>\n",
       "    <tr>\n",
       "      <th>1</th>\n",
       "      <td>2013-01-01 00:30:00</td>\n",
       "      <td>0</td>\n",
       "    </tr>\n",
       "    <tr>\n",
       "      <th>2</th>\n",
       "      <td>2013-01-01 01:00:00</td>\n",
       "      <td>0</td>\n",
       "    </tr>\n",
       "    <tr>\n",
       "      <th>3</th>\n",
       "      <td>2013-01-01 01:30:00</td>\n",
       "      <td>0</td>\n",
       "    </tr>\n",
       "    <tr>\n",
       "      <th>4</th>\n",
       "      <td>2013-01-01 02:00:00</td>\n",
       "      <td>0</td>\n",
       "    </tr>\n",
       "    <tr>\n",
       "      <th>5</th>\n",
       "      <td>2013-01-01 02:30:00</td>\n",
       "      <td>0</td>\n",
       "    </tr>\n",
       "    <tr>\n",
       "      <th>6</th>\n",
       "      <td>2013-01-01 03:00:00</td>\n",
       "      <td>0</td>\n",
       "    </tr>\n",
       "    <tr>\n",
       "      <th>7</th>\n",
       "      <td>2013-01-01 03:30:00</td>\n",
       "      <td>0</td>\n",
       "    </tr>\n",
       "    <tr>\n",
       "      <th>8</th>\n",
       "      <td>2013-01-01 04:00:00</td>\n",
       "      <td>0</td>\n",
       "    </tr>\n",
       "    <tr>\n",
       "      <th>9</th>\n",
       "      <td>2013-01-01 04:30:00</td>\n",
       "      <td>0</td>\n",
       "    </tr>\n",
       "  </tbody>\n",
       "</table>\n",
       "</div>"
      ],
      "text/plain": [
       "       TariffDateTime Tariff\n",
       "0 2013-01-01 00:00:00      0\n",
       "1 2013-01-01 00:30:00      0\n",
       "2 2013-01-01 01:00:00      0\n",
       "3 2013-01-01 01:30:00      0\n",
       "4 2013-01-01 02:00:00      0\n",
       "5 2013-01-01 02:30:00      0\n",
       "6 2013-01-01 03:00:00      0\n",
       "7 2013-01-01 03:30:00      0\n",
       "8 2013-01-01 04:00:00      0\n",
       "9 2013-01-01 04:30:00      0"
      ]
     },
     "execution_count": 73,
     "metadata": {},
     "output_type": "execute_result"
    }
   ],
   "source": [
    "tariff_data.loc[tariff_data['Tariff'] == 'Normal', 'Tariff'] = 0\n",
    "tariff_data.loc[tariff_data['Tariff'] == 'Low', 'Tariff'] = -1\n",
    "tariff_data.loc[tariff_data['Tariff'] == 'High', 'Tariff'] = 1\n",
    "tariff_data.head(10)"
   ]
  },
  {
   "cell_type": "code",
   "execution_count": 74,
   "metadata": {},
   "outputs": [
    {
     "data": {
      "text/plain": [
       "LCLid                      3205\n",
       "stdorToU                   3205\n",
       "DateTime                   3205\n",
       "KWH/hh (per half hour)     3205\n",
       "dtype: int64"
      ]
     },
     "execution_count": 74,
     "metadata": {},
     "output_type": "execute_result"
    }
   ],
   "source": [
    "nullfilter = data['KWH/hh (per half hour) '] == 'Null'\n",
    "data[nullfilter].count()"
   ]
  },
  {
   "cell_type": "markdown",
   "metadata": {},
   "source": [
    "It appears that there are zero values in the data column for power."
   ]
  },
  {
   "cell_type": "code",
   "execution_count": 75,
   "metadata": {},
   "outputs": [
    {
     "data": {
      "text/plain": [
       "LCLid                      0\n",
       "stdorToU                   0\n",
       "DateTime                   0\n",
       "KWH/hh (per half hour)     0\n",
       "dtype: int64"
      ]
     },
     "execution_count": 75,
     "metadata": {},
     "output_type": "execute_result"
    }
   ],
   "source": [
    "data[data['KWH/hh (per half hour) '] == 0].count()"
   ]
  },
  {
   "cell_type": "markdown",
   "metadata": {},
   "source": [
    "## Transform data and coerce Null to NaN\n",
    "\n",
    "We transform the data into numerical form and coerce 'Null' to NaN"
   ]
  },
  {
   "cell_type": "code",
   "execution_count": 76,
   "metadata": {},
   "outputs": [
    {
     "data": {
      "text/plain": [
       "LCLid                      1250456\n",
       "stdorToU                   1250456\n",
       "DateTime                   1250456\n",
       "KWH/hh (per half hour)     1250456\n",
       "dtype: int64"
      ]
     },
     "execution_count": 76,
     "metadata": {},
     "output_type": "execute_result"
    }
   ],
   "source": [
    "data['DateTime'] = pd.to_datetime(data['DateTime'])\n",
    "data['KWH/hh (per half hour) '] = pd.to_numeric(data['KWH/hh (per half hour) '], errors='coerce')\n",
    "data[data['KWH/hh (per half hour) '] == 0].count()\n"
   ]
  },
  {
   "cell_type": "markdown",
   "metadata": {},
   "source": [
    "## Number of NaN values in the kwh column"
   ]
  },
  {
   "cell_type": "code",
   "execution_count": 77,
   "metadata": {},
   "outputs": [
    {
     "data": {
      "text/plain": [
       "LCLid                         0\n",
       "stdorToU                      0\n",
       "DateTime                      0\n",
       "KWH/hh (per half hour)     3205\n",
       "dtype: int64"
      ]
     },
     "execution_count": 77,
     "metadata": {},
     "output_type": "execute_result"
    }
   ],
   "source": [
    "data.isnull().sum()"
   ]
  },
  {
   "cell_type": "code",
   "execution_count": 78,
   "metadata": {},
   "outputs": [
    {
     "data": {
      "text/plain": [
       "LCLid                      1250456\n",
       "stdorToU                   1250456\n",
       "DateTime                   1250456\n",
       "KWH/hh (per half hour)     1250456\n",
       "dtype: int64"
      ]
     },
     "execution_count": 78,
     "metadata": {},
     "output_type": "execute_result"
    }
   ],
   "source": [
    "data[data['KWH/hh (per half hour) '] == 0].count()"
   ]
  },
  {
   "cell_type": "markdown",
   "metadata": {},
   "source": [
    "## Select a couple of households"
   ]
  },
  {
   "cell_type": "code",
   "execution_count": 79,
   "metadata": {},
   "outputs": [
    {
     "data": {
      "text/html": [
       "<div>\n",
       "<style scoped>\n",
       "    .dataframe tbody tr th:only-of-type {\n",
       "        vertical-align: middle;\n",
       "    }\n",
       "\n",
       "    .dataframe tbody tr th {\n",
       "        vertical-align: top;\n",
       "    }\n",
       "\n",
       "    .dataframe thead th {\n",
       "        text-align: right;\n",
       "    }\n",
       "</style>\n",
       "<table border=\"1\" class=\"dataframe\">\n",
       "  <thead>\n",
       "    <tr style=\"text-align: right;\">\n",
       "      <th></th>\n",
       "      <th>LCLid</th>\n",
       "      <th>stdorToU</th>\n",
       "      <th>DateTime</th>\n",
       "      <th>KWH/hh (per half hour)</th>\n",
       "    </tr>\n",
       "  </thead>\n",
       "  <tbody>\n",
       "    <tr>\n",
       "      <th>0</th>\n",
       "      <td>MAC000002</td>\n",
       "      <td>Std</td>\n",
       "      <td>2012-10-12 00:30:00</td>\n",
       "      <td>0.0</td>\n",
       "    </tr>\n",
       "    <tr>\n",
       "      <th>1</th>\n",
       "      <td>MAC000002</td>\n",
       "      <td>Std</td>\n",
       "      <td>2012-10-12 01:00:00</td>\n",
       "      <td>0.0</td>\n",
       "    </tr>\n",
       "    <tr>\n",
       "      <th>2</th>\n",
       "      <td>MAC000002</td>\n",
       "      <td>Std</td>\n",
       "      <td>2012-10-12 01:30:00</td>\n",
       "      <td>0.0</td>\n",
       "    </tr>\n",
       "    <tr>\n",
       "      <th>3</th>\n",
       "      <td>MAC000002</td>\n",
       "      <td>Std</td>\n",
       "      <td>2012-10-12 02:00:00</td>\n",
       "      <td>0.0</td>\n",
       "    </tr>\n",
       "    <tr>\n",
       "      <th>4</th>\n",
       "      <td>MAC000002</td>\n",
       "      <td>Std</td>\n",
       "      <td>2012-10-12 02:30:00</td>\n",
       "      <td>0.0</td>\n",
       "    </tr>\n",
       "  </tbody>\n",
       "</table>\n",
       "</div>"
      ],
      "text/plain": [
       "       LCLid stdorToU            DateTime  KWH/hh (per half hour) \n",
       "0  MAC000002      Std 2012-10-12 00:30:00                      0.0\n",
       "1  MAC000002      Std 2012-10-12 01:00:00                      0.0\n",
       "2  MAC000002      Std 2012-10-12 01:30:00                      0.0\n",
       "3  MAC000002      Std 2012-10-12 02:00:00                      0.0\n",
       "4  MAC000002      Std 2012-10-12 02:30:00                      0.0"
      ]
     },
     "execution_count": 79,
     "metadata": {},
     "output_type": "execute_result"
    }
   ],
   "source": [
    "data_first_five_ids = data[data['LCLid'].isin(data['LCLid'].unique()[0:9])]\n",
    "unique_lclid_count = data_first_five_ids['LCLid'].nunique()\n",
    "data_first_five_ids.dtypes\n",
    "data_first_five_ids.head()"
   ]
  },
  {
   "cell_type": "code",
   "execution_count": 88,
   "metadata": {},
   "outputs": [
    {
     "name": "stderr",
     "output_type": "stream",
     "text": [
      "/var/folders/9k/wg_0_d_15d3_g61jr75crzp80000gn/T/ipykernel_15036/739845211.py:12: UserWarning: Tight layout not applied. tight_layout cannot make axes height small enough to accommodate all axes decorations.\n",
      "  plt.tight_layout()\n"
     ]
    },
    {
     "data": {
      "image/png": "[encoded data removed]",
      "text/plain": [
       "<Figure size 640x480 with 100 Axes>"
      ]
     },
     "metadata": {},
     "output_type": "display_data"
    },
    {
     "data": {
      "image/png": "[encoded data removed]",
      "text/plain": [
       "<Figure size 640x480 with 100 Axes>"
      ]
     },
     "metadata": {},
     "output_type": "display_data"
    },
    {
     "data": {
      "image/png": "[encoded data removed]",
      "text/plain": [
       "<Figure size 640x480 with 100 Axes>"
      ]
     },
     "metadata": {},
     "output_type": "display_data"
    },
    {
     "data": {
      "image/png": "[encoded data removed]",
      "text/plain": [
       "<Figure size 640x480 with 100 Axes>"
      ]
     },
     "metadata": {},
     "output_type": "display_data"
    },
    {
     "data": {
      "image/png": "[encoded data removed]",
      "text/plain": [
       "<Figure size 640x480 with 100 Axes>"
      ]
     },
     "metadata": {},
     "output_type": "display_data"
    },
    {
     "data": {
      "image/png": "[encoded data removed]",
      "text/plain": [
       "<Figure size 640x480 with 100 Axes>"
      ]
     },
     "metadata": {},
     "output_type": "display_data"
    },
    {
     "data": {
      "image/png": "[encoded data removed]",
      "text/plain": [
       "<Figure size 640x480 with 100 Axes>"
      ]
     },
     "metadata": {},
     "output_type": "display_data"
    },
    {
     "data": {
      "image/png": "[encoded data removed]",
      "text/plain": [
       "<Figure size 640x480 with 100 Axes>"
      ]
     },
     "metadata": {},
     "output_type": "display_data"
    },
    {
     "data": {
      "image/png": "[encoded data removed]",
      "text/plain": [
       "<Figure size 640x480 with 100 Axes>"
      ]
     },
     "metadata": {},
     "output_type": "display_data"
    },
    {
     "data": {
      "image/png": "[encoded data removed]",
      "text/plain": [
       "<Figure size 640x480 with 1 Axes>"
      ]
     },
     "metadata": {},
     "output_type": "display_data"
    }
   ],
   "source": [
    "# Group by LCLid and plot 'KWH/hh (per half hour) ' over 'DateTime' in subplots axs\n",
    "data_first_five_ids.groupby('LCLid').plot(\n",
    "    x='DateTime',\n",
    "    y='KWH/hh (per half hour) ',\n",
    "    subplots=True,\n",
    "    layout=(number_of_files, 1),\n",
    "    sharex=True,\n",
    "    # sharey=True,\n",
    "    xlabel='Date',\n",
    "    # ylabel='KWH/hh'\n",
    "    )\n",
    "plt.tight_layout()\n",
    "tariff_data.plot.scatter(x='TariffDateTime', y='Tariff', color='red')\n",
    "plt.show()\n",
    "\n"
   ]
  },
  {
   "cell_type": "markdown",
   "metadata": {},
   "source": [
    "# Group by LCLid and change format to a timeseries"
   ]
  },
  {
   "cell_type": "code",
   "execution_count": 98,
   "metadata": {},
   "outputs": [
    {
     "data": {
      "text/html": [
       "<div>\n",
       "<style scoped>\n",
       "    .dataframe tbody tr th:only-of-type {\n",
       "        vertical-align: middle;\n",
       "    }\n",
       "\n",
       "    .dataframe tbody tr th {\n",
       "        vertical-align: top;\n",
       "    }\n",
       "\n",
       "    .dataframe thead th {\n",
       "        text-align: right;\n",
       "    }\n",
       "</style>\n",
       "<table border=\"1\" class=\"dataframe\">\n",
       "  <thead>\n",
       "    <tr style=\"text-align: right;\">\n",
       "      <th></th>\n",
       "      <th>LCLid</th>\n",
       "      <th>DateTime</th>\n",
       "      <th>KWH/hh (per half hour)</th>\n",
       "    </tr>\n",
       "  </thead>\n",
       "  <tbody>\n",
       "    <tr>\n",
       "      <th>0</th>\n",
       "      <td>MAC000002</td>\n",
       "      <td>2012-10-12 00:30:00</td>\n",
       "      <td>0.000</td>\n",
       "    </tr>\n",
       "    <tr>\n",
       "      <th>1</th>\n",
       "      <td>MAC000002</td>\n",
       "      <td>2012-10-12 01:00:00</td>\n",
       "      <td>0.000</td>\n",
       "    </tr>\n",
       "    <tr>\n",
       "      <th>2</th>\n",
       "      <td>MAC000002</td>\n",
       "      <td>2012-10-12 01:30:00</td>\n",
       "      <td>0.000</td>\n",
       "    </tr>\n",
       "    <tr>\n",
       "      <th>3</th>\n",
       "      <td>MAC000002</td>\n",
       "      <td>2012-10-12 02:00:00</td>\n",
       "      <td>0.000</td>\n",
       "    </tr>\n",
       "    <tr>\n",
       "      <th>4</th>\n",
       "      <td>MAC000002</td>\n",
       "      <td>2012-10-12 02:30:00</td>\n",
       "      <td>0.000</td>\n",
       "    </tr>\n",
       "    <tr>\n",
       "      <th>...</th>\n",
       "      <td>...</td>\n",
       "      <td>...</td>\n",
       "      <td>...</td>\n",
       "    </tr>\n",
       "    <tr>\n",
       "      <th>999995</th>\n",
       "      <td>MAC001520</td>\n",
       "      <td>2012-09-10 12:30:00</td>\n",
       "      <td>0.078</td>\n",
       "    </tr>\n",
       "    <tr>\n",
       "      <th>999996</th>\n",
       "      <td>MAC001520</td>\n",
       "      <td>2012-09-10 13:00:00</td>\n",
       "      <td>0.069</td>\n",
       "    </tr>\n",
       "    <tr>\n",
       "      <th>999997</th>\n",
       "      <td>MAC001520</td>\n",
       "      <td>2012-09-10 13:30:00</td>\n",
       "      <td>0.106</td>\n",
       "    </tr>\n",
       "    <tr>\n",
       "      <th>999998</th>\n",
       "      <td>MAC001520</td>\n",
       "      <td>2012-09-10 14:00:00</td>\n",
       "      <td>0.068</td>\n",
       "    </tr>\n",
       "    <tr>\n",
       "      <th>999999</th>\n",
       "      <td>MAC001520</td>\n",
       "      <td>2012-09-10 14:30:00</td>\n",
       "      <td>0.081</td>\n",
       "    </tr>\n",
       "  </tbody>\n",
       "</table>\n",
       "<p>100932474 rows × 3 columns</p>\n",
       "</div>"
      ],
      "text/plain": [
       "            LCLid            DateTime  KWH/hh (per half hour) \n",
       "0       MAC000002 2012-10-12 00:30:00                    0.000\n",
       "1       MAC000002 2012-10-12 01:00:00                    0.000\n",
       "2       MAC000002 2012-10-12 01:30:00                    0.000\n",
       "3       MAC000002 2012-10-12 02:00:00                    0.000\n",
       "4       MAC000002 2012-10-12 02:30:00                    0.000\n",
       "...           ...                 ...                      ...\n",
       "999995  MAC001520 2012-09-10 12:30:00                    0.078\n",
       "999996  MAC001520 2012-09-10 13:00:00                    0.069\n",
       "999997  MAC001520 2012-09-10 13:30:00                    0.106\n",
       "999998  MAC001520 2012-09-10 14:00:00                    0.068\n",
       "999999  MAC001520 2012-09-10 14:30:00                    0.081\n",
       "\n",
       "[100932474 rows x 3 columns]"
      ]
     },
     "execution_count": 98,
     "metadata": {},
     "output_type": "execute_result"
    }
   ],
   "source": [
    "df = data.drop(columns=['stdorToU'])\n",
    "df"
   ]
  },
  {
   "cell_type": "code",
   "execution_count": 105,
   "metadata": {},
   "outputs": [
    {
     "data": {
      "text/html": [
       "<div>\n",
       "<style scoped>\n",
       "    .dataframe tbody tr th:only-of-type {\n",
       "        vertical-align: middle;\n",
       "    }\n",
       "\n",
       "    .dataframe tbody tr th {\n",
       "        vertical-align: top;\n",
       "    }\n",
       "\n",
       "    .dataframe thead th {\n",
       "        text-align: right;\n",
       "    }\n",
       "</style>\n",
       "<table border=\"1\" class=\"dataframe\">\n",
       "  <thead>\n",
       "    <tr style=\"text-align: right;\">\n",
       "      <th></th>\n",
       "      <th>LCLid</th>\n",
       "      <th>DateTime</th>\n",
       "      <th>KWH/hh (per half hour)</th>\n",
       "    </tr>\n",
       "  </thead>\n",
       "  <tbody>\n",
       "    <tr>\n",
       "      <th>0</th>\n",
       "      <td>MAC000002</td>\n",
       "      <td>2012-10-12 00:30:00</td>\n",
       "      <td>0.000</td>\n",
       "    </tr>\n",
       "    <tr>\n",
       "      <th>1</th>\n",
       "      <td>MAC000002</td>\n",
       "      <td>2012-10-12 01:00:00</td>\n",
       "      <td>0.000</td>\n",
       "    </tr>\n",
       "    <tr>\n",
       "      <th>2</th>\n",
       "      <td>MAC000002</td>\n",
       "      <td>2012-10-12 01:30:00</td>\n",
       "      <td>0.000</td>\n",
       "    </tr>\n",
       "    <tr>\n",
       "      <th>3</th>\n",
       "      <td>MAC000002</td>\n",
       "      <td>2012-10-12 02:00:00</td>\n",
       "      <td>0.000</td>\n",
       "    </tr>\n",
       "    <tr>\n",
       "      <th>4</th>\n",
       "      <td>MAC000002</td>\n",
       "      <td>2012-10-12 02:30:00</td>\n",
       "      <td>0.000</td>\n",
       "    </tr>\n",
       "    <tr>\n",
       "      <th>...</th>\n",
       "      <td>...</td>\n",
       "      <td>...</td>\n",
       "      <td>...</td>\n",
       "    </tr>\n",
       "    <tr>\n",
       "      <th>999995</th>\n",
       "      <td>MAC001520</td>\n",
       "      <td>2012-09-10 12:30:00</td>\n",
       "      <td>0.078</td>\n",
       "    </tr>\n",
       "    <tr>\n",
       "      <th>999996</th>\n",
       "      <td>MAC001520</td>\n",
       "      <td>2012-09-10 13:00:00</td>\n",
       "      <td>0.069</td>\n",
       "    </tr>\n",
       "    <tr>\n",
       "      <th>999997</th>\n",
       "      <td>MAC001520</td>\n",
       "      <td>2012-09-10 13:30:00</td>\n",
       "      <td>0.106</td>\n",
       "    </tr>\n",
       "    <tr>\n",
       "      <th>999998</th>\n",
       "      <td>MAC001520</td>\n",
       "      <td>2012-09-10 14:00:00</td>\n",
       "      <td>0.068</td>\n",
       "    </tr>\n",
       "    <tr>\n",
       "      <th>999999</th>\n",
       "      <td>MAC001520</td>\n",
       "      <td>2012-09-10 14:30:00</td>\n",
       "      <td>0.081</td>\n",
       "    </tr>\n",
       "  </tbody>\n",
       "</table>\n",
       "<p>100929269 rows × 3 columns</p>\n",
       "</div>"
      ],
      "text/plain": [
       "            LCLid            DateTime  KWH/hh (per half hour) \n",
       "0       MAC000002 2012-10-12 00:30:00                    0.000\n",
       "1       MAC000002 2012-10-12 01:00:00                    0.000\n",
       "2       MAC000002 2012-10-12 01:30:00                    0.000\n",
       "3       MAC000002 2012-10-12 02:00:00                    0.000\n",
       "4       MAC000002 2012-10-12 02:30:00                    0.000\n",
       "...           ...                 ...                      ...\n",
       "999995  MAC001520 2012-09-10 12:30:00                    0.078\n",
       "999996  MAC001520 2012-09-10 13:00:00                    0.069\n",
       "999997  MAC001520 2012-09-10 13:30:00                    0.106\n",
       "999998  MAC001520 2012-09-10 14:00:00                    0.068\n",
       "999999  MAC001520 2012-09-10 14:30:00                    0.081\n",
       "\n",
       "[100929269 rows x 3 columns]"
      ]
     },
     "execution_count": 105,
     "metadata": {},
     "output_type": "execute_result"
    }
   ],
   "source": [
    "df.dropna(subset=['KWH/hh (per half hour) '], inplace=True)\n",
    "df"
   ]
  },
  {
   "cell_type": "code",
   "execution_count": 110,
   "metadata": {},
   "outputs": [
    {
     "name": "stdout",
     "output_type": "stream",
     "text": [
      "Number of duplicates:  69313\n",
      "Number of duplicates:  0\n"
     ]
    }
   ],
   "source": [
    "# Counter number of duplicates\n",
    "print('Number of duplicates: ', df.duplicated(subset=['DateTime', 'LCLid']).sum())\n",
    "df_unique = df.drop_duplicates(subset=['DateTime', 'LCLid'], keep='last')\n",
    "# df_unique = df.groupby(['DateTime', 'LCLid'], as_index=False).mean().reset_index(drop=True)\n",
    "# Counter number of duplicates\n",
    "print('Number of duplicates: ', df_unique.duplicated(subset=['DateTime', 'LCLid']).sum())\n"
   ]
  },
  {
   "cell_type": "code",
   "execution_count": 116,
   "metadata": {},
   "outputs": [],
   "source": [
    "pivoted = df_unique.pivot(index='DateTime', columns='LCLid', values='KWH/hh (per half hour) ')\n",
    "pivoted['datetime'] = pivoted.index\n"
   ]
  },
  {
   "cell_type": "code",
   "execution_count": 117,
   "metadata": {},
   "outputs": [
    {
     "data": {
      "text/html": [
       "<div>\n",
       "<style scoped>\n",
       "    .dataframe tbody tr th:only-of-type {\n",
       "        vertical-align: middle;\n",
       "    }\n",
       "\n",
       "    .dataframe tbody tr th {\n",
       "        vertical-align: top;\n",
       "    }\n",
       "\n",
       "    .dataframe thead th {\n",
       "        text-align: right;\n",
       "    }\n",
       "</style>\n",
       "<table border=\"1\" class=\"dataframe\">\n",
       "  <thead>\n",
       "    <tr style=\"text-align: right;\">\n",
       "      <th>LCLid</th>\n",
       "      <th>MAC000002</th>\n",
       "      <th>MAC000003</th>\n",
       "      <th>MAC000004</th>\n",
       "      <th>MAC000005</th>\n",
       "      <th>MAC000006</th>\n",
       "      <th>MAC000007</th>\n",
       "      <th>MAC000008</th>\n",
       "      <th>MAC000009</th>\n",
       "      <th>MAC000010</th>\n",
       "      <th>MAC000011</th>\n",
       "      <th>...</th>\n",
       "      <th>MAC005555</th>\n",
       "      <th>MAC005557</th>\n",
       "      <th>MAC005558</th>\n",
       "      <th>MAC005561</th>\n",
       "      <th>MAC005562</th>\n",
       "      <th>MAC005564</th>\n",
       "      <th>MAC005565</th>\n",
       "      <th>MAC005566</th>\n",
       "      <th>MAC005567</th>\n",
       "      <th>datetime</th>\n",
       "    </tr>\n",
       "    <tr>\n",
       "      <th>DateTime</th>\n",
       "      <th></th>\n",
       "      <th></th>\n",
       "      <th></th>\n",
       "      <th></th>\n",
       "      <th></th>\n",
       "      <th></th>\n",
       "      <th></th>\n",
       "      <th></th>\n",
       "      <th></th>\n",
       "      <th></th>\n",
       "      <th></th>\n",
       "      <th></th>\n",
       "      <th></th>\n",
       "      <th></th>\n",
       "      <th></th>\n",
       "      <th></th>\n",
       "      <th></th>\n",
       "      <th></th>\n",
       "      <th></th>\n",
       "      <th></th>\n",
       "      <th></th>\n",
       "    </tr>\n",
       "  </thead>\n",
       "  <tbody>\n",
       "    <tr>\n",
       "      <th>2011-11-23 09:00:00</th>\n",
       "      <td>NaN</td>\n",
       "      <td>NaN</td>\n",
       "      <td>NaN</td>\n",
       "      <td>NaN</td>\n",
       "      <td>NaN</td>\n",
       "      <td>NaN</td>\n",
       "      <td>NaN</td>\n",
       "      <td>NaN</td>\n",
       "      <td>NaN</td>\n",
       "      <td>NaN</td>\n",
       "      <td>...</td>\n",
       "      <td>NaN</td>\n",
       "      <td>NaN</td>\n",
       "      <td>NaN</td>\n",
       "      <td>NaN</td>\n",
       "      <td>NaN</td>\n",
       "      <td>NaN</td>\n",
       "      <td>NaN</td>\n",
       "      <td>NaN</td>\n",
       "      <td>NaN</td>\n",
       "      <td>2011-11-23 09:00:00</td>\n",
       "    </tr>\n",
       "    <tr>\n",
       "      <th>2011-11-23 09:30:00</th>\n",
       "      <td>NaN</td>\n",
       "      <td>NaN</td>\n",
       "      <td>NaN</td>\n",
       "      <td>NaN</td>\n",
       "      <td>NaN</td>\n",
       "      <td>NaN</td>\n",
       "      <td>NaN</td>\n",
       "      <td>NaN</td>\n",
       "      <td>NaN</td>\n",
       "      <td>NaN</td>\n",
       "      <td>...</td>\n",
       "      <td>NaN</td>\n",
       "      <td>NaN</td>\n",
       "      <td>NaN</td>\n",
       "      <td>NaN</td>\n",
       "      <td>NaN</td>\n",
       "      <td>NaN</td>\n",
       "      <td>NaN</td>\n",
       "      <td>NaN</td>\n",
       "      <td>NaN</td>\n",
       "      <td>2011-11-23 09:30:00</td>\n",
       "    </tr>\n",
       "    <tr>\n",
       "      <th>2011-11-23 10:00:00</th>\n",
       "      <td>NaN</td>\n",
       "      <td>NaN</td>\n",
       "      <td>NaN</td>\n",
       "      <td>NaN</td>\n",
       "      <td>NaN</td>\n",
       "      <td>NaN</td>\n",
       "      <td>NaN</td>\n",
       "      <td>NaN</td>\n",
       "      <td>NaN</td>\n",
       "      <td>NaN</td>\n",
       "      <td>...</td>\n",
       "      <td>NaN</td>\n",
       "      <td>NaN</td>\n",
       "      <td>NaN</td>\n",
       "      <td>NaN</td>\n",
       "      <td>NaN</td>\n",
       "      <td>NaN</td>\n",
       "      <td>NaN</td>\n",
       "      <td>NaN</td>\n",
       "      <td>NaN</td>\n",
       "      <td>2011-11-23 10:00:00</td>\n",
       "    </tr>\n",
       "    <tr>\n",
       "      <th>2011-11-23 10:30:00</th>\n",
       "      <td>NaN</td>\n",
       "      <td>NaN</td>\n",
       "      <td>NaN</td>\n",
       "      <td>NaN</td>\n",
       "      <td>NaN</td>\n",
       "      <td>NaN</td>\n",
       "      <td>NaN</td>\n",
       "      <td>NaN</td>\n",
       "      <td>NaN</td>\n",
       "      <td>NaN</td>\n",
       "      <td>...</td>\n",
       "      <td>NaN</td>\n",
       "      <td>NaN</td>\n",
       "      <td>NaN</td>\n",
       "      <td>NaN</td>\n",
       "      <td>NaN</td>\n",
       "      <td>NaN</td>\n",
       "      <td>NaN</td>\n",
       "      <td>NaN</td>\n",
       "      <td>NaN</td>\n",
       "      <td>2011-11-23 10:30:00</td>\n",
       "    </tr>\n",
       "    <tr>\n",
       "      <th>2011-11-23 11:00:00</th>\n",
       "      <td>NaN</td>\n",
       "      <td>NaN</td>\n",
       "      <td>NaN</td>\n",
       "      <td>NaN</td>\n",
       "      <td>NaN</td>\n",
       "      <td>NaN</td>\n",
       "      <td>NaN</td>\n",
       "      <td>NaN</td>\n",
       "      <td>NaN</td>\n",
       "      <td>NaN</td>\n",
       "      <td>...</td>\n",
       "      <td>NaN</td>\n",
       "      <td>NaN</td>\n",
       "      <td>NaN</td>\n",
       "      <td>NaN</td>\n",
       "      <td>NaN</td>\n",
       "      <td>NaN</td>\n",
       "      <td>NaN</td>\n",
       "      <td>NaN</td>\n",
       "      <td>NaN</td>\n",
       "      <td>2011-11-23 11:00:00</td>\n",
       "    </tr>\n",
       "    <tr>\n",
       "      <th>...</th>\n",
       "      <td>...</td>\n",
       "      <td>...</td>\n",
       "      <td>...</td>\n",
       "      <td>...</td>\n",
       "      <td>...</td>\n",
       "      <td>...</td>\n",
       "      <td>...</td>\n",
       "      <td>...</td>\n",
       "      <td>...</td>\n",
       "      <td>...</td>\n",
       "      <td>...</td>\n",
       "      <td>...</td>\n",
       "      <td>...</td>\n",
       "      <td>...</td>\n",
       "      <td>...</td>\n",
       "      <td>...</td>\n",
       "      <td>...</td>\n",
       "      <td>...</td>\n",
       "      <td>...</td>\n",
       "      <td>...</td>\n",
       "      <td>...</td>\n",
       "    </tr>\n",
       "    <tr>\n",
       "      <th>2014-02-27 22:00:00</th>\n",
       "      <td>0.416</td>\n",
       "      <td>0.042</td>\n",
       "      <td>0.167</td>\n",
       "      <td>0.248</td>\n",
       "      <td>0.067</td>\n",
       "      <td>0.282</td>\n",
       "      <td>NaN</td>\n",
       "      <td>0.193</td>\n",
       "      <td>0.534</td>\n",
       "      <td>0.171</td>\n",
       "      <td>...</td>\n",
       "      <td>0.119</td>\n",
       "      <td>0.143</td>\n",
       "      <td>0.0</td>\n",
       "      <td>0.361</td>\n",
       "      <td>0.427</td>\n",
       "      <td>0.121</td>\n",
       "      <td>NaN</td>\n",
       "      <td>0.141</td>\n",
       "      <td>0.173</td>\n",
       "      <td>2014-02-27 22:00:00</td>\n",
       "    </tr>\n",
       "    <tr>\n",
       "      <th>2014-02-27 22:30:00</th>\n",
       "      <td>1.350</td>\n",
       "      <td>0.117</td>\n",
       "      <td>0.000</td>\n",
       "      <td>0.113</td>\n",
       "      <td>0.047</td>\n",
       "      <td>0.346</td>\n",
       "      <td>NaN</td>\n",
       "      <td>0.338</td>\n",
       "      <td>0.478</td>\n",
       "      <td>0.145</td>\n",
       "      <td>...</td>\n",
       "      <td>0.062</td>\n",
       "      <td>0.125</td>\n",
       "      <td>0.0</td>\n",
       "      <td>0.088</td>\n",
       "      <td>0.336</td>\n",
       "      <td>0.135</td>\n",
       "      <td>NaN</td>\n",
       "      <td>0.123</td>\n",
       "      <td>0.205</td>\n",
       "      <td>2014-02-27 22:30:00</td>\n",
       "    </tr>\n",
       "    <tr>\n",
       "      <th>2014-02-27 23:00:00</th>\n",
       "      <td>1.247</td>\n",
       "      <td>0.064</td>\n",
       "      <td>0.000</td>\n",
       "      <td>0.111</td>\n",
       "      <td>0.014</td>\n",
       "      <td>0.168</td>\n",
       "      <td>NaN</td>\n",
       "      <td>0.207</td>\n",
       "      <td>0.584</td>\n",
       "      <td>0.118</td>\n",
       "      <td>...</td>\n",
       "      <td>0.113</td>\n",
       "      <td>0.171</td>\n",
       "      <td>0.0</td>\n",
       "      <td>0.087</td>\n",
       "      <td>0.167</td>\n",
       "      <td>0.077</td>\n",
       "      <td>NaN</td>\n",
       "      <td>0.155</td>\n",
       "      <td>0.221</td>\n",
       "      <td>2014-02-27 23:00:00</td>\n",
       "    </tr>\n",
       "    <tr>\n",
       "      <th>2014-02-27 23:30:00</th>\n",
       "      <td>1.218</td>\n",
       "      <td>0.047</td>\n",
       "      <td>0.000</td>\n",
       "      <td>0.109</td>\n",
       "      <td>0.039</td>\n",
       "      <td>0.109</td>\n",
       "      <td>NaN</td>\n",
       "      <td>0.130</td>\n",
       "      <td>0.334</td>\n",
       "      <td>0.097</td>\n",
       "      <td>...</td>\n",
       "      <td>0.093</td>\n",
       "      <td>0.109</td>\n",
       "      <td>0.0</td>\n",
       "      <td>0.066</td>\n",
       "      <td>0.133</td>\n",
       "      <td>0.037</td>\n",
       "      <td>NaN</td>\n",
       "      <td>0.120</td>\n",
       "      <td>0.222</td>\n",
       "      <td>2014-02-27 23:30:00</td>\n",
       "    </tr>\n",
       "    <tr>\n",
       "      <th>2014-02-28 00:00:00</th>\n",
       "      <td>1.387</td>\n",
       "      <td>0.070</td>\n",
       "      <td>0.081</td>\n",
       "      <td>0.112</td>\n",
       "      <td>0.028</td>\n",
       "      <td>0.060</td>\n",
       "      <td>NaN</td>\n",
       "      <td>0.050</td>\n",
       "      <td>0.276</td>\n",
       "      <td>0.112</td>\n",
       "      <td>...</td>\n",
       "      <td>0.086</td>\n",
       "      <td>0.110</td>\n",
       "      <td>0.0</td>\n",
       "      <td>0.092</td>\n",
       "      <td>0.129</td>\n",
       "      <td>0.061</td>\n",
       "      <td>NaN</td>\n",
       "      <td>0.155</td>\n",
       "      <td>0.183</td>\n",
       "      <td>2014-02-28 00:00:00</td>\n",
       "    </tr>\n",
       "  </tbody>\n",
       "</table>\n",
       "<p>39727 rows × 3207 columns</p>\n",
       "</div>"
      ],
      "text/plain": [
       "LCLid                MAC000002  MAC000003  MAC000004  MAC000005  MAC000006  \\\n",
       "DateTime                                                                     \n",
       "2011-11-23 09:00:00        NaN        NaN        NaN        NaN        NaN   \n",
       "2011-11-23 09:30:00        NaN        NaN        NaN        NaN        NaN   \n",
       "2011-11-23 10:00:00        NaN        NaN        NaN        NaN        NaN   \n",
       "2011-11-23 10:30:00        NaN        NaN        NaN        NaN        NaN   \n",
       "2011-11-23 11:00:00        NaN        NaN        NaN        NaN        NaN   \n",
       "...                        ...        ...        ...        ...        ...   \n",
       "2014-02-27 22:00:00      0.416      0.042      0.167      0.248      0.067   \n",
       "2014-02-27 22:30:00      1.350      0.117      0.000      0.113      0.047   \n",
       "2014-02-27 23:00:00      1.247      0.064      0.000      0.111      0.014   \n",
       "2014-02-27 23:30:00      1.218      0.047      0.000      0.109      0.039   \n",
       "2014-02-28 00:00:00      1.387      0.070      0.081      0.112      0.028   \n",
       "\n",
       "LCLid                MAC000007  MAC000008  MAC000009  MAC000010  MAC000011  \\\n",
       "DateTime                                                                     \n",
       "2011-11-23 09:00:00        NaN        NaN        NaN        NaN        NaN   \n",
       "2011-11-23 09:30:00        NaN        NaN        NaN        NaN        NaN   \n",
       "2011-11-23 10:00:00        NaN        NaN        NaN        NaN        NaN   \n",
       "2011-11-23 10:30:00        NaN        NaN        NaN        NaN        NaN   \n",
       "2011-11-23 11:00:00        NaN        NaN        NaN        NaN        NaN   \n",
       "...                        ...        ...        ...        ...        ...   \n",
       "2014-02-27 22:00:00      0.282        NaN      0.193      0.534      0.171   \n",
       "2014-02-27 22:30:00      0.346        NaN      0.338      0.478      0.145   \n",
       "2014-02-27 23:00:00      0.168        NaN      0.207      0.584      0.118   \n",
       "2014-02-27 23:30:00      0.109        NaN      0.130      0.334      0.097   \n",
       "2014-02-28 00:00:00      0.060        NaN      0.050      0.276      0.112   \n",
       "\n",
       "LCLid                ...  MAC005555  MAC005557  MAC005558  MAC005561  \\\n",
       "DateTime             ...                                               \n",
       "2011-11-23 09:00:00  ...        NaN        NaN        NaN        NaN   \n",
       "2011-11-23 09:30:00  ...        NaN        NaN        NaN        NaN   \n",
       "2011-11-23 10:00:00  ...        NaN        NaN        NaN        NaN   \n",
       "2011-11-23 10:30:00  ...        NaN        NaN        NaN        NaN   \n",
       "2011-11-23 11:00:00  ...        NaN        NaN        NaN        NaN   \n",
       "...                  ...        ...        ...        ...        ...   \n",
       "2014-02-27 22:00:00  ...      0.119      0.143        0.0      0.361   \n",
       "2014-02-27 22:30:00  ...      0.062      0.125        0.0      0.088   \n",
       "2014-02-27 23:00:00  ...      0.113      0.171        0.0      0.087   \n",
       "2014-02-27 23:30:00  ...      0.093      0.109        0.0      0.066   \n",
       "2014-02-28 00:00:00  ...      0.086      0.110        0.0      0.092   \n",
       "\n",
       "LCLid                MAC005562  MAC005564  MAC005565  MAC005566  MAC005567  \\\n",
       "DateTime                                                                     \n",
       "2011-11-23 09:00:00        NaN        NaN        NaN        NaN        NaN   \n",
       "2011-11-23 09:30:00        NaN        NaN        NaN        NaN        NaN   \n",
       "2011-11-23 10:00:00        NaN        NaN        NaN        NaN        NaN   \n",
       "2011-11-23 10:30:00        NaN        NaN        NaN        NaN        NaN   \n",
       "2011-11-23 11:00:00        NaN        NaN        NaN        NaN        NaN   \n",
       "...                        ...        ...        ...        ...        ...   \n",
       "2014-02-27 22:00:00      0.427      0.121        NaN      0.141      0.173   \n",
       "2014-02-27 22:30:00      0.336      0.135        NaN      0.123      0.205   \n",
       "2014-02-27 23:00:00      0.167      0.077        NaN      0.155      0.221   \n",
       "2014-02-27 23:30:00      0.133      0.037        NaN      0.120      0.222   \n",
       "2014-02-28 00:00:00      0.129      0.061        NaN      0.155      0.183   \n",
       "\n",
       "LCLid                          datetime  \n",
       "DateTime                                 \n",
       "2011-11-23 09:00:00 2011-11-23 09:00:00  \n",
       "2011-11-23 09:30:00 2011-11-23 09:30:00  \n",
       "2011-11-23 10:00:00 2011-11-23 10:00:00  \n",
       "2011-11-23 10:30:00 2011-11-23 10:30:00  \n",
       "2011-11-23 11:00:00 2011-11-23 11:00:00  \n",
       "...                                 ...  \n",
       "2014-02-27 22:00:00 2014-02-27 22:00:00  \n",
       "2014-02-27 22:30:00 2014-02-27 22:30:00  \n",
       "2014-02-27 23:00:00 2014-02-27 23:00:00  \n",
       "2014-02-27 23:30:00 2014-02-27 23:30:00  \n",
       "2014-02-28 00:00:00 2014-02-28 00:00:00  \n",
       "\n",
       "[39727 rows x 3207 columns]"
      ]
     },
     "execution_count": 117,
     "metadata": {},
     "output_type": "execute_result"
    }
   ],
   "source": [
    "pivoted\n"
   ]
  },
  {
   "cell_type": "code",
   "execution_count": 120,
   "metadata": {},
   "outputs": [
    {
     "data": {
      "text/plain": [
       "<Axes: xlabel='DateTime'>"
      ]
     },
     "execution_count": 120,
     "metadata": {},
     "output_type": "execute_result"
    },
    {
     "data": {
      "image/png": "[encoded data removed]",
      "text/plain": [
       "<Figure size 640x480 with 1 Axes>"
      ]
     },
     "metadata": {},
     "output_type": "display_data"
    }
   ],
   "source": [
    "# How many households have no NaN values?\n",
    "pivoted.isnull().sum(axis=1).plot(label='Number of NaN values', grid=True)"
   ]
  },
  {
   "cell_type": "code",
   "execution_count": 87,
   "metadata": {},
   "outputs": [
    {
     "data": {
      "image/png": "[encoded data removed]",
      "text/plain": [
       "<Figure size 640x480 with 10 Axes>"
      ]
     },
     "metadata": {},
     "output_type": "display_data"
    }
   ],
   "source": [
    "# Group by LCLid and plot 'KWH/hh (per half hour) ' over 'DateTime' in subplots axs\n",
    "pivoted.loc[:, pivoted.columns[0:10]].plot(\n",
    "    subplots=True,\n",
    "    # layout=(number_of_files, 1),\n",
    "    # sharex=True,\n",
    "    sharey=True,\n",
    "    xlabel='time',\n",
    "    # ylabel='KWH/hh'\n",
    "    )\n",
    "plt.tight_layout()\n",
    "plt.show()"
   ]
  },
  {
   "cell_type": "code",
   "execution_count": 115,
   "metadata": {},
   "outputs": [
    {
     "data": {
      "text/html": [
       "<div>\n",
       "<style scoped>\n",
       "    .dataframe tbody tr th:only-of-type {\n",
       "        vertical-align: middle;\n",
       "    }\n",
       "\n",
       "    .dataframe tbody tr th {\n",
       "        vertical-align: top;\n",
       "    }\n",
       "\n",
       "    .dataframe thead th {\n",
       "        text-align: right;\n",
       "    }\n",
       "</style>\n",
       "<table border=\"1\" class=\"dataframe\">\n",
       "  <thead>\n",
       "    <tr style=\"text-align: right;\">\n",
       "      <th>LCLid</th>\n",
       "      <th>MAC000002</th>\n",
       "      <th>MAC000003</th>\n",
       "      <th>MAC000004</th>\n",
       "      <th>MAC000005</th>\n",
       "      <th>MAC000006</th>\n",
       "      <th>MAC000007</th>\n",
       "      <th>MAC000008</th>\n",
       "      <th>MAC000009</th>\n",
       "      <th>MAC000010</th>\n",
       "      <th>MAC000011</th>\n",
       "      <th>...</th>\n",
       "      <th>MAC005557</th>\n",
       "      <th>MAC005558</th>\n",
       "      <th>MAC005561</th>\n",
       "      <th>MAC005562</th>\n",
       "      <th>MAC005564</th>\n",
       "      <th>MAC005565</th>\n",
       "      <th>MAC005566</th>\n",
       "      <th>MAC005567</th>\n",
       "      <th>datetime</th>\n",
       "      <th>group</th>\n",
       "    </tr>\n",
       "    <tr>\n",
       "      <th>DateTime</th>\n",
       "      <th></th>\n",
       "      <th></th>\n",
       "      <th></th>\n",
       "      <th></th>\n",
       "      <th></th>\n",
       "      <th></th>\n",
       "      <th></th>\n",
       "      <th></th>\n",
       "      <th></th>\n",
       "      <th></th>\n",
       "      <th></th>\n",
       "      <th></th>\n",
       "      <th></th>\n",
       "      <th></th>\n",
       "      <th></th>\n",
       "      <th></th>\n",
       "      <th></th>\n",
       "      <th></th>\n",
       "      <th></th>\n",
       "      <th></th>\n",
       "      <th></th>\n",
       "    </tr>\n",
       "  </thead>\n",
       "  <tbody>\n",
       "  </tbody>\n",
       "</table>\n",
       "<p>0 rows × 3208 columns</p>\n",
       "</div>"
      ],
      "text/plain": [
       "Empty DataFrame\n",
       "Columns: [MAC000002, MAC000003, MAC000004, MAC000005, MAC000006, MAC000007, MAC000008, MAC000009, MAC000010, MAC000011, MAC000012, MAC000013, MAC000014, MAC000015, MAC000016, MAC000017, MAC000018, MAC000019, MAC000020, MAC000021, MAC000022, MAC000023, MAC000024, MAC000025, MAC000026, MAC000027, MAC000028, MAC000029, MAC000030, MAC000031, MAC000032, MAC000033, MAC000034, MAC000035, MAC000036, MAC000037, MAC000038, MAC000039, MAC000040, MAC000041, MAC000042, MAC000043, MAC000044, MAC000045, MAC000046, MAC000047, MAC000048, MAC000049, MAC000050, MAC000051, MAC000052, MAC000053, MAC000054, MAC000055, MAC000056, MAC000057, MAC000058, MAC000059, MAC000060, MAC000061, MAC000062, MAC000063, MAC000064, MAC000065, MAC000066, MAC000067, MAC000068, MAC000069, MAC000070, MAC000071, MAC000072, MAC000073, MAC000074, MAC000075, MAC000076, MAC000077, MAC000078, MAC000079, MAC000080, MAC000081, MAC000082, MAC000083, MAC000084, MAC000085, MAC000086, MAC000087, MAC000088, MAC000089, MAC000090, MAC000091, MAC000092, MAC000093, MAC000094, MAC000095, MAC000096, MAC000097, MAC000098, MAC000099, MAC000100, MAC000101, ...]\n",
       "Index: []\n",
       "\n",
       "[0 rows x 3208 columns]"
      ]
     },
     "execution_count": 115,
     "metadata": {},
     "output_type": "execute_result"
    }
   ],
   "source": [
    "# Remove rows where the value is NaN\n",
    "pivoted.dropna(axis=0, inplace=True)\n",
    "pivoted\n"
   ]
  },
  {
   "cell_type": "code",
   "execution_count": null,
   "metadata": {},
   "outputs": [],
   "source": [
    "# Group by consecutive runs of entries using cumcount\n",
    "pivoted['group'] = (pivoted['datetime'] - pivoted['datetime'].shift()).ne(pd.Timedelta('0.5h')).cumsum()\n",
    "pivoted"
   ]
  },
  {
   "cell_type": "code",
   "execution_count": null,
   "metadata": {},
   "outputs": [],
   "source": [
    "\n",
    "# Find the longest run of consecutive entries\n",
    "longest_run = pivoted.groupby('group').size().max()\n",
    "\n",
    "print(\"Longest run of consecutive entries:\", longest_run)"
   ]
  }
 ],
 "metadata": {
  "kernelspec": {
   "display_name": ".venv",
   "language": "python",
   "name": "python3"
  },
  "language_info": {
   "codemirror_mode": {
    "name": "ipython",
    "version": 3
   },
   "file_extension": ".py",
   "mimetype": "text/x-python",
   "name": "python",
   "nbconvert_exporter": "python",
   "pygments_lexer": "ipython3",
   "version": "3.12.3"
  }
 },
 "nbformat": 4,
 "nbformat_minor": 2
}
