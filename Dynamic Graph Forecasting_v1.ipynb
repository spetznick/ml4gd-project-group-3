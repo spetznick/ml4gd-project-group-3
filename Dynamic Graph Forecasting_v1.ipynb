{
 "cells": [
  {
   "cell_type": "markdown",
   "id": "ba9ba800-46ba-45a5-8278-da5a5031369e",
   "metadata": {},
   "source": [
    "# 6 Hour Forecast using Dynamic Graph"
   ]
  },
  {
   "cell_type": "code",
   "execution_count": 59,
   "id": "d7f13f10-9486-4add-9131-88e445870233",
   "metadata": {},
   "outputs": [],
   "source": [
    "%matplotlib ipympl\n",
    "import pandas as pd\n",
    "import numpy as np\n",
    "import seaborn as sns\n",
    "import matplotlib.pyplot as plt\n",
    "from sklearn.model_selection import TimeSeriesSplit\n",
    "import pickle # to access dataframe faster than csv\n",
    "import glob, re\n",
    "import os\n",
    "import csv\n",
    "from pathlib import Path\n",
    "import scipy as sp\n",
    "import networkx\n",
    "import torch_geometric\n",
    "import torch\n",
    "from torch_geometric.utils.convert import from_networkx\n",
    "from scipy.sparse import coo_matrix\n",
    "from concurrent.futures import ThreadPoolExecutor, as_completed\n",
    "from tqdm import tqdm\n",
    "from pandas.plotting import register_matplotlib_converters\n",
    "\n",
    "# for tweaked_TAGConv\n",
    "import torch.nn as nn\n",
    "from torch import Tensor\n",
    "from torch_geometric.data import Data\n",
    "from torch_geometric.nn.conv import MessagePassing\n",
    "from torch_geometric.nn.conv.gcn_conv import gcn_norm # adjacency matrix normalization\n",
    "from torch_geometric.nn.dense.linear import Linear\n",
    "from torch_geometric.nn.inits import zeros # initialize weights and biases for nn\n",
    "from torch_geometric.typing import Adj, OptTensor, SparseTensor\n",
    "from torch_geometric.utils import spmm # for sparse matrix multiplication\n",
    "\n",
    "# for normalizing\n",
    "from sklearn.preprocessing import MinMaxScaler, RobustScaler\n",
    "register_matplotlib_converters()\n",
    "sns.set_style(\"darkgrid\")\n",
    "plt.rc(\"figure\", figsize=(8, 8))\n",
    "plt.rc(\"font\", size=13)"
   ]
  },
  {
   "cell_type": "code",
   "execution_count": 26,
   "id": "f1f70a5b",
   "metadata": {},
   "outputs": [],
   "source": [
    "from utils import blocked_cross_validation_idx,get_windows_idx,get_train_batch_blocks"
   ]
  },
  {
   "cell_type": "markdown",
   "id": "e71d284e-0ef6-4fb7-93df-339b826c5c80",
   "metadata": {},
   "source": [
    "## Initialize\n",
    "1. Aggregated (dataframe available at https://drive.google.com/drive/folders/1CwSLAJeCGUuHXRJOZ9YgkraHYaE8pGGH?usp=sharing)\n",
    "2. Load aggregated\n",
    "3. Load window csv with lclids corresponding to aggregated data"
   ]
  },
  {
   "cell_type": "code",
   "execution_count": 45,
   "id": "78a670ee",
   "metadata": {},
   "outputs": [
    {
     "name": "stdout",
     "output_type": "stream",
     "text": [
      "cpu\n"
     ]
    }
   ],
   "source": [
    "# Check that MPS is available\n",
    "if not torch.backends.mps.is_available():\n",
    "    if not torch.backends.mps.is_built():\n",
    "        print(\"MPS not available because the current PyTorch install was not \"\n",
    "              \"built with MPS enabled.\")\n",
    "    else:\n",
    "        print(\"MPS not available because the current MacOS version is not 12.3+ \"\n",
    "              \"and/or you do not have an MPS-enabled device on this machine.\")\n",
    "    print(\"Pytorch is built with MPS on this device:\", torch.backends.mps.is_built())\n",
    "    device = torch.device('cuda' if torch.cuda.is_available() else 'cpu')\n",
    "else:\n",
    "    device = torch.device(\"mps\")\n",
    "    device = torch.device(\"cpu\")\n",
    "print(device)"
   ]
  },
  {
   "cell_type": "code",
   "execution_count": 28,
   "id": "0c86dd50-97b4-44c4-a948-c7d9c69a6923",
   "metadata": {},
   "outputs": [
    {
     "name": "stdout",
     "output_type": "stream",
     "text": [
      "<class 'pandas.core.frame.DataFrame'>\n",
      "DatetimeIndex: 17544 entries, 2012-01-01 00:00:00 to 2013-12-31 23:00:00\n",
      "Columns: 5558 entries, 2 to 5564\n",
      "dtypes: float64(5558)\n",
      "memory usage: 744.1 MB\n"
     ]
    }
   ],
   "source": [
    "# load the data\n",
    "file = open('uk-smart-meter-aggregated/df_agg.pkl','rb')\n",
    "df_agg = pickle.load(file)\n",
    "df_agg.info()\n",
    "\n",
    "# unnormalized_df_agg = pickle.load(file)\n",
    "# unnormalized_df_agg.info()\n",
    "\n",
    "# # check the min and max values\n",
    "# min_value = unnormalized_df_agg.min(skipna = True).min()\n",
    "# print(f'Minimum entry = {min_value}')\n",
    "\n",
    "# max_value = unnormalized_df_agg.max(skipna = True).max()\n",
    "# print(f'Maximum entry = {max_value}')\n",
    "\n",
    "# # scaler = MinMaxScaler()\n",
    "# scaler = RobustScaler()\n",
    "# norm_data = scaler.fit_transform(unnormalized_df_agg)\n",
    "\n",
    "# df_agg = pd.DataFrame(norm_data, columns=unnormalized_df_agg.columns)\n",
    "# df_agg.index = unnormalized_df_agg.index\n",
    "# df_agg.info()\n",
    "\n",
    "# # check the min and max values\n",
    "# min_value = df_agg.min(skipna = True).min()\n",
    "# print(f'Minimum entry = {min_value}')\n",
    "\n",
    "# max_value = df_agg.max(skipna = True).max()\n",
    "# print(f'Maximum entry = {max_value}')"
   ]
  },
  {
   "cell_type": "code",
   "execution_count": 29,
   "id": "a75bde78-3191-428e-87cd-ade22b841885",
   "metadata": {},
   "outputs": [
    {
     "name": "stdout",
     "output_type": "stream",
     "text": [
      "<class 'pandas.core.frame.DataFrame'>\n",
      "Index: 5558 entries, 0 to 5557\n",
      "Data columns (total 4 columns):\n",
      " #   Column       Non-Null Count  Dtype          \n",
      "---  ------       --------------  -----          \n",
      " 0   LCLid        5558 non-null   int64          \n",
      " 1   Enabled At   5558 non-null   datetime64[ns] \n",
      " 2   Disabled At  5558 non-null   datetime64[ns] \n",
      " 3   Duration     5558 non-null   timedelta64[ns]\n",
      "dtypes: datetime64[ns](2), int64(1), timedelta64[ns](1)\n",
      "memory usage: 217.1 KB\n"
     ]
    }
   ],
   "source": [
    "file = open('uk-smart-meter-aggregated/windows_agg_ids.pkl','rb')\n",
    "windows = pickle.load(file)\n",
    "windows.info()"
   ]
  },
  {
   "cell_type": "markdown",
   "id": "59abdb60-7ee3-46fd-8949-7ea559ec176d",
   "metadata": {},
   "source": [
    "## Snapshot-based temporal graph\n",
    "Idea: Build the adjacency matrix for all nodes using `create_adjacency_matrix`. Select a time-stamp for example [0]: '2012-01-01 00:00:00' or [1]: '2012-01-01 01:00:00' and so on. For this time-stamp what all nodes are active? Make an adjacency matrix for only these nodes for that particular time stamp using `get_snapshot_adjacency`. This function further returns the LCLids of active nodes (2,3,... 5564) and the indices of those active nodes (dataframe indices as in from range 0 to 5557)."
   ]
  },
  {
   "cell_type": "markdown",
   "id": "e4f0b44c-3cf8-4da6-b510-d3fe6204e4f5",
   "metadata": {},
   "source": [
    "1. Get the adjacency matrix for *all the nodes* at once to avoid computation"
   ]
  },
  {
   "cell_type": "code",
   "execution_count": 30,
   "id": "4c3a0513-7deb-4a80-9893-c8f5575d670c",
   "metadata": {},
   "outputs": [
    {
     "name": "stdout",
     "output_type": "stream",
     "text": [
      "Number of unique start dates:  2154\n",
      "Graph connected for k=50: True\n",
      "sparsity:  0.9439180477754235\n"
     ]
    },
    {
     "data": {
      "application/vnd.jupyter.widget-view+json": {
       "model_id": "a4803ecc36ca42aa90fef5fab7d256c2",
       "version_major": 2,
       "version_minor": 0
      },
      "image/png": "[encoded data removed]",
      "text/html": [
       "\n",
       "            <div style=\"display: inline-block;\">\n",
       "                <div class=\"jupyter-widgets widget-label\" style=\"text-align: center;\">\n",
       "                    Figure 1\n",
       "                </div>\n",
       "                <img src='data:image/png;base64,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' width=640.0/>\n",
       "            </div>\n",
       "        "
      ],
      "text/plain": [
       "Canvas(toolbar=Toolbar(toolitems=[('Home', 'Reset original view', 'home', 'home'), ('Back', 'Back to previous …"
      ]
     },
     "metadata": {},
     "output_type": "display_data"
    }
   ],
   "source": [
    "def create_adjacency_matrix(lclids, k):\n",
    "    number_of_nodes = sum([len(l) for l in lclids])\n",
    "    adjacency_matrix = np.zeros((number_of_nodes, number_of_nodes))\n",
    "    # Create the graph by iterating over the list of lists of LCLids\n",
    "    # and connecting all nodes in the list with each other\n",
    "    # and with the k-nearest lists\n",
    "    for i in range(len(lclids)): # range 2156\n",
    "        for j in range(len(lclids)): # range 2156\n",
    "            if i == j:\n",
    "                for lclid in lclids[i]:\n",
    "                    for lclid2 in lclids[j]:\n",
    "                        adjacency_matrix[lclid, lclid2] = 1\n",
    "            elif abs(i-j) <= k:\n",
    "                for lclid in lclids[i]:\n",
    "                    for lclid2 in lclids[j]:\n",
    "                        adjacency_matrix[lclid, lclid2] = 1\n",
    "    adjacency_matrix = adjacency_matrix - np.eye(number_of_nodes)\n",
    "    return sp.sparse.bsr_array(adjacency_matrix)\n",
    "\n",
    "# Sort rows by start date\n",
    "windows_copy = windows.sort_values(by='Enabled At').copy()\n",
    "\n",
    "# Get an ordered list of dates 'Enabled At'\n",
    "enable_unique_dates = windows_copy['Enabled At'].unique()\n",
    "\n",
    "# Get a list of lists of LCLids that have the same start date\n",
    "nbor_lclids = [windows_copy[windows_copy['Enabled At'] == date].index.tolist() for date in enable_unique_dates]\n",
    "print('Number of unique start dates: ', len(enable_unique_dates))\n",
    "assert len(windows) == sum([len(l) for l in nbor_lclids])\n",
    "\n",
    "# K-nearest neighbours\n",
    "k = 50\n",
    "\n",
    "adjacency_matrix = create_adjacency_matrix(nbor_lclids, k)\n",
    "# Compute the sparsity of the adjacency matrix\n",
    "sparsity = 1 - sp.sparse.bsr_matrix.count_nonzero(adjacency_matrix) / np.prod(adjacency_matrix.shape)\n",
    "G = networkx.from_scipy_sparse_array(adjacency_matrix)\n",
    "print(f'Graph connected for k={k}: {networkx.is_connected(G)}')\n",
    "print('sparsity: ', sparsity)\n",
    "\n",
    "plt.spy(sp.sparse.bsr_matrix.toarray(adjacency_matrix))\n",
    "plt.xlabel(\"Household mapped indices\"), plt.ylabel(\"Household mapped indices\")\n",
    "# save the adjacency matrix\n",
    "np.save('Results/adjacency_matrix.npy', adjacency_matrix)\n",
    "plt.show()"
   ]
  },
  {
   "cell_type": "markdown",
   "id": "49cbd1f7-e613-4520-ab5b-4d44fd0258e1",
   "metadata": {},
   "source": [
    "2. Make a function to get the sub-adjacency matrix for all nodes active at a given time instant"
   ]
  },
  {
   "cell_type": "code",
   "execution_count": 31,
   "id": "174aceef-34e1-4d93-8b07-c733397c40c5",
   "metadata": {},
   "outputs": [],
   "source": [
    "def get_snapshot_adjacency(timestampidx, full_adjacency_matrix, df_agg):\n",
    "    \"\"\"\n",
    "    timestampidx: Time index; For example [0]: '2012-01-01 00:00:00'\n",
    "    full_adjacency_matrix (np.array()): adjacency matrix for all the LCLids\n",
    "    df_agg: aggregated dataframe with timeseries for all LCLids\n",
    "\n",
    "    Returns:\n",
    "    indices_active_nodes: dataframe indices of active nodes\n",
    "    active nodes: LCLids of active nodes\n",
    "    active_sparse_submat: adjacency matrix obtained for that particular timestamp (using timestampidx)\n",
    "    \"\"\"\n",
    "    full_adjacency_matrix = full_adjacency_matrix.toarray()\n",
    "\n",
    "    # get all the active nodes for that particular time-stamp\n",
    "    active_nodes = df_agg.columns[df_agg.loc[df_agg.index[timestampidx], :].notna()]\n",
    "\n",
    "    # indices of active nodes\n",
    "    indices_active_nodes = windows[windows['LCLid'].isin(active_nodes.values)].index\n",
    "\n",
    "    # active nodes sub-adjacency matrix\n",
    "    active_adj_submat = full_adjacency_matrix[np.ix_(indices_active_nodes, indices_active_nodes)]\n",
    "\n",
    "    if active_adj_submat.shape[0] != active_nodes.shape[0]:\n",
    "        print(f'# active nodes = {active_nodes.shape}, while \\\n",
    "        Adjacency Matrix Shape = {active_adj_submat.shape}')\n",
    "        raise RuntimeError()\n",
    "\n",
    "    # create graph from the adjacency submatrix to check if it is connected\n",
    "    active_sparse_submat = sp.sparse.bsr_array(active_adj_submat)\n",
    "\n",
    "    ################ too slow ############################\n",
    "    #G = networkx.from_scipy_sparse_array(active_sparse_submat)\n",
    "    # check if the graph is fully connected\n",
    "    # assert networkx.is_connected(G)\n",
    "\n",
    "    # FOR FURTHER ANALYSIS\n",
    "    #sparsity_submat = 1 - sp.sparse.bsr_matrix.count_nonzero(active_sparse_submat) \\\n",
    "    #/ np.prod(active_sparse_submat.shape)\n",
    "    #print(f'Sparsity = {sparsity_submat}')\n",
    "\n",
    "\n",
    "    # get edge indices from the adjacency submatrix COO Format\n",
    "    # edge_index = torch.tensor(np.array(G.edges).T)\n",
    "    #######################################################\n",
    "\n",
    "    active_sparse_submat_coo = active_sparse_submat.tocoo()\n",
    "\n",
    "    row = active_sparse_submat_coo.row\n",
    "    col = active_sparse_submat_coo.col\n",
    "\n",
    "    edge_index = torch.tensor(np.vstack((row, col)), dtype=torch.long)\n",
    "\n",
    "    # node feature matrix\n",
    "    node_feat = torch.tensor(df_agg.loc[df_agg.index[timestampidx],active_nodes].values).view(-1,1)\n",
    "    return indices_active_nodes, active_nodes, active_sparse_submat, node_feat, edge_index\n",
    "\n",
    "\n",
    "# example usage:\n",
    "indices, activenodes, active_sparse_submat, node_feat, edge_idx = get_snapshot_adjacency(0, adjacency_matrix, df_agg) # check exact date using df_agg.index[100]"
   ]
  },
  {
   "cell_type": "markdown",
   "id": "282a50be-dd79-45d0-97c7-92350a74bbfa",
   "metadata": {},
   "source": [
    "### Align snapshots"
   ]
  },
  {
   "cell_type": "markdown",
   "id": "74ac1e83-5911-43f1-8d4a-bc7fd320b8b0",
   "metadata": {},
   "source": [
    "Idea: Take snapshots for a window and extract the sub-adjacency matrices (only considering active nodes) and node features. And stack these sub-adjacency matrices as a dictionary (book)."
   ]
  },
  {
   "cell_type": "code",
   "execution_count": 32,
   "id": "5a5b2f66-b769-4a87-996e-00bf44a2c4ca",
   "metadata": {},
   "outputs": [],
   "source": [
    "# print(f'Snapshots taken at {df_agg.index[0]}, {df_agg.index[50]}, {df_agg.index[100]} to calculate the supra adjacency matrix')\n",
    "def get_subadj_book(window_idx, adjacency_matrix, df_agg):\n",
    "    \"\"\"\n",
    "    Input:\n",
    "        - window_idx:       window index (for eg., range(0,23) for first 24 hours)\n",
    "        - adjacency_matrix: full adjacency matrix\n",
    "        - df_agg:           aggregated dataframe\n",
    "    Returns\n",
    "        - idx_book:       dict of indices (of dataframe) of all active nodes throughout the window for all time instances\n",
    "        - actnod_book:    dict of LCLids of active nodes throughout the window for all time instances\n",
    "        - subadj_book:    dict of subadjacency matrices throughout the window for all time instances (can be of different sizes)\n",
    "        - all_nodes:      set of LCLids of all active unique nodes inside the window_idx\n",
    "        - node_feat_book: dict of node feature matrix throughout the window for all instances\n",
    "        - edge_idx_book:  dict of edge index throughout the window for all instances\n",
    "    \"\"\"\n",
    "    node_feat_book = {}\n",
    "    edge_idx_book = {}\n",
    "    subadj_book = {}\n",
    "    idx_book = {}\n",
    "    actnod_book = {}\n",
    "    all_nodes = set()\n",
    "\n",
    "    def process_idx(i, idx):\n",
    "        idx_i, actnod_i, subadj_i, node_feat_i, edge_idx_i = get_snapshot_adjacency(idx, adjacency_matrix, df_agg)\n",
    "        return i, idx_i, actnod_i, subadj_i, node_feat_i, edge_idx_i\n",
    "\n",
    "    with ThreadPoolExecutor() as executor:\n",
    "        futures = [executor.submit(process_idx, i, idx) for i, idx in enumerate(window_idx)]\n",
    "        #print(futures)\n",
    "        for future in as_completed(futures):\n",
    "            i, idx_i, actnod_i, subadj_i, node_feat_i, edge_idx_i = future.result()\n",
    "            idx_book[i] = idx_i\n",
    "            actnod_book[i] = actnod_i\n",
    "            subadj_book[i] = subadj_i.toarray()\n",
    "            node_feat_book[i] = node_feat_i\n",
    "            edge_idx_book[i] = edge_idx_i\n",
    "            all_nodes.update(actnod_i)\n",
    "\n",
    "    return idx_book, actnod_book, subadj_book, all_nodes, node_feat_book, edge_idx_book\n",
    "\n",
    "window_idx = np.arange(128) #100*np.array([0,1,2,3,4,5,6,7,8,9,10]) # training window\n",
    "idx_book, actnod_book, subadj_book, all_nodes, node_feat_book, edge_idx_book = get_subadj_book(window_idx, adjacency_matrix, df_agg)"
   ]
  },
  {
   "cell_type": "markdown",
   "id": "087c39bc-48b7-4bca-9ecf-87f6d39f1b3f",
   "metadata": {},
   "source": [
    "Align the snapshots of different adjacency matrices to become size compatible. For example snapshot 1 has $R^{410\\times410}$, snapshot 2 has $R^{450\\times 450}$. This means that first snapshot has 410 active nodes and second snapshot has 450 active nodes. So, make a union set of all these nodes and \"align\" the shape of snapshot 2 adjacency matrix, node-features and edge_index to the shape of snapshot 2. So, snapshot 1 will also have adjacency matrix of size $R^{450\\times 450}$ but with zeros at entries corresponding to the node that is not active in that snapshot 1."
   ]
  },
  {
   "cell_type": "code",
   "execution_count": 33,
   "id": "74348fff-d87b-47b5-a0e1-102452446c6b",
   "metadata": {},
   "outputs": [],
   "source": [
    "def align_adjacency_matrix(active_nodes, subadj, all_nodes, node_index_map):\n",
    "    \"\"\"\n",
    "    Input:\n",
    "        - active_nodes: list of active nodes\n",
    "        - subadj: sub-adjacency matrix for these active nodes\n",
    "        - all_nodes: all the nodes for the entire window not just the instant where subadj and active_nodes are found\n",
    "        - node_index_map: sorted all_nodes with {index: node...}\n",
    "\n",
    "\n",
    "    \"\"\"\n",
    "    if not isinstance(subadj, np.ndarray):\n",
    "        subadj = subadj.toarray()\n",
    "\n",
    "    # Create a mapping from active node to index\n",
    "    active_node_indices = [node_index_map[node] for node in active_nodes]\n",
    "\n",
    "    # Create aligned subadjacency matrix\n",
    "    aligned_subadj = np.zeros((len(all_nodes), len(all_nodes)))\n",
    "\n",
    "    # Use numpy advanced indexing to place the subadj matrix in the correct positions\n",
    "    aligned_subadj[np.ix_(active_node_indices, active_node_indices)] = subadj\n",
    "\n",
    "    return aligned_subadj\n",
    "\n",
    "\n",
    "def get_aligned_adj_book(subadj_book, node_feat_book, actnod_book, all_nodes):\n",
    "\n",
    "    # create node index mapping\n",
    "    # for ex., index_mapping = {0,1,2,3,4,5} for sorted nodes {1,2,3,4,5,6}\n",
    "    node_index_map = {node: i for i, node in enumerate(sorted(all_nodes))} # node: idx dictionary\n",
    "\n",
    "    # total nodes\n",
    "    num_nodes = len(node_index_map)\n",
    "\n",
    "    aligned_adj_book = {}\n",
    "    aligned_node_feat_book = {}\n",
    "    aligned_edge_index_book = {}\n",
    "\n",
    "    for i, ((actkey, actnod), (subadjkey, subadj)) in enumerate(zip(actnod_book.items(), subadj_book.items())):\n",
    "\n",
    "        aligned_adj_book[i] = align_adjacency_matrix(actnod, subadj, all_nodes, node_index_map)\n",
    "\n",
    "\n",
    "        # Extract the indices of the non-zero elements (edges)\n",
    "        row_indices, col_indices = np.nonzero(aligned_adj_book[i])\n",
    "\n",
    "        # Combine the row and column indices to form the edge_index\n",
    "        aligned_edge_index_book[i] = torch.tensor(np.vstack((row_indices, col_indices)))\n",
    "\n",
    "        for j, key in enumerate(actnod.values):\n",
    "            temp = np.zeros((len(all_nodes), 1))\n",
    "            temp[node_index_map[key]] = node_feat_book[actkey][j]\n",
    "        aligned_node_feat_book[i] = temp\n",
    "    return aligned_adj_book, node_index_map, aligned_node_feat_book, aligned_edge_index_book\n",
    "\n"
   ]
  },
  {
   "cell_type": "code",
   "execution_count": 34,
   "id": "d6059101",
   "metadata": {},
   "outputs": [],
   "source": [
    "df = pd.DataFrame({\n",
    "    'DateTime': pd.date_range(start='2012-01-01 00:00:00', end='2013-12-31 23:00:00', freq='1h')\n",
    "})\n",
    "train_months=2\n",
    "test_months=1\n",
    "batch_size=48\n",
    "overlap_months=0\n",
    "train_test_blocks=blocked_cross_validation_idx(df,train_months,test_months,overlap_months)[0]\n",
    "batch_windows=get_train_batch_blocks(train_test_blocks[0],train_test_blocks[1],batch_size=batch_size)"
   ]
  },
  {
   "cell_type": "code",
   "execution_count": 35,
   "id": "5acceb2a-abf9-4b72-9ec1-ba1bd1066293",
   "metadata": {},
   "outputs": [
    {
     "data": {
      "text/plain": [
       "30"
      ]
     },
     "execution_count": 35,
     "metadata": {},
     "output_type": "execute_result"
    }
   ],
   "source": [
    "len(batch_windows)"
   ]
  },
  {
   "cell_type": "code",
   "execution_count": 36,
   "id": "63e1f64f",
   "metadata": {},
   "outputs": [],
   "source": [
    "window_idx=batch_windows[1]\n",
    "# extract the subadjacency matrix for all those time-stamps\n",
    "idx_book, actnod_book, subadj_book, all_nodes, node_feat_book, edge_idx_book = get_subadj_book(window_idx, adjacency_matrix, df_agg)\n",
    "\n",
    "aligned_adj_book, node_index_map, aligned_node_feat_book, aligned_edge_index_book = get_aligned_adj_book(subadj_book, node_feat_book, actnod_book, all_nodes)"
   ]
  },
  {
   "cell_type": "markdown",
   "id": "e5bf0b79-cbaf-4552-afa8-21cc3bf4a295",
   "metadata": {},
   "source": [
    "### Graph-VAR\n",
    "\n",
    "$$\n",
    "\\mathbf{x_t} = -\\sum_{p=1}^{P} \\sum_{k=0}^{K} h_{kp}\\mathbf{S}_{t-p}^k \\mathbf{x}_{t-p} \n",
    "$$\n",
    "\n",
    "where P in our case will be 24. "
   ]
  },
  {
   "cell_type": "markdown",
   "id": "499fb05f-ee7f-41a1-b811-ec5fa8fba2e7",
   "metadata": {},
   "source": [
    "Dataset has "
   ]
  },
  {
   "cell_type": "code",
   "execution_count": 37,
   "id": "17792cd7-de3c-4238-9816-ac44990bb189",
   "metadata": {},
   "outputs": [
    {
     "data": {
      "text/plain": [
       "array([ 0,  1,  2,  3,  4,  5,  6,  7,  8,  9, 10, 11, 12, 13, 14, 15, 16,\n",
       "       17, 18, 19, 20, 21, 22, 23, 24, 25, 26, 27, 28, 29, 30, 31, 32, 33,\n",
       "       34, 35, 36, 37, 38, 39, 40, 41, 42, 43, 44, 45, 46, 47])"
      ]
     },
     "execution_count": 37,
     "metadata": {},
     "output_type": "execute_result"
    }
   ],
   "source": [
    "batch_windows[0]"
   ]
  },
  {
   "cell_type": "code",
   "execution_count": 38,
   "id": "c4dd6b16-e95c-48ad-acf1-0071f1230c07",
   "metadata": {},
   "outputs": [],
   "source": [
    "class TemporalGraphDataset:\n",
    "    def __init__(self, adjacency_matrix, df_agg):\n",
    "        self.graph_data = {}\n",
    "        self.adjacency_matrix = adjacency_matrix\n",
    "        self.df_agg = df_agg\n",
    "        self.all_nodes_dict = {}\n",
    "\n",
    "    def add_batch_instance(self, window_idx, b):\n",
    "        # extract the subadjacency matrix for all those time-stamps\n",
    "        idx_book, actnod_book, subadj_book, all_nodes, node_feat_book, edge_idx_book = get_subadj_book(window_idx, self.adjacency_matrix, self.df_agg)\n",
    "        aligned_adj_book, node_index_map, aligned_node_feat_book, aligned_edge_index_book = get_aligned_adj_book(subadj_book, node_feat_book, actnod_book, all_nodes)\n",
    "\n",
    "        if b not in self.all_nodes_dict:\n",
    "            self.all_nodes_dict[b] = {}\n",
    "        self.all_nodes_dict[b] = all_nodes\n",
    "\n",
    "        # Initialize graph data for batch if not present\n",
    "        if b not in self.graph_data:\n",
    "            self.graph_data[b] = {}\n",
    "\n",
    "\n",
    "        for i, idx in enumerate(window_idx):\n",
    "\n",
    "            aligned_node_feat_book[i], aligned_edge_index_book[i], idx\n",
    "\n",
    "            edge_index, edge_weight = gcn_norm(edge_index=aligned_edge_index_book[i].long(),\n",
    "                                           edge_weight=None,\n",
    "                                           num_nodes=aligned_node_feat_book[i].shape[0],\n",
    "                                           add_self_loops=False)\n",
    "\n",
    "            # Create a Data object with node features, edge index, and edge weights\n",
    "            data = Data(x=torch.tensor(aligned_node_feat_book[i]).float(), edge_index=edge_index.float(), edge_weight = edge_weight)\n",
    "\n",
    "            self.graph_data[b][idx] = data\n",
    "\n",
    "    def get_batch_instance(self, b):\n",
    "        return self.graph_data.get(b, \"Batch not found.\")\n",
    "\n",
    "    def get_batch_time_instance(self, b, idx):\n",
    "        return self.graph_data.get(b, {}).get(idx, \"Time instance not found.\")\n",
    "\n",
    "    def get_all_nodes(self, b):\n",
    "        return self.all_nodes_dict[b]\n",
    "\n",
    "dataset = TemporalGraphDataset(adjacency_matrix, df_agg)\n",
    "for b, window_idx in enumerate(batch_windows):\n",
    "    dataset.add_batch_instance(window_idx, b)"
   ]
  },
  {
   "cell_type": "code",
   "execution_count": 39,
   "id": "2612f50d-7e2d-4345-8f26-7ce74e24d151",
   "metadata": {},
   "outputs": [
    {
     "data": {
      "text/plain": [
       "{48: Data(x=[419, 1], edge_index=[2, 63454], edge_weight=[63454]),\n",
       " 49: Data(x=[419, 1], edge_index=[2, 63454], edge_weight=[63454]),\n",
       " 50: Data(x=[419, 1], edge_index=[2, 63454], edge_weight=[63454]),\n",
       " 51: Data(x=[419, 1], edge_index=[2, 64314], edge_weight=[64314]),\n",
       " 52: Data(x=[419, 1], edge_index=[2, 64646], edge_weight=[64646]),\n",
       " 53: Data(x=[419, 1], edge_index=[2, 63976], edge_weight=[63976]),\n",
       " 54: Data(x=[419, 1], edge_index=[2, 63804], edge_weight=[63804]),\n",
       " 55: Data(x=[419, 1], edge_index=[2, 63454], edge_weight=[63454]),\n",
       " 56: Data(x=[419, 1], edge_index=[2, 63454], edge_weight=[63454]),\n",
       " 57: Data(x=[419, 1], edge_index=[2, 63454], edge_weight=[63454]),\n",
       " 58: Data(x=[419, 1], edge_index=[2, 63454], edge_weight=[63454]),\n",
       " 59: Data(x=[419, 1], edge_index=[2, 63454], edge_weight=[63454]),\n",
       " 60: Data(x=[419, 1], edge_index=[2, 63454], edge_weight=[63454]),\n",
       " 61: Data(x=[419, 1], edge_index=[2, 64482], edge_weight=[64482]),\n",
       " 62: Data(x=[419, 1], edge_index=[2, 64646], edge_weight=[64646]),\n",
       " 63: Data(x=[419, 1], edge_index=[2, 64646], edge_weight=[64646]),\n",
       " 64: Data(x=[419, 1], edge_index=[2, 64646], edge_weight=[64646]),\n",
       " 65: Data(x=[419, 1], edge_index=[2, 64646], edge_weight=[64646]),\n",
       " 66: Data(x=[419, 1], edge_index=[2, 64646], edge_weight=[64646]),\n",
       " 67: Data(x=[419, 1], edge_index=[2, 64646], edge_weight=[64646]),\n",
       " 68: Data(x=[419, 1], edge_index=[2, 64646], edge_weight=[64646]),\n",
       " 69: Data(x=[419, 1], edge_index=[2, 64646], edge_weight=[64646]),\n",
       " 70: Data(x=[419, 1], edge_index=[2, 64646], edge_weight=[64646]),\n",
       " 71: Data(x=[419, 1], edge_index=[2, 64646], edge_weight=[64646]),\n",
       " 72: Data(x=[419, 1], edge_index=[2, 64646], edge_weight=[64646]),\n",
       " 73: Data(x=[419, 1], edge_index=[2, 64646], edge_weight=[64646]),\n",
       " 74: Data(x=[419, 1], edge_index=[2, 64646], edge_weight=[64646]),\n",
       " 75: Data(x=[419, 1], edge_index=[2, 64646], edge_weight=[64646]),\n",
       " 76: Data(x=[419, 1], edge_index=[2, 64646], edge_weight=[64646]),\n",
       " 77: Data(x=[419, 1], edge_index=[2, 64646], edge_weight=[64646]),\n",
       " 78: Data(x=[419, 1], edge_index=[2, 64646], edge_weight=[64646]),\n",
       " 79: Data(x=[419, 1], edge_index=[2, 64646], edge_weight=[64646]),\n",
       " 80: Data(x=[419, 1], edge_index=[2, 64646], edge_weight=[64646]),\n",
       " 81: Data(x=[419, 1], edge_index=[2, 64810], edge_weight=[64810]),\n",
       " 82: Data(x=[419, 1], edge_index=[2, 64646], edge_weight=[64646]),\n",
       " 83: Data(x=[419, 1], edge_index=[2, 64810], edge_weight=[64810]),\n",
       " 84: Data(x=[419, 1], edge_index=[2, 64810], edge_weight=[64810]),\n",
       " 85: Data(x=[419, 1], edge_index=[2, 64810], edge_weight=[64810]),\n",
       " 86: Data(x=[419, 1], edge_index=[2, 64972], edge_weight=[64972]),\n",
       " 87: Data(x=[419, 1], edge_index=[2, 64972], edge_weight=[64972]),\n",
       " 88: Data(x=[419, 1], edge_index=[2, 64972], edge_weight=[64972]),\n",
       " 89: Data(x=[419, 1], edge_index=[2, 64972], edge_weight=[64972]),\n",
       " 90: Data(x=[419, 1], edge_index=[2, 64972], edge_weight=[64972]),\n",
       " 91: Data(x=[419, 1], edge_index=[2, 64972], edge_weight=[64972]),\n",
       " 92: Data(x=[419, 1], edge_index=[2, 64972], edge_weight=[64972]),\n",
       " 93: Data(x=[419, 1], edge_index=[2, 64972], edge_weight=[64972]),\n",
       " 94: Data(x=[419, 1], edge_index=[2, 64972], edge_weight=[64972]),\n",
       " 95: Data(x=[419, 1], edge_index=[2, 64972], edge_weight=[64972])}"
      ]
     },
     "execution_count": 39,
     "metadata": {},
     "output_type": "execute_result"
    }
   ],
   "source": [
    "dataset.get_batch_instance(1)"
   ]
  },
  {
   "cell_type": "code",
   "execution_count": 47,
   "id": "48e08764-7e96-422d-a250-9067c8c52739",
   "metadata": {},
   "outputs": [],
   "source": [
    "class TemporalGCNLayer(MessagePassing):\n",
    "    def __init__(self, in_channels: int, out_channels: int, K: int, P: int): # P from window_idx = np.arange(P)\n",
    "        super(TemporalGCNLayer, self).__init__(aggr = 'add') # 'Add' aggregation\n",
    "        self.K = K\n",
    "        self.P = P\n",
    "        # self.normalize = normalize\n",
    "        # self.linear = nn.Linear(in_channels, out_channels)\n",
    "        self.h = nn.Parameter(torch.Tensor(K+1, P)) # depends on the order of filter and P\n",
    "        self.reset_parameters() # initialize parameters\n",
    "        self.m = nn.ReLU()\n",
    "\n",
    "    def reset_parameters(self):\n",
    "        #nn.init.xavier_uniform_(self.linear.weight) # initialize the weight of the linear layer\n",
    "        #nn.init.zeros_(self.linear.bias)\n",
    "        nn.init.xavier_uniform_(self.h)\n",
    "\n",
    "    def forward(self, dataset) -> Tensor:\n",
    "        # keys of the given dataset as tensor\n",
    "        indices = torch.Tensor(list(dataset.keys())).int()\n",
    "        batch_size = len(indices) # 128\n",
    "        first_idx = indices[0].item() # since it is a tensor\n",
    "\n",
    "        # Intialize output tensor # (428, 104)\n",
    "        out = torch.zeros(dataset[first_idx].x.shape[0], batch_size - self.P).to(device)\n",
    "\n",
    "        # Cache adjacency matrices and feature matrices\n",
    "        adj_matrices = []\n",
    "        x_t_matrices = []\n",
    "\n",
    "        for i in range(first_idx, first_idx + batch_size):\n",
    "            edge_index = dataset[i].edge_index.long().to(device)\n",
    "            edge_weight = dataset[i].edge_weight.to(device)\n",
    "            adj_sparse_tensor = SparseTensor(row = edge_index[0], col = edge_index[1], value = edge_weight)\n",
    "            adj_matrices.append(adj_sparse_tensor)\n",
    "            x_t_matrices.append(dataset[i].x.to(device))\n",
    "\n",
    "        # Compute the output using cached matrices\n",
    "        for i_p in range(batch_size - self.P):\n",
    "            out_kp = torch.zeros_like(x_t_matrices[0]).to(device)\n",
    "\n",
    "            for p in range(self.P):\n",
    "                idx = i_p + p\n",
    "                x_t_minus_p = x_t_matrices[idx]\n",
    "                adj_sparse_tensor = adj_matrices[idx]\n",
    "\n",
    "                for k in range(self.K + 1):\n",
    "                    h_kp = self.h[k, p]\n",
    "                    out_kp += h_kp * self.propagate(adj_sparse_tensor, x = x_t_minus_p, k = k)\n",
    "\n",
    "            out[:, i_p] = out_kp.view(-1)\n",
    "\n",
    "        return self.m(out)\n",
    "\n",
    "    def propagate(self, adj_sparse_tensor, x = None, k = 1):\n",
    "        x_out = x\n",
    "        for _ in range(k):\n",
    "            x_out = adj_sparse_tensor.matmul(x_out)\n",
    "        return x_out\n",
    "\n",
    "class TemporalGCN(nn.Module):\n",
    "    def __init__(self, in_channels, out_channels, K, P):\n",
    "        super(TemporalGCN, self).__init__()\n",
    "        self.gcn_layer = TemporalGCNLayer(in_channels, out_channels, K, P)\n",
    "\n",
    "    def forward(self, dataset):\n",
    "        return self.gcn_layer(dataset)\n",
    "\n",
    "# Initialize the model\n",
    "in_channels = 1 # 1 feature\n",
    "out_channels = 1 # 1 feature\n",
    "K = 2 # order of polynomial filter\n",
    "P = 12\n",
    "model = TemporalGCN(in_channels, out_channels, K, P).to(device)\n",
    "optimizer = torch.optim.Adam(model.parameters(), lr = 0.01)\n",
    "criterion = nn.MSELoss()"
   ]
  },
  {
   "cell_type": "code",
   "execution_count": 48,
   "id": "edd62447-2fbe-4e0f-b546-7600ee48b34f",
   "metadata": {},
   "outputs": [
    {
     "name": "stdout",
     "output_type": "stream",
     "text": [
      "The model has 36 parameters\n"
     ]
    }
   ],
   "source": [
    "# count the number of parameters to verify\n",
    "# for K = 2, P = 3, no. of parameters = 9\n",
    "def count_parameters(model):\n",
    "    return sum(p.numel() for p in model.parameters() if p.requires_grad)\n",
    "num_params = count_parameters(model)\n",
    "print(f'The model has {num_params} parameters')"
   ]
  },
  {
   "cell_type": "code",
   "execution_count": 49,
   "id": "56c09f40",
   "metadata": {},
   "outputs": [],
   "source": [
    "def get_target(window_idx, all_nodes, P):\n",
    "    target_timestamps = window_idx[P:]\n",
    "    # get target values for all the nodes active for training\n",
    "    # target = torch.tensor(df_agg.loc[df_agg.index[target_timestamp],list(all_nodes)].values).view(-1,1).float().to(device)\n",
    "    targets = torch.Tensor([])\n",
    "    for tt in target_timestamps:\n",
    "        if targets.numel() == 0:  # Check if targets is empty\n",
    "            targets = torch.tensor(df_agg.loc[df_agg.index[tt], list(all_nodes)].values).view(-1, 1).float()\n",
    "        else:\n",
    "            new_tensor = torch.tensor(df_agg.loc[df_agg.index[tt], list(all_nodes)].values).view(-1, 1).float()\n",
    "            targets = torch.cat((targets, new_tensor), dim=1)\n",
    "    targets = torch.nan_to_num(targets)\n",
    "    return targets"
   ]
  },
  {
   "cell_type": "code",
   "execution_count": 50,
   "id": "a60b0780-bfb5-47ea-ab20-5d3c3400f53a",
   "metadata": {},
   "outputs": [
    {
     "data": {
      "text/plain": [
       "{0: Data(x=[410, 1], edge_index=[2, 63454], edge_weight=[63454]),\n",
       " 1: Data(x=[410, 1], edge_index=[2, 63454], edge_weight=[63454]),\n",
       " 2: Data(x=[410, 1], edge_index=[2, 63454], edge_weight=[63454]),\n",
       " 3: Data(x=[410, 1], edge_index=[2, 63454], edge_weight=[63454]),\n",
       " 4: Data(x=[410, 1], edge_index=[2, 63454], edge_weight=[63454]),\n",
       " 5: Data(x=[410, 1], edge_index=[2, 63454], edge_weight=[63454]),\n",
       " 6: Data(x=[410, 1], edge_index=[2, 63454], edge_weight=[63454]),\n",
       " 7: Data(x=[410, 1], edge_index=[2, 63454], edge_weight=[63454]),\n",
       " 8: Data(x=[410, 1], edge_index=[2, 63454], edge_weight=[63454]),\n",
       " 9: Data(x=[410, 1], edge_index=[2, 63454], edge_weight=[63454]),\n",
       " 10: Data(x=[410, 1], edge_index=[2, 63454], edge_weight=[63454]),\n",
       " 11: Data(x=[410, 1], edge_index=[2, 63454], edge_weight=[63454]),\n",
       " 12: Data(x=[410, 1], edge_index=[2, 63454], edge_weight=[63454]),\n",
       " 13: Data(x=[410, 1], edge_index=[2, 63454], edge_weight=[63454]),\n",
       " 14: Data(x=[410, 1], edge_index=[2, 63454], edge_weight=[63454]),\n",
       " 15: Data(x=[410, 1], edge_index=[2, 63454], edge_weight=[63454]),\n",
       " 16: Data(x=[410, 1], edge_index=[2, 63454], edge_weight=[63454]),\n",
       " 17: Data(x=[410, 1], edge_index=[2, 63454], edge_weight=[63454]),\n",
       " 18: Data(x=[410, 1], edge_index=[2, 63454], edge_weight=[63454]),\n",
       " 19: Data(x=[410, 1], edge_index=[2, 63454], edge_weight=[63454]),\n",
       " 20: Data(x=[410, 1], edge_index=[2, 63454], edge_weight=[63454]),\n",
       " 21: Data(x=[410, 1], edge_index=[2, 63454], edge_weight=[63454]),\n",
       " 22: Data(x=[410, 1], edge_index=[2, 63454], edge_weight=[63454]),\n",
       " 23: Data(x=[410, 1], edge_index=[2, 63454], edge_weight=[63454]),\n",
       " 24: Data(x=[410, 1], edge_index=[2, 63454], edge_weight=[63454]),\n",
       " 25: Data(x=[410, 1], edge_index=[2, 63454], edge_weight=[63454]),\n",
       " 26: Data(x=[410, 1], edge_index=[2, 63454], edge_weight=[63454]),\n",
       " 27: Data(x=[410, 1], edge_index=[2, 63454], edge_weight=[63454]),\n",
       " 28: Data(x=[410, 1], edge_index=[2, 63454], edge_weight=[63454]),\n",
       " 29: Data(x=[410, 1], edge_index=[2, 63454], edge_weight=[63454]),\n",
       " 30: Data(x=[410, 1], edge_index=[2, 63454], edge_weight=[63454]),\n",
       " 31: Data(x=[410, 1], edge_index=[2, 63454], edge_weight=[63454]),\n",
       " 32: Data(x=[410, 1], edge_index=[2, 63454], edge_weight=[63454]),\n",
       " 33: Data(x=[410, 1], edge_index=[2, 63454], edge_weight=[63454]),\n",
       " 34: Data(x=[410, 1], edge_index=[2, 63454], edge_weight=[63454]),\n",
       " 35: Data(x=[410, 1], edge_index=[2, 63454], edge_weight=[63454]),\n",
       " 36: Data(x=[410, 1], edge_index=[2, 63454], edge_weight=[63454]),\n",
       " 37: Data(x=[410, 1], edge_index=[2, 63454], edge_weight=[63454]),\n",
       " 38: Data(x=[410, 1], edge_index=[2, 63454], edge_weight=[63454]),\n",
       " 39: Data(x=[410, 1], edge_index=[2, 63454], edge_weight=[63454]),\n",
       " 40: Data(x=[410, 1], edge_index=[2, 63454], edge_weight=[63454]),\n",
       " 41: Data(x=[410, 1], edge_index=[2, 63454], edge_weight=[63454]),\n",
       " 42: Data(x=[410, 1], edge_index=[2, 63454], edge_weight=[63454]),\n",
       " 43: Data(x=[410, 1], edge_index=[2, 63454], edge_weight=[63454]),\n",
       " 44: Data(x=[410, 1], edge_index=[2, 63454], edge_weight=[63454]),\n",
       " 45: Data(x=[410, 1], edge_index=[2, 63454], edge_weight=[63454]),\n",
       " 46: Data(x=[410, 1], edge_index=[2, 63454], edge_weight=[63454]),\n",
       " 47: Data(x=[410, 1], edge_index=[2, 63454], edge_weight=[63454])}"
      ]
     },
     "execution_count": 50,
     "metadata": {},
     "output_type": "execute_result"
    }
   ],
   "source": [
    "dataset.get_batch_instance(0)"
   ]
  },
  {
   "cell_type": "code",
   "execution_count": 61,
   "id": "e69c7401",
   "metadata": {},
   "outputs": [],
   "source": [
    "test_batch_windows = get_train_batch_blocks(train_test_blocks[2],train_test_blocks[3], batch_size = batch_size)\n",
    "test_dataset = TemporalGraphDataset(adjacency_matrix, df_agg)\n",
    "for b, window_idx in enumerate(test_batch_windows):\n",
    "    test_dataset.add_batch_instance(window_idx, b)"
   ]
  },
  {
   "cell_type": "code",
   "execution_count": 63,
   "id": "a5e6b978-38a6-4bc1-88c9-276d1b703889",
   "metadata": {},
   "outputs": [
    {
     "name": "stderr",
     "output_type": "stream",
     "text": [
      "  1%|          | 1/100 [00:29<48:07, 29.16s/it]"
     ]
    },
    {
     "name": "stdout",
     "output_type": "stream",
     "text": [
      "Epoch [1/100], Loss: 0.4324\n"
     ]
    },
    {
     "name": "stderr",
     "output_type": "stream",
     "text": [
      "  2%|▏         | 2/100 [00:57<47:09, 28.87s/it]"
     ]
    },
    {
     "name": "stdout",
     "output_type": "stream",
     "text": [
      "Epoch [2/100], Loss: 0.4323\n"
     ]
    },
    {
     "name": "stderr",
     "output_type": "stream",
     "text": [
      "  3%|▎         | 3/100 [01:26<46:50, 28.97s/it]"
     ]
    },
    {
     "name": "stdout",
     "output_type": "stream",
     "text": [
      "Epoch [3/100], Loss: 0.4323\n"
     ]
    },
    {
     "name": "stderr",
     "output_type": "stream",
     "text": [
      "  4%|▍         | 4/100 [01:56<46:35, 29.12s/it]"
     ]
    },
    {
     "name": "stdout",
     "output_type": "stream",
     "text": [
      "Epoch [4/100], Loss: 0.4323\n"
     ]
    },
    {
     "name": "stderr",
     "output_type": "stream",
     "text": [
      "  5%|▌         | 5/100 [02:25<46:00, 29.06s/it]"
     ]
    },
    {
     "name": "stdout",
     "output_type": "stream",
     "text": [
      "Epoch [5/100], Loss: 0.4323\n"
     ]
    },
    {
     "name": "stderr",
     "output_type": "stream",
     "text": [
      "  6%|▌         | 6/100 [02:53<45:16, 28.90s/it]"
     ]
    },
    {
     "name": "stdout",
     "output_type": "stream",
     "text": [
      "Epoch [6/100], Loss: 0.4323\n"
     ]
    },
    {
     "name": "stderr",
     "output_type": "stream",
     "text": [
      "  7%|▋         | 7/100 [03:22<44:39, 28.82s/it]"
     ]
    },
    {
     "name": "stdout",
     "output_type": "stream",
     "text": [
      "Epoch [7/100], Loss: 0.4323\n"
     ]
    },
    {
     "name": "stderr",
     "output_type": "stream",
     "text": [
      "  8%|▊         | 8/100 [03:51<44:08, 28.79s/it]"
     ]
    },
    {
     "name": "stdout",
     "output_type": "stream",
     "text": [
      "Epoch [8/100], Loss: 0.4322\n"
     ]
    },
    {
     "name": "stderr",
     "output_type": "stream",
     "text": [
      "  9%|▉         | 9/100 [04:21<44:19, 29.22s/it]"
     ]
    },
    {
     "name": "stdout",
     "output_type": "stream",
     "text": [
      "Epoch [9/100], Loss: 0.4322\n"
     ]
    },
    {
     "name": "stderr",
     "output_type": "stream",
     "text": [
      " 10%|█         | 10/100 [04:51<44:07, 29.42s/it]"
     ]
    },
    {
     "name": "stdout",
     "output_type": "stream",
     "text": [
      "Epoch [10/100], Loss: 0.4322\n"
     ]
    },
    {
     "name": "stderr",
     "output_type": "stream",
     "text": [
      " 11%|█         | 11/100 [05:20<43:24, 29.26s/it]"
     ]
    },
    {
     "name": "stdout",
     "output_type": "stream",
     "text": [
      "Epoch [11/100], Loss: 0.4322\n"
     ]
    },
    {
     "name": "stderr",
     "output_type": "stream",
     "text": [
      " 12%|█▏        | 12/100 [05:49<42:49, 29.20s/it]"
     ]
    },
    {
     "name": "stdout",
     "output_type": "stream",
     "text": [
      "Epoch [12/100], Loss: 0.4322\n"
     ]
    },
    {
     "name": "stderr",
     "output_type": "stream",
     "text": [
      " 13%|█▎        | 13/100 [06:18<42:12, 29.11s/it]"
     ]
    },
    {
     "name": "stdout",
     "output_type": "stream",
     "text": [
      "Epoch [13/100], Loss: 0.4321\n"
     ]
    },
    {
     "name": "stderr",
     "output_type": "stream",
     "text": [
      " 14%|█▍        | 14/100 [06:47<41:42, 29.10s/it]"
     ]
    },
    {
     "name": "stdout",
     "output_type": "stream",
     "text": [
      "Epoch [14/100], Loss: 0.4321\n"
     ]
    },
    {
     "name": "stderr",
     "output_type": "stream",
     "text": [
      " 15%|█▌        | 15/100 [07:17<41:41, 29.43s/it]"
     ]
    },
    {
     "name": "stdout",
     "output_type": "stream",
     "text": [
      "Epoch [15/100], Loss: 0.4321\n"
     ]
    },
    {
     "name": "stderr",
     "output_type": "stream",
     "text": [
      " 16%|█▌        | 16/100 [07:46<41:04, 29.34s/it]"
     ]
    },
    {
     "name": "stdout",
     "output_type": "stream",
     "text": [
      "Epoch [16/100], Loss: 0.4321\n"
     ]
    },
    {
     "name": "stderr",
     "output_type": "stream",
     "text": [
      " 17%|█▋        | 17/100 [08:15<40:23, 29.20s/it]"
     ]
    },
    {
     "name": "stdout",
     "output_type": "stream",
     "text": [
      "Epoch [17/100], Loss: 0.4321\n"
     ]
    },
    {
     "name": "stderr",
     "output_type": "stream",
     "text": [
      " 18%|█▊        | 18/100 [08:44<39:42, 29.06s/it]"
     ]
    },
    {
     "name": "stdout",
     "output_type": "stream",
     "text": [
      "Epoch [18/100], Loss: 0.4320\n"
     ]
    },
    {
     "name": "stderr",
     "output_type": "stream",
     "text": [
      " 19%|█▉        | 19/100 [09:13<39:23, 29.18s/it]"
     ]
    },
    {
     "name": "stdout",
     "output_type": "stream",
     "text": [
      "Epoch [19/100], Loss: 0.4320\n"
     ]
    },
    {
     "name": "stderr",
     "output_type": "stream",
     "text": [
      " 20%|██        | 20/100 [09:43<39:01, 29.27s/it]"
     ]
    },
    {
     "name": "stdout",
     "output_type": "stream",
     "text": [
      "Epoch [20/100], Loss: 0.4320\n"
     ]
    },
    {
     "name": "stderr",
     "output_type": "stream",
     "text": [
      " 21%|██        | 21/100 [10:11<38:21, 29.13s/it]"
     ]
    },
    {
     "name": "stdout",
     "output_type": "stream",
     "text": [
      "Epoch [21/100], Loss: 0.4320\n"
     ]
    },
    {
     "name": "stderr",
     "output_type": "stream",
     "text": [
      " 22%|██▏       | 22/100 [10:41<38:07, 29.33s/it]"
     ]
    },
    {
     "name": "stdout",
     "output_type": "stream",
     "text": [
      "Epoch [22/100], Loss: 0.4319\n"
     ]
    },
    {
     "name": "stderr",
     "output_type": "stream",
     "text": [
      " 23%|██▎       | 23/100 [11:11<37:40, 29.36s/it]"
     ]
    },
    {
     "name": "stdout",
     "output_type": "stream",
     "text": [
      "Epoch [23/100], Loss: 0.4319\n"
     ]
    },
    {
     "name": "stderr",
     "output_type": "stream",
     "text": [
      " 24%|██▍       | 24/100 [11:40<37:07, 29.31s/it]"
     ]
    },
    {
     "name": "stdout",
     "output_type": "stream",
     "text": [
      "Epoch [24/100], Loss: 0.4319\n"
     ]
    },
    {
     "name": "stderr",
     "output_type": "stream",
     "text": [
      " 25%|██▌       | 25/100 [12:09<36:43, 29.38s/it]"
     ]
    },
    {
     "name": "stdout",
     "output_type": "stream",
     "text": [
      "Epoch [25/100], Loss: 0.4319\n"
     ]
    },
    {
     "name": "stderr",
     "output_type": "stream",
     "text": [
      " 26%|██▌       | 26/100 [12:38<35:56, 29.14s/it]"
     ]
    },
    {
     "name": "stdout",
     "output_type": "stream",
     "text": [
      "Epoch [26/100], Loss: 0.4318\n"
     ]
    },
    {
     "name": "stderr",
     "output_type": "stream",
     "text": [
      " 27%|██▋       | 27/100 [13:09<36:05, 29.66s/it]"
     ]
    },
    {
     "name": "stdout",
     "output_type": "stream",
     "text": [
      "Epoch [27/100], Loss: 0.4318\n"
     ]
    },
    {
     "name": "stderr",
     "output_type": "stream",
     "text": [
      " 28%|██▊       | 28/100 [13:38<35:20, 29.45s/it]"
     ]
    },
    {
     "name": "stdout",
     "output_type": "stream",
     "text": [
      "Epoch [28/100], Loss: 0.4318\n"
     ]
    },
    {
     "name": "stderr",
     "output_type": "stream",
     "text": [
      " 29%|██▉       | 29/100 [14:07<34:56, 29.53s/it]"
     ]
    },
    {
     "name": "stdout",
     "output_type": "stream",
     "text": [
      "Epoch [29/100], Loss: 0.4318\n"
     ]
    },
    {
     "name": "stderr",
     "output_type": "stream",
     "text": [
      " 30%|███       | 30/100 [14:37<34:32, 29.61s/it]"
     ]
    },
    {
     "name": "stdout",
     "output_type": "stream",
     "text": [
      "Epoch [30/100], Loss: 0.4317\n"
     ]
    },
    {
     "name": "stderr",
     "output_type": "stream",
     "text": [
      " 31%|███       | 31/100 [15:07<34:00, 29.58s/it]"
     ]
    },
    {
     "name": "stdout",
     "output_type": "stream",
     "text": [
      "Epoch [31/100], Loss: 0.4317\n"
     ]
    },
    {
     "name": "stderr",
     "output_type": "stream",
     "text": [
      " 32%|███▏      | 32/100 [15:36<33:25, 29.49s/it]"
     ]
    },
    {
     "name": "stdout",
     "output_type": "stream",
     "text": [
      "Epoch [32/100], Loss: 0.4317\n"
     ]
    },
    {
     "name": "stderr",
     "output_type": "stream",
     "text": [
      " 33%|███▎      | 33/100 [16:05<32:49, 29.39s/it]"
     ]
    },
    {
     "name": "stdout",
     "output_type": "stream",
     "text": [
      "Epoch [33/100], Loss: 0.4317\n"
     ]
    },
    {
     "name": "stderr",
     "output_type": "stream",
     "text": [
      " 34%|███▍      | 34/100 [16:34<32:11, 29.27s/it]"
     ]
    },
    {
     "name": "stdout",
     "output_type": "stream",
     "text": [
      "Epoch [34/100], Loss: 0.4316\n"
     ]
    },
    {
     "name": "stderr",
     "output_type": "stream",
     "text": [
      " 35%|███▌      | 35/100 [17:04<31:49, 29.38s/it]"
     ]
    },
    {
     "name": "stdout",
     "output_type": "stream",
     "text": [
      "Epoch [35/100], Loss: 0.4316\n"
     ]
    },
    {
     "name": "stderr",
     "output_type": "stream",
     "text": [
      " 36%|███▌      | 36/100 [17:34<31:27, 29.50s/it]"
     ]
    },
    {
     "name": "stdout",
     "output_type": "stream",
     "text": [
      "Epoch [36/100], Loss: 0.4316\n"
     ]
    },
    {
     "name": "stderr",
     "output_type": "stream",
     "text": [
      " 37%|███▋      | 37/100 [18:03<30:48, 29.34s/it]"
     ]
    },
    {
     "name": "stdout",
     "output_type": "stream",
     "text": [
      "Epoch [37/100], Loss: 0.4316\n"
     ]
    },
    {
     "name": "stderr",
     "output_type": "stream",
     "text": [
      " 38%|███▊      | 38/100 [18:32<30:16, 29.30s/it]"
     ]
    },
    {
     "name": "stdout",
     "output_type": "stream",
     "text": [
      "Epoch [38/100], Loss: 0.4315\n"
     ]
    },
    {
     "name": "stderr",
     "output_type": "stream",
     "text": [
      " 39%|███▉      | 39/100 [19:00<29:33, 29.07s/it]"
     ]
    },
    {
     "name": "stdout",
     "output_type": "stream",
     "text": [
      "Epoch [39/100], Loss: 0.4315\n"
     ]
    },
    {
     "name": "stderr",
     "output_type": "stream",
     "text": [
      " 40%|████      | 40/100 [19:29<29:02, 29.04s/it]"
     ]
    },
    {
     "name": "stdout",
     "output_type": "stream",
     "text": [
      "Epoch [40/100], Loss: 0.4315\n"
     ]
    },
    {
     "name": "stderr",
     "output_type": "stream",
     "text": [
      " 41%|████      | 41/100 [19:58<28:33, 29.05s/it]"
     ]
    },
    {
     "name": "stdout",
     "output_type": "stream",
     "text": [
      "Epoch [41/100], Loss: 0.4315\n"
     ]
    },
    {
     "name": "stderr",
     "output_type": "stream",
     "text": [
      " 42%|████▏     | 42/100 [20:27<28:05, 29.05s/it]"
     ]
    },
    {
     "name": "stdout",
     "output_type": "stream",
     "text": [
      "Epoch [42/100], Loss: 0.4314\n"
     ]
    },
    {
     "name": "stderr",
     "output_type": "stream",
     "text": [
      " 43%|████▎     | 43/100 [20:56<27:28, 28.93s/it]"
     ]
    },
    {
     "name": "stdout",
     "output_type": "stream",
     "text": [
      "Epoch [43/100], Loss: 0.4314\n"
     ]
    },
    {
     "name": "stderr",
     "output_type": "stream",
     "text": [
      " 44%|████▍     | 44/100 [21:25<27:04, 29.00s/it]"
     ]
    },
    {
     "name": "stdout",
     "output_type": "stream",
     "text": [
      "Epoch [44/100], Loss: 0.4314\n"
     ]
    },
    {
     "name": "stderr",
     "output_type": "stream",
     "text": [
      " 45%|████▌     | 45/100 [21:54<26:34, 29.00s/it]"
     ]
    },
    {
     "name": "stdout",
     "output_type": "stream",
     "text": [
      "Epoch [45/100], Loss: 0.4314\n"
     ]
    },
    {
     "name": "stderr",
     "output_type": "stream",
     "text": [
      " 46%|████▌     | 46/100 [22:24<26:15, 29.17s/it]"
     ]
    },
    {
     "name": "stdout",
     "output_type": "stream",
     "text": [
      "Epoch [46/100], Loss: 0.4313\n"
     ]
    },
    {
     "name": "stderr",
     "output_type": "stream",
     "text": [
      " 47%|████▋     | 47/100 [22:54<26:02, 29.48s/it]"
     ]
    },
    {
     "name": "stdout",
     "output_type": "stream",
     "text": [
      "Epoch [47/100], Loss: 0.4313\n"
     ]
    },
    {
     "name": "stderr",
     "output_type": "stream",
     "text": [
      " 48%|████▊     | 48/100 [23:24<25:43, 29.68s/it]"
     ]
    },
    {
     "name": "stdout",
     "output_type": "stream",
     "text": [
      "Epoch [48/100], Loss: 0.4313\n"
     ]
    },
    {
     "name": "stderr",
     "output_type": "stream",
     "text": [
      " 49%|████▉     | 49/100 [23:53<25:05, 29.51s/it]"
     ]
    },
    {
     "name": "stdout",
     "output_type": "stream",
     "text": [
      "Epoch [49/100], Loss: 0.4313\n"
     ]
    },
    {
     "name": "stderr",
     "output_type": "stream",
     "text": [
      " 50%|█████     | 50/100 [24:23<24:32, 29.46s/it]"
     ]
    },
    {
     "name": "stdout",
     "output_type": "stream",
     "text": [
      "Epoch [50/100], Loss: 0.4312\n"
     ]
    },
    {
     "name": "stderr",
     "output_type": "stream",
     "text": [
      " 51%|█████     | 51/100 [24:52<23:57, 29.33s/it]"
     ]
    },
    {
     "name": "stdout",
     "output_type": "stream",
     "text": [
      "Epoch [51/100], Loss: 0.4312\n"
     ]
    },
    {
     "name": "stderr",
     "output_type": "stream",
     "text": [
      " 52%|█████▏    | 52/100 [25:22<23:38, 29.56s/it]"
     ]
    },
    {
     "name": "stdout",
     "output_type": "stream",
     "text": [
      "Epoch [52/100], Loss: 0.4312\n"
     ]
    },
    {
     "name": "stderr",
     "output_type": "stream",
     "text": [
      " 53%|█████▎    | 53/100 [25:51<23:05, 29.48s/it]"
     ]
    },
    {
     "name": "stdout",
     "output_type": "stream",
     "text": [
      "Epoch [53/100], Loss: 0.4311\n"
     ]
    },
    {
     "name": "stderr",
     "output_type": "stream",
     "text": [
      " 54%|█████▍    | 54/100 [26:20<22:31, 29.39s/it]"
     ]
    },
    {
     "name": "stdout",
     "output_type": "stream",
     "text": [
      "Epoch [54/100], Loss: 0.4311\n"
     ]
    },
    {
     "name": "stderr",
     "output_type": "stream",
     "text": [
      " 55%|█████▌    | 55/100 [26:50<22:03, 29.41s/it]"
     ]
    },
    {
     "name": "stdout",
     "output_type": "stream",
     "text": [
      "Epoch [55/100], Loss: 0.4311\n"
     ]
    },
    {
     "name": "stderr",
     "output_type": "stream",
     "text": [
      " 56%|█████▌    | 56/100 [27:19<21:30, 29.33s/it]"
     ]
    },
    {
     "name": "stdout",
     "output_type": "stream",
     "text": [
      "Epoch [56/100], Loss: 0.4311\n"
     ]
    },
    {
     "name": "stderr",
     "output_type": "stream",
     "text": [
      " 57%|█████▋    | 57/100 [27:49<21:10, 29.55s/it]"
     ]
    },
    {
     "name": "stdout",
     "output_type": "stream",
     "text": [
      "Epoch [57/100], Loss: 0.4310\n"
     ]
    },
    {
     "name": "stderr",
     "output_type": "stream",
     "text": [
      " 58%|█████▊    | 58/100 [28:18<20:36, 29.45s/it]"
     ]
    },
    {
     "name": "stdout",
     "output_type": "stream",
     "text": [
      "Epoch [58/100], Loss: 0.4310\n"
     ]
    },
    {
     "name": "stderr",
     "output_type": "stream",
     "text": [
      " 59%|█████▉    | 59/100 [28:47<20:01, 29.30s/it]"
     ]
    },
    {
     "name": "stdout",
     "output_type": "stream",
     "text": [
      "Epoch [59/100], Loss: 0.4310\n"
     ]
    },
    {
     "name": "stderr",
     "output_type": "stream",
     "text": [
      " 60%|██████    | 60/100 [29:16<19:25, 29.15s/it]"
     ]
    },
    {
     "name": "stdout",
     "output_type": "stream",
     "text": [
      "Epoch [60/100], Loss: 0.4310\n"
     ]
    },
    {
     "name": "stderr",
     "output_type": "stream",
     "text": [
      " 61%|██████    | 61/100 [29:44<18:51, 29.01s/it]"
     ]
    },
    {
     "name": "stdout",
     "output_type": "stream",
     "text": [
      "Epoch [61/100], Loss: 0.4309\n"
     ]
    },
    {
     "name": "stderr",
     "output_type": "stream",
     "text": [
      " 62%|██████▏   | 62/100 [30:13<18:19, 28.93s/it]"
     ]
    },
    {
     "name": "stdout",
     "output_type": "stream",
     "text": [
      "Epoch [62/100], Loss: 0.4309\n"
     ]
    },
    {
     "name": "stderr",
     "output_type": "stream",
     "text": [
      " 63%|██████▎   | 63/100 [30:42<17:49, 28.91s/it]"
     ]
    },
    {
     "name": "stdout",
     "output_type": "stream",
     "text": [
      "Epoch [63/100], Loss: 0.4309\n"
     ]
    },
    {
     "name": "stderr",
     "output_type": "stream",
     "text": [
      " 64%|██████▍   | 64/100 [31:11<17:19, 28.87s/it]"
     ]
    },
    {
     "name": "stdout",
     "output_type": "stream",
     "text": [
      "Epoch [64/100], Loss: 0.4309\n"
     ]
    },
    {
     "name": "stderr",
     "output_type": "stream",
     "text": [
      " 65%|██████▌   | 65/100 [31:39<16:47, 28.78s/it]"
     ]
    },
    {
     "name": "stdout",
     "output_type": "stream",
     "text": [
      "Epoch [65/100], Loss: 0.4308\n"
     ]
    },
    {
     "name": "stderr",
     "output_type": "stream",
     "text": [
      " 66%|██████▌   | 66/100 [32:08<16:16, 28.72s/it]"
     ]
    },
    {
     "name": "stdout",
     "output_type": "stream",
     "text": [
      "Epoch [66/100], Loss: 0.4308\n"
     ]
    },
    {
     "name": "stderr",
     "output_type": "stream",
     "text": [
      " 67%|██████▋   | 67/100 [32:37<15:46, 28.69s/it]"
     ]
    },
    {
     "name": "stdout",
     "output_type": "stream",
     "text": [
      "Epoch [67/100], Loss: 0.4308\n"
     ]
    },
    {
     "name": "stderr",
     "output_type": "stream",
     "text": [
      " 68%|██████▊   | 68/100 [33:05<15:19, 28.72s/it]"
     ]
    },
    {
     "name": "stdout",
     "output_type": "stream",
     "text": [
      "Epoch [68/100], Loss: 0.4308\n"
     ]
    },
    {
     "name": "stderr",
     "output_type": "stream",
     "text": [
      " 69%|██████▉   | 69/100 [33:34<14:52, 28.79s/it]"
     ]
    },
    {
     "name": "stdout",
     "output_type": "stream",
     "text": [
      "Epoch [69/100], Loss: 0.4308\n"
     ]
    },
    {
     "name": "stderr",
     "output_type": "stream",
     "text": [
      " 70%|███████   | 70/100 [34:03<14:25, 28.86s/it]"
     ]
    },
    {
     "name": "stdout",
     "output_type": "stream",
     "text": [
      "Epoch [70/100], Loss: 0.4307\n"
     ]
    },
    {
     "name": "stderr",
     "output_type": "stream",
     "text": [
      " 71%|███████   | 71/100 [34:32<13:58, 28.92s/it]"
     ]
    },
    {
     "name": "stdout",
     "output_type": "stream",
     "text": [
      "Epoch [71/100], Loss: 0.4307\n"
     ]
    },
    {
     "name": "stderr",
     "output_type": "stream",
     "text": [
      " 72%|███████▏  | 72/100 [35:02<13:34, 29.10s/it]"
     ]
    },
    {
     "name": "stdout",
     "output_type": "stream",
     "text": [
      "Epoch [72/100], Loss: 0.4307\n"
     ]
    },
    {
     "name": "stderr",
     "output_type": "stream",
     "text": [
      " 73%|███████▎  | 73/100 [35:32<13:09, 29.25s/it]"
     ]
    },
    {
     "name": "stdout",
     "output_type": "stream",
     "text": [
      "Epoch [73/100], Loss: 0.4307\n"
     ]
    },
    {
     "name": "stderr",
     "output_type": "stream",
     "text": [
      " 74%|███████▍  | 74/100 [36:00<12:37, 29.14s/it]"
     ]
    },
    {
     "name": "stdout",
     "output_type": "stream",
     "text": [
      "Epoch [74/100], Loss: 0.4306\n"
     ]
    },
    {
     "name": "stderr",
     "output_type": "stream",
     "text": [
      " 75%|███████▌  | 75/100 [36:30<12:10, 29.22s/it]"
     ]
    },
    {
     "name": "stdout",
     "output_type": "stream",
     "text": [
      "Epoch [75/100], Loss: 0.4306\n"
     ]
    },
    {
     "name": "stderr",
     "output_type": "stream",
     "text": [
      " 76%|███████▌  | 76/100 [36:59<11:39, 29.15s/it]"
     ]
    },
    {
     "name": "stdout",
     "output_type": "stream",
     "text": [
      "Epoch [76/100], Loss: 0.4306\n"
     ]
    },
    {
     "name": "stderr",
     "output_type": "stream",
     "text": [
      " 77%|███████▋  | 77/100 [37:28<11:09, 29.11s/it]"
     ]
    },
    {
     "name": "stdout",
     "output_type": "stream",
     "text": [
      "Epoch [77/100], Loss: 0.4306\n"
     ]
    },
    {
     "name": "stderr",
     "output_type": "stream",
     "text": [
      " 78%|███████▊  | 78/100 [37:57<10:38, 29.03s/it]"
     ]
    },
    {
     "name": "stdout",
     "output_type": "stream",
     "text": [
      "Epoch [78/100], Loss: 0.4305\n"
     ]
    },
    {
     "name": "stderr",
     "output_type": "stream",
     "text": [
      " 79%|███████▉  | 79/100 [38:26<10:09, 29.01s/it]"
     ]
    },
    {
     "name": "stdout",
     "output_type": "stream",
     "text": [
      "Epoch [79/100], Loss: 0.4305\n"
     ]
    },
    {
     "name": "stderr",
     "output_type": "stream",
     "text": [
      " 80%|████████  | 80/100 [38:55<09:39, 28.97s/it]"
     ]
    },
    {
     "name": "stdout",
     "output_type": "stream",
     "text": [
      "Epoch [80/100], Loss: 0.4305\n"
     ]
    },
    {
     "name": "stderr",
     "output_type": "stream",
     "text": [
      " 81%|████████  | 81/100 [39:24<09:10, 29.00s/it]"
     ]
    },
    {
     "name": "stdout",
     "output_type": "stream",
     "text": [
      "Epoch [81/100], Loss: 0.4305\n"
     ]
    },
    {
     "name": "stderr",
     "output_type": "stream",
     "text": [
      " 82%|████████▏ | 82/100 [39:53<08:42, 29.03s/it]"
     ]
    },
    {
     "name": "stdout",
     "output_type": "stream",
     "text": [
      "Epoch [82/100], Loss: 0.4305\n"
     ]
    },
    {
     "name": "stderr",
     "output_type": "stream",
     "text": [
      " 83%|████████▎ | 83/100 [40:22<08:16, 29.23s/it]"
     ]
    },
    {
     "name": "stdout",
     "output_type": "stream",
     "text": [
      "Epoch [83/100], Loss: 0.4304\n"
     ]
    },
    {
     "name": "stderr",
     "output_type": "stream",
     "text": [
      " 84%|████████▍ | 84/100 [40:52<07:47, 29.24s/it]"
     ]
    },
    {
     "name": "stdout",
     "output_type": "stream",
     "text": [
      "Epoch [84/100], Loss: 0.4304\n"
     ]
    },
    {
     "name": "stderr",
     "output_type": "stream",
     "text": [
      " 85%|████████▌ | 85/100 [41:22<07:21, 29.45s/it]"
     ]
    },
    {
     "name": "stdout",
     "output_type": "stream",
     "text": [
      "Epoch [85/100], Loss: 0.4304\n"
     ]
    },
    {
     "name": "stderr",
     "output_type": "stream",
     "text": [
      " 86%|████████▌ | 86/100 [41:52<06:55, 29.68s/it]"
     ]
    },
    {
     "name": "stdout",
     "output_type": "stream",
     "text": [
      "Epoch [86/100], Loss: 0.4304\n"
     ]
    },
    {
     "name": "stderr",
     "output_type": "stream",
     "text": [
      " 87%|████████▋ | 87/100 [42:22<06:26, 29.73s/it]"
     ]
    },
    {
     "name": "stdout",
     "output_type": "stream",
     "text": [
      "Epoch [87/100], Loss: 0.4304\n"
     ]
    },
    {
     "name": "stderr",
     "output_type": "stream",
     "text": [
      " 88%|████████▊ | 88/100 [42:51<05:55, 29.63s/it]"
     ]
    },
    {
     "name": "stdout",
     "output_type": "stream",
     "text": [
      "Epoch [88/100], Loss: 0.4303\n"
     ]
    },
    {
     "name": "stderr",
     "output_type": "stream",
     "text": [
      " 89%|████████▉ | 89/100 [43:21<05:26, 29.69s/it]"
     ]
    },
    {
     "name": "stdout",
     "output_type": "stream",
     "text": [
      "Epoch [89/100], Loss: 0.4303\n"
     ]
    },
    {
     "name": "stderr",
     "output_type": "stream",
     "text": [
      " 90%|█████████ | 90/100 [43:50<04:56, 29.63s/it]"
     ]
    },
    {
     "name": "stdout",
     "output_type": "stream",
     "text": [
      "Epoch [90/100], Loss: 0.4303\n"
     ]
    },
    {
     "name": "stderr",
     "output_type": "stream",
     "text": [
      " 91%|█████████ | 91/100 [44:20<04:27, 29.68s/it]"
     ]
    },
    {
     "name": "stdout",
     "output_type": "stream",
     "text": [
      "Epoch [91/100], Loss: 0.4303\n"
     ]
    },
    {
     "name": "stderr",
     "output_type": "stream",
     "text": [
      " 92%|█████████▏| 92/100 [44:50<03:57, 29.65s/it]"
     ]
    },
    {
     "name": "stdout",
     "output_type": "stream",
     "text": [
      "Epoch [92/100], Loss: 0.4302\n"
     ]
    },
    {
     "name": "stderr",
     "output_type": "stream",
     "text": [
      " 93%|█████████▎| 93/100 [45:19<03:27, 29.68s/it]"
     ]
    },
    {
     "name": "stdout",
     "output_type": "stream",
     "text": [
      "Epoch [93/100], Loss: 0.4302\n"
     ]
    },
    {
     "name": "stderr",
     "output_type": "stream",
     "text": [
      " 94%|█████████▍| 94/100 [45:49<02:57, 29.63s/it]"
     ]
    },
    {
     "name": "stdout",
     "output_type": "stream",
     "text": [
      "Epoch [94/100], Loss: 0.4302\n"
     ]
    },
    {
     "name": "stderr",
     "output_type": "stream",
     "text": [
      " 95%|█████████▌| 95/100 [46:18<02:27, 29.50s/it]"
     ]
    },
    {
     "name": "stdout",
     "output_type": "stream",
     "text": [
      "Epoch [95/100], Loss: 0.4302\n"
     ]
    },
    {
     "name": "stderr",
     "output_type": "stream",
     "text": [
      " 96%|█████████▌| 96/100 [46:48<01:58, 29.58s/it]"
     ]
    },
    {
     "name": "stdout",
     "output_type": "stream",
     "text": [
      "Epoch [96/100], Loss: 0.4302\n"
     ]
    },
    {
     "name": "stderr",
     "output_type": "stream",
     "text": [
      " 97%|█████████▋| 97/100 [47:17<01:28, 29.45s/it]"
     ]
    },
    {
     "name": "stdout",
     "output_type": "stream",
     "text": [
      "Epoch [97/100], Loss: 0.4301\n"
     ]
    },
    {
     "name": "stderr",
     "output_type": "stream",
     "text": [
      " 98%|█████████▊| 98/100 [47:46<00:58, 29.26s/it]"
     ]
    },
    {
     "name": "stdout",
     "output_type": "stream",
     "text": [
      "Epoch [98/100], Loss: 0.4301\n"
     ]
    },
    {
     "name": "stderr",
     "output_type": "stream",
     "text": [
      " 99%|█████████▉| 99/100 [48:15<00:29, 29.18s/it]"
     ]
    },
    {
     "name": "stdout",
     "output_type": "stream",
     "text": [
      "Epoch [99/100], Loss: 0.4301\n"
     ]
    },
    {
     "name": "stderr",
     "output_type": "stream",
     "text": [
      "100%|██████████| 100/100 [48:44<00:00, 29.25s/it]"
     ]
    },
    {
     "name": "stdout",
     "output_type": "stream",
     "text": [
      "Epoch [100/100], Loss: 0.4301\n",
      "Training Finished!\n"
     ]
    },
    {
     "name": "stderr",
     "output_type": "stream",
     "text": [
      "\n"
     ]
    }
   ],
   "source": [
    "# Training Loop\n",
    "num_epochs = 100\n",
    "\n",
    "train_losses = []\n",
    "test_losses = []\n",
    "\n",
    "predict=0\n",
    "for epoch in tqdm(range(num_epochs)):\n",
    "    batch_losses = []\n",
    "    for i, batch in enumerate(batch_windows):\n",
    "\n",
    "        model.train()\n",
    "        optimizer.zero_grad()\n",
    "\n",
    "        # Forward pass\n",
    "        predict = model(dataset.get_batch_instance(i))\n",
    "\n",
    "        target = get_target(batch, dataset.get_all_nodes(i), P)\n",
    "\n",
    "        loss = criterion(predict, target)\n",
    "        # Backward pass and optimization\n",
    "        loss.backward()\n",
    "        optimizer.step()\n",
    "        # train_losses.append(loss.item())\n",
    "        # print(f'Batch loss: {loss.item():.4f}')\n",
    "        batch_losses.append(loss.item())\n",
    "    train_losses.append(sum(batch_losses)/batch.shape[0])\n",
    "\n",
    "    batch_losses = []\n",
    "    for i, batch in enumerate(test_batch_windows):\n",
    "        model.eval()\n",
    "        optimizer.zero_grad()\n",
    "        # Forward pass\n",
    "        predict = model(test_dataset.get_batch_instance(i))\n",
    "\n",
    "        target = get_target(batch, test_dataset.get_all_nodes(i), P)\n",
    "\n",
    "        loss = criterion(predict, target)\n",
    "        batch_losses.append(loss.item())\n",
    "\n",
    "    test_losses.append(sum(batch_losses)/batch.shape[0])\n",
    "    print(f'Epoch [{epoch+1}/{num_epochs}], Loss: {sum(batch_losses)/batch.shape[0]:.4f}')\n",
    "\n",
    "print(\"Training Finished!\")"
   ]
  },
  {
   "cell_type": "code",
   "execution_count": 64,
   "id": "a937a36a",
   "metadata": {},
   "outputs": [
    {
     "data": {
      "text/plain": [
       "<matplotlib.legend.Legend at 0x3748f6250>"
      ]
     },
     "execution_count": 64,
     "metadata": {},
     "output_type": "execute_result"
    },
    {
     "data": {
      "application/vnd.jupyter.widget-view+json": {
       "model_id": "5c4057606ccb4d0b84e61778910636c8",
       "version_major": 2,
       "version_minor": 0
      },
      "image/png": "[encoded data removed]",
      "text/html": [
       "\n",
       "            <div style=\"display: inline-block;\">\n",
       "                <div class=\"jupyter-widgets widget-label\" style=\"text-align: center;\">\n",
       "                    Figure\n",
       "                </div>\n",
       "                <img src='data:image/png;base64,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' width=800.0/>\n",
       "            </div>\n",
       "        "
      ],
      "text/plain": [
       "Canvas(toolbar=Toolbar(toolitems=[('Home', 'Reset original view', 'home', 'home'), ('Back', 'Back to previous …"
      ]
     },
     "metadata": {},
     "output_type": "display_data"
    }
   ],
   "source": [
    "fig, ax = plt.subplots()\n",
    "ax.plot(train_losses, label='Training Loss')\n",
    "ax.plot(test_losses, label='Validation Loss')\n",
    "ax.set_xlabel('Epochs')\n",
    "ax.set_ylabel('Loss')\n",
    "ax.set_title('Training Loss')\n",
    "ax.legend()"
   ]
  },
  {
   "cell_type": "code",
   "execution_count": 55,
   "id": "d971b9be",
   "metadata": {},
   "outputs": [],
   "source": [
    "test_batch_windows = get_train_batch_blocks(train_test_blocks[2],train_test_blocks[3], batch_size = batch_size)\n",
    "test_dataset = TemporalGraphDataset(adjacency_matrix, df_agg)\n",
    "for b, window_idx in enumerate(test_batch_windows):\n",
    "    test_dataset.add_batch_instance(window_idx, b)"
   ]
  },
  {
   "cell_type": "code",
   "execution_count": 57,
   "id": "2402e28b",
   "metadata": {},
   "outputs": [
    {
     "name": "stdout",
     "output_type": "stream",
     "text": [
      "Epoch [100/100], Loss: 0.4339\n",
      "Testing Finished!\n"
     ]
    }
   ],
   "source": [
    "# Training Loop\n",
    "num_epochs = 100\n",
    "\n",
    "test_losses = []\n",
    "\n",
    "predict = 0\n",
    "\n",
    "batch_losses = []\n",
    "for i, batch in enumerate(test_batch_windows):\n",
    "\n",
    "    model.eval()\n",
    "    optimizer.zero_grad()\n",
    "\n",
    "    # Forward pass\n",
    "    predict = model(test_dataset.get_batch_instance(i))\n",
    "\n",
    "    target = get_target(batch, test_dataset.get_all_nodes(i), P)\n",
    "\n",
    "    loss = criterion(predict, target)\n",
    "    batch_losses.append(loss.item())\n",
    "\n",
    "# if (epoch+1) % 20 == 0:\n",
    "test_losses.append(sum(batch_losses)/batch.shape[0])\n",
    "print(f'Epoch [{epoch+1}/{num_epochs}], Loss: {sum(batch_losses)/batch.shape[0]:.4f}')\n",
    "print(\"Testing Finished!\")"
   ]
  },
  {
   "cell_type": "code",
   "execution_count": null,
   "id": "d6847275-1c8c-492a-94d7-349edaa8ef02",
   "metadata": {},
   "outputs": [
    {
     "data": {
      "text/plain": [
       "[<matplotlib.lines.Line2D at 0x1f37b5630d0>]"
      ]
     },
     "execution_count": 19,
     "metadata": {},
     "output_type": "execute_result"
    },
    {
     "data": {
      "application/vnd.jupyter.widget-view+json": {
       "model_id": "fd85140ee5be46018bf26546c641f102",
       "version_major": 2,
       "version_minor": 0
      },
      "image/png": "[encoded data removed]",
      "text/html": [
       "\n",
       "            <div style=\"display: inline-block;\">\n",
       "                <div class=\"jupyter-widgets widget-label\" style=\"text-align: center;\">\n",
       "                    Figure\n",
       "                </div>\n",
       "                <img src='data:image/png;base64,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' width=640.0/>\n",
       "            </div>\n",
       "        "
      ],
      "text/plain": [
       "Canvas(toolbar=Toolbar(toolitems=[('Home', 'Reset original view', 'home', 'home'), ('Back', 'Back to previous …"
      ]
     },
     "metadata": {},
     "output_type": "display_data"
    }
   ],
   "source": []
  },
  {
   "cell_type": "code",
   "execution_count": null,
   "id": "7d736c16-398f-41bb-b040-65276c5001e1",
   "metadata": {},
   "outputs": [],
   "source": [
    "# saving trained model\n",
    "torch.save(model.state_dict(), 'model_parameters.pth')"
   ]
  },
  {
   "cell_type": "code",
   "execution_count": null,
   "id": "d712a1bc-76bc-4eea-988f-1450330e038d",
   "metadata": {},
   "outputs": [],
   "source": [
    "# # Instantiate the model first\n",
    "# model = SimpleModel()\n",
    "\n",
    "# # Load the model parameters\n",
    "# model.load_state_dict(torch.load('model_parameters.pth'))\n",
    "# model.eval()  # Set the model to evaluation mode if you are using it for inference"
   ]
  },
  {
   "cell_type": "markdown",
   "id": "cd9ce433-2a62-40a0-b4fb-a783a3af2707",
   "metadata": {},
   "source": [
    "## Below part is not useful but kept for backup."
   ]
  },
  {
   "cell_type": "markdown",
   "id": "3e46300c-f1f7-4220-bdcb-490659d8f67e",
   "metadata": {},
   "source": [
    "### Build the supra-adjacency matrix $S_\\diamond$ from all the aligned subadjacency matrices \"book\" $\\$_i$ \n",
    "Build a supra-adjacency matrix for $n$ time instances using spatio-temporal coupling. Note: we cannot use the kronecker product here since at all instances, the adjacnecy matrix `aligned_subadj1/2/3` is different. "
   ]
  },
  {
   "cell_type": "code",
   "execution_count": null,
   "id": "e4febc29-ccba-4625-a1c0-fcf762ea3aab",
   "metadata": {},
   "outputs": [],
   "source": [
    "def supra_adjacency_matrix(aligned_subadj_book):\n",
    "\n",
    "    # convert the dict to stack\n",
    "    stacked_aligned_subadj = np.stack(list(aligned_book.values()), axis = -1)\n",
    "\n",
    "    # time instances\n",
    "    instances = stacked_aligned_subadj.shape[2]\n",
    "\n",
    "    # size of aligned\n",
    "    a_size = stacked_aligned_subadj.shape[0]\n",
    "\n",
    "    # supra\n",
    "    S = np.zeros((a_size*instances, a_size*instances))\n",
    "\n",
    "    # Place aligned at appropriate locations for spatio-temporal coupling\n",
    "    # temporal + own-node spatial component\n",
    "    for i in range(1,instances):\n",
    "        S[i*a_size:(i+1)*a_size, (i-1)*a_size:i*a_size] = stacked_aligned_subadj[...,i-1] + np.eye(a_size) # last term is own-node spatial component\n",
    "    # spatial coupling\n",
    "    for i in range(instances):\n",
    "        S[i*a_size:(i+1)*a_size, i*a_size:(i+1)*a_size] = stacked_aligned_subadj[...,i]\n",
    "\n",
    "    return S\n",
    "\n",
    "supra_adj_mat = supra_adjacency_matrix(aligned_book)"
   ]
  },
  {
   "cell_type": "code",
   "execution_count": null,
   "id": "3849704c-ad2a-4d0a-9028-66dd520ac2c4",
   "metadata": {},
   "outputs": [],
   "source": [
    "fig, ax = plt.subplots()\n",
    "plt.spy(supra_adj_mat)\n",
    "plt.show()"
   ]
  },
  {
   "cell_type": "markdown",
   "id": "bbeb5b21-4c05-4011-a545-96086d4d7382",
   "metadata": {},
   "source": [
    "### Imputation on Supra-adjacency matrix/Product Graph"
   ]
  },
  {
   "cell_type": "code",
   "execution_count": null,
   "id": "b708ab71-eedf-4401-b3ea-692ade3c84ac",
   "metadata": {},
   "outputs": [],
   "source": [
    "len(all_nodes)*len(window_idx)"
   ]
  },
  {
   "cell_type": "code",
   "execution_count": null,
   "id": "79f9215e-de17-42a0-8a4d-b64da5cf388b",
   "metadata": {},
   "outputs": [],
   "source": [
    "# fill the y_diamond using data\n",
    "y_diamond = np.zeros([len(all_nodes)*len(actnod_book), 1])\n",
    "\n",
    "# the index with corresponding lclid will get the data\n",
    "\n",
    "# 6th LCLid\n",
    "y_diamond[0] = df_agg.loc[df_agg.index[window_idx[0]],list(all_nodes)[0]]\n",
    "# 16th LCLid\n",
    "y_diamond[1] = df_agg.loc[df_agg.index[window_idx[1]], list(all_nodes)[1]]\n"
   ]
  }
 ],
 "metadata": {
  "kernelspec": {
   "display_name": "Python 3 (ipykernel)",
   "language": "python",
   "name": "python3"
  },
  "language_info": {
   "codemirror_mode": {
    "name": "ipython",
    "version": 3
   },
   "file_extension": ".py",
   "mimetype": "text/x-python",
   "name": "python",
   "nbconvert_exporter": "python",
   "pygments_lexer": "ipython3",
   "version": "3.11.7"
  }
 },
 "nbformat": 4,
 "nbformat_minor": 5
}
